{
 "cells": [
  {
   "cell_type": "markdown",
   "metadata": {},
   "source": [
    "## 期中考\n",
    "\n",
    "### 考試內容：session2~4\n",
    "\n",
    "### 考試時間：10/28 17:15~18:25\n",
    "\n",
    "### 考試相關說明\n",
    "\n",
    "- 總共10題，各題的分數寫在題目後面 總共100分\n",
    "- 各題有撰寫有意義的內容但答案有誤最高可拿60%的分數  正確答案則拿100%的分數 (暴力列出答案不算正確答案）\n",
    "- 繳交考卷以上傳到Google Classroom的時間為主，可重複繳交但不可遲交\n",
    "- 可open book（包含上網查資料），不可討論，不要開啟任何可能有通訊功能的網頁（e.x.Facebook、Gmail）\n",
    "- 任何討論行為視同作弊，以零分計算\n",
    "- 5:50分若有題目少於5個人寫出來，會給提示\n",
    "- 若遇到題目說明不清楚請再課堂上詢問\n",
    "- 若遇到題目出錯的狀況會統一送分"
   ]
  },
  {
   "cell_type": "markdown",
   "metadata": {},
   "source": [
    "------------------------我是分隔線------------------------"
   ]
  },
  {
   "cell_type": "markdown",
   "metadata": {},
   "source": [
    "#### 第一題(難度☆☆☆☆★) （15分）\n",
    "製作一個dictionary (no1_dict)，其中的key為台北捷運「綠線」的各站編號（G01~G19），value為各站的名字\n",
    "\n",
    "考試內容：dictionary"
   ]
  },
  {
   "cell_type": "markdown",
   "metadata": {},
   "source": [
    "#### 第二題(難度☆☆☆☆★)（15分）\n",
    "列出所有2315851的因數\n",
    "\n",
    "考試內容：for loop, if else, 判斷式, 數學運算"
   ]
  },
  {
   "cell_type": "code",
   "execution_count": null,
   "metadata": {},
   "outputs": [],
   "source": []
  },
  {
   "cell_type": "markdown",
   "metadata": {},
   "source": [
    "#### 第三題(難度☆☆☆★★)（12分）\n",
    "建立一個1~100的list，並用下列規則依序取代list裡的數值，最後再將結果印出來\n",
    "\n",
    "a.若開根號為整數，用\"a\"取代\n",
    "\n",
    "b.若是除3的餘數為2，用\"b\"取代\n",
    "\n",
    "考試內容：for loop, if else, 判斷式, 數學運算"
   ]
  },
  {
   "cell_type": "code",
   "execution_count": null,
   "metadata": {},
   "outputs": [],
   "source": []
  },
  {
   "cell_type": "markdown",
   "metadata": {},
   "source": [
    "#### 第四題(難度☆☆☆★★)（12分）\n",
    "list_one = [132, 21, 24, 11, 17]\n",
    "\n",
    "list_two = [13, 41, 24, 38, 12]\n",
    "\n",
    "建立一個新的list (no4_list），內部的項目為list_one裡的所有奇數以及list_two裡的所有偶數\n",
    "\n",
    "考試內容：list操作、if else、判斷式"
   ]
  },
  {
   "cell_type": "code",
   "execution_count": null,
   "metadata": {},
   "outputs": [],
   "source": []
  },
  {
   "cell_type": "markdown",
   "metadata": {},
   "source": [
    "#### 第五題(難度☆☆★★★)（10分）\n",
    "\n",
    "建立一個自訂函式（no6_function），讓輸入一個參數x時，會輸出一個list，其中的值為 0\\~x間的各個正整數、接著為x~0的各個正整數\n",
    "\n",
    "e.x. no6_function(ˇ) >> [0, 1, 2, 3, 2, 1, 0]\n",
    "\n",
    "e.x. no6_function(10) >> [0, 1, 2, 3, 4, 5, 6, 7, 8, 9, 10, 9, 8, 7, 6, 5, 4, 3, 2, 1, 0]\n",
    "\n",
    "考試內容：for loop, list操作, 數學運算\n"
   ]
  },
  {
   "cell_type": "code",
   "execution_count": null,
   "metadata": {},
   "outputs": [],
   "source": []
  },
  {
   "cell_type": "markdown",
   "metadata": {},
   "source": [
    "#### 第六題(難度☆☆★★★)（10分）\n",
    "no7_list=[12, 59, \"Chinese\", \"English\", 312,5, \"Math\", 0, \"Biology\"]\n",
    "\n",
    "將no7_list中的文字跟數字分成兩個不同的list並從小到大排序\n",
    "\n",
    "考試內容：sorted, list操作, 判斷式\n",
    "\n",
    "\n"
   ]
  },
  {
   "cell_type": "code",
   "execution_count": null,
   "metadata": {},
   "outputs": [],
   "source": []
  },
  {
   "cell_type": "markdown",
   "metadata": {},
   "source": [
    "#### 第七題(難度☆★★★★)（8分）\n",
    "no5_string = \"現在時刻10月28日晚上7點整\"\n",
    "\n",
    "用程式判斷這個字串內有多少的文字跟數字，並分別印出來\n",
    "\n",
    "範例答案 >> \n",
    "\n",
    "文字：3\n",
    "\n",
    "數字：1\n",
    "\n",
    "考試內容：str跟int的差異, 判斷式, for loop"
   ]
  },
  {
   "cell_type": "code",
   "execution_count": null,
   "metadata": {},
   "outputs": [],
   "source": []
  },
  {
   "cell_type": "markdown",
   "metadata": {},
   "source": [
    "#### 第八題(難度☆★★★★)（8分）\n",
    "斐波那契數列是數學上最有名的數列之一\n",
    "\n",
    "斐波那契數列由0和1開始，之後的斐波那契系數就是由之前的兩數相加而得出。（wiki）\n",
    "\n",
    "0, 1, 1, 2, 3, 5, 8, 13, 21, 34, 55, 89, 144, 233, ......\n",
    "\n",
    "請找出費伯納契數列中第一個超過10,000的數值為何？\n",
    "\n",
    "考試內容：if else, while, 數學運算, 變數操作"
   ]
  },
  {
   "cell_type": "code",
   "execution_count": null,
   "metadata": {},
   "outputs": [],
   "source": []
  },
  {
   "cell_type": "markdown",
   "metadata": {},
   "source": [
    "#### 第九題(難度★★★★★)（5分）\n",
    "no9_list = [3123,94350,31239,58401,30123]\n",
    "\n",
    "將no9_list每個數字的最大質因數相加在一起並且印出來\n",
    "\n",
    "e.x. [21,15,39]  >> 7+5+13 >> 25\n",
    "\n",
    "考試內容：for loop, if else, 數學操作"
   ]
  },
  {
   "cell_type": "code",
   "execution_count": null,
   "metadata": {},
   "outputs": [],
   "source": []
  },
  {
   "cell_type": "markdown",
   "metadata": {},
   "source": [
    "#### 第十題(難度★★★★★)（5分）\n",
    "no7_number = 31249053451831233\n",
    "\n",
    "檢查no7_number是否為7的倍數，如果是則將no7_number印出來\n",
    "\n",
    "如果不是，則移除數字中第一位數字（最左邊） >> 1249053451831233\n",
    "\n",
    "並再檢查一次這個新的數值是否為7的倍數，如果是則將這組數字印出來\n",
    "\n",
    "如果不是，則移除數字中最後一位數字（最右邊） >> 124905345183123\n",
    "\n",
    "並再檢查一次這個新的數值是否為7的倍數，如果是則將這組數字印出來\n",
    "\n",
    "不段重複這個步驟，直到有7的倍數為止，或是只剩一位數時將那個數字印出來"
   ]
  },
  {
   "cell_type": "code",
   "execution_count": null,
   "metadata": {},
   "outputs": [],
   "source": []
  }
 ],
 "metadata": {
  "kernelspec": {
   "display_name": "Python 3 (ipykernel)",
   "language": "python",
   "name": "python3"
  },
  "language_info": {
   "codemirror_mode": {
    "name": "ipython",
    "version": 3
   },
   "file_extension": ".py",
   "mimetype": "text/x-python",
   "name": "python",
   "nbconvert_exporter": "python",
   "pygments_lexer": "ipython3",
   "version": "3.9.10"
  }
 },
 "nbformat": 4,
 "nbformat_minor": 4
}
