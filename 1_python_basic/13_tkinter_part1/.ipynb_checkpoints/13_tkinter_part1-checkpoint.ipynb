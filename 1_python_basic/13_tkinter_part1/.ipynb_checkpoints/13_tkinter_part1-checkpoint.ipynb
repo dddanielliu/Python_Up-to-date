{
 "cells": [
  {
   "cell_type": "code",
   "execution_count": 1,
   "metadata": {},
   "outputs": [],
   "source": [
    "import tkinter as tk \n",
    "import math\n",
    "\n",
    "\n",
    "\n",
    "window = tk.Tk()\n",
    "window.geometry(\"700x500\")\n",
    "window.title(\"BMI Project\")\n",
    "window.configure(background=\"black\")\n",
    "\n",
    "def bmi_calculate():\n",
    "    height = float(height_entry.get())\n",
    "    weight = float(weight_entry.get())\n",
    "    bmi_count = (weight/height**2)\n",
    "    result = \"你的BMI值為: {} {}\".format(round(bmi_count,1), determine_bmi(bmi_count))\n",
    "    result = result + ' \\n '\n",
    "    result_label.configure(text=result)\n",
    "    \n",
    "def determine_bmi(bmi_count):\n",
    "    if bmi_count < 18:\n",
    "        return \"太輕了\"\n",
    "    elif bmi_count >=18 and bmi_count <=24:\n",
    "        return \"正常\"\n",
    "    elif bmi_count >24:\n",
    "        return \"太胖了\"\n",
    "\n",
    "label = tk.Label(window, text='BMI 計算器')\n",
    "label.pack()\n",
    "\n",
    "height_frame = tk.Frame(window)\n",
    "height_frame.pack(side=tk.TOP)\n",
    "height_label = tk.Label(height_frame, text='身高（m）')\n",
    "height_label.pack(side=tk.LEFT)\n",
    "height_entry = tk.Entry(height_frame)\n",
    "height_entry.pack(side=tk.LEFT)\n",
    "\n",
    "weight_frame = tk.Frame(window)\n",
    "weight_frame.pack(side=tk.TOP)\n",
    "weight_label = tk.Label(weight_frame, text='體重（kg）')\n",
    "weight_label.pack(side=tk.LEFT)\n",
    "weight_entry = tk.Entry(weight_frame)\n",
    "weight_entry.pack(side=tk.LEFT)\n",
    "\n",
    "result_label = tk.Label(background=\"white\")\n",
    "result_label.pack()\n",
    "\n",
    "calculate_btn = tk.Button(window, text='開始計算',command=bmi_calculate)\n",
    "calculate_btn.pack()\n",
    "\n",
    "\n",
    "\n",
    "window.mainloop()\n"
   ]
  },
  {
   "cell_type": "markdown",
   "metadata": {},
   "source": [
    "### Tkinter簡單的python GUI"
   ]
  },
  {
   "cell_type": "code",
   "execution_count": 1,
   "metadata": {},
   "outputs": [],
   "source": [
    "import tkinter as tk"
   ]
  },
  {
   "cell_type": "markdown",
   "metadata": {},
   "source": [
    "#### 基本設置"
   ]
  },
  {
   "cell_type": "code",
   "execution_count": 3,
   "metadata": {},
   "outputs": [],
   "source": [
    "window = tk.Tk()\n",
    "window.mainloop()"
   ]
  },
  {
   "cell_type": "code",
   "execution_count": 6,
   "metadata": {},
   "outputs": [],
   "source": [
    "window = tk.Tk()\n",
    "#geometry 設定尺寸\n",
    "window.geometry(\"300x200\")\n",
    "#title 視窗標題\n",
    "window.title('testing')\n",
    "window.mainloop()\n"
   ]
  },
  {
   "cell_type": "markdown",
   "metadata": {},
   "source": [
    "### 元件（Widgets)\n",
    "\n",
    "元件功能：https://www.tutorialspoint.com/python/python_gui_programming.htm"
   ]
  },
  {
   "cell_type": "code",
   "execution_count": 18,
   "metadata": {},
   "outputs": [],
   "source": [
    "window = tk.Tk()\n",
    "window.geometry(\"300x200\")\n",
    "#Button按鈕\n",
    "button = tk.Button(text=\"Red\",fg='green')\n",
    "button.pack()\n",
    "\n",
    "#Label文字方塊\n",
    "label = tk.Label(text='hahaha')\n",
    "label.pack()\n",
    "\n",
    "#entry輸入\n",
    "entry = tk.Entry()\n",
    "entry.pack()\n",
    "\n",
    "#scale拉桿\n",
    "scale = tk.Scale(from_=10,to=100)\n",
    "scale.pack()\n",
    "window.mainloop()\n"
   ]
  },
  {
   "cell_type": "code",
   "execution_count": 39,
   "metadata": {},
   "outputs": [],
   "source": [
    "##簡單樣式設定\n",
    "window = tk.Tk()\n",
    "window.geometry(\"300x200\")\n",
    "#Button按鈕\n",
    "button = tk.Button(text=\"Red\",fg='red',padx=10,pady=20,cursor=\"watch\")\n",
    "button.pack()\n",
    "\n",
    "#Label文字方塊\n",
    "label = tk.Label(text='hahahahahahhahahahahah',bg='yellow',fg='purple',padx=20,pady=3)\n",
    "label.pack()\n",
    "\n",
    "#entry輸入\n",
    "entry = tk.Entry(fg='red',show='*')\n",
    "entry.pack()\n",
    "\n",
    "#scale拉桿\n",
    "scale = tk.Scale(from_=10,to=100,resolution=10)\n",
    "scale.pack()\n",
    "window.mainloop()\n"
   ]
  },
  {
   "cell_type": "markdown",
   "metadata": {},
   "source": [
    "### 排版\n"
   ]
  },
  {
   "cell_type": "code",
   "execution_count": 10,
   "metadata": {},
   "outputs": [],
   "source": [
    "#Frame 區域\n",
    "#tk.TOP,LEFT,RIGHT,BOTTOM 絕對位置\n",
    "\n",
    "window = tk.Tk()\n",
    "window.geometry(\"300x200\")\n",
    "frame_1 = tk.Frame(window)\n",
    "frame_1.pack(side = tk.TOP)\n",
    "\n",
    "button_left = tk.Button(frame_1,text=\"left\")\n",
    "button_left.pack(side=tk.LEFT)\n",
    "button_right = tk.Button(frame_1,text=\"right\")\n",
    "button_right.pack(side=tk.RIGHT)\n",
    "\n",
    "frame_2 = tk.Frame(window)\n",
    "frame_2.pack(side = tk.TOP)\n",
    "button_down = tk.Button(frame_2,text=\"down\")\n",
    "button_down.pack()\n",
    "window.mainloop()"
   ]
  },
  {
   "cell_type": "markdown",
   "metadata": {},
   "source": [
    "### 回家作業\n",
    "將上學期的小遊戲（或是其他小遊戲）的介面做出來，請「務必」用文字簡述遊戲名稱及內容"
   ]
  },
  {
   "cell_type": "code",
   "execution_count": null,
   "metadata": {},
   "outputs": [],
   "source": []
  }
 ],
 "metadata": {
  "kernelspec": {
   "display_name": "Python 3 (ipykernel)",
   "language": "python",
   "name": "python3"
  },
  "language_info": {
   "codemirror_mode": {
    "name": "ipython",
    "version": 3
   },
   "file_extension": ".py",
   "mimetype": "text/x-python",
   "name": "python",
   "nbconvert_exporter": "python",
   "pygments_lexer": "ipython3",
   "version": "3.9.9"
  }
 },
 "nbformat": 4,
 "nbformat_minor": 4
}
