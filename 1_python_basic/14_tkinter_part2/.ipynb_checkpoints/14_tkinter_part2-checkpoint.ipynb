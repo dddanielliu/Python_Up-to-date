{
 "cells": [
  {
   "cell_type": "markdown",
   "metadata": {},
   "source": [
    "### Tkinter - part2 互動"
   ]
  },
  {
   "cell_type": "code",
   "execution_count": 2,
   "metadata": {},
   "outputs": [],
   "source": [
    "import tkinter as tk\n",
    "from tkinter import messagebox #要額外匯入的彈跳視窗"
   ]
  },
  {
   "cell_type": "markdown",
   "metadata": {},
   "source": [
    "### 輸入功能"
   ]
  },
  {
   "cell_type": "code",
   "execution_count": 3,
   "metadata": {},
   "outputs": [],
   "source": [
    "window = tk.Tk()\n",
    "window.geometry(\"300x200\")\n",
    "\n",
    "\n",
    "def new_label():\n",
    "    #text.get 存取輸入值\n",
    "    content = txt.get()\n",
    "    #呈現結果\n",
    "    tk.messagebox.showinfo(\"Title\", content)\n",
    "\n",
    "txt = tk.Entry(window)\n",
    "txt.pack()\n",
    "bt = tk.Button(window, text='Enter', command=new_label) #command為要觸發的功能\n",
    "bt.pack()\n",
    "window.mainloop()"
   ]
  },
  {
   "cell_type": "markdown",
   "metadata": {},
   "source": [
    "### 動態文字顯示\n"
   ]
  },
  {
   "cell_type": "code",
   "execution_count": 3,
   "metadata": {},
   "outputs": [],
   "source": [
    "window = tk.Tk()\n",
    "window.geometry(\"300x200\")\n",
    "\n",
    "\n",
    "def new_label():\n",
    "    #text.get 存取輸入值\n",
    "    content = txt.get()\n",
    "    #更新lbl內容\n",
    "    lbl['text'] = 'Hello There ' + content\n",
    "\n",
    "\n",
    "lbl = tk.Label(window, text='Enter Your Name:')\n",
    "lbl.pack()\n",
    "txt = tk.Entry(window)\n",
    "txt.pack()\n",
    "\n",
    "bt = tk.Button(window, text='Enter', command=new_label)\n",
    "bt.pack()\n",
    "window.mainloop()"
   ]
  },
  {
   "cell_type": "markdown",
   "metadata": {},
   "source": [
    "### 接收鍵盤指令\n",
    "https://web.archive.org/web/20190515021108id_/http://infohost.nmt.edu/tcc/help/pubs/tkinter/web/key-names.html"
   ]
  },
  {
   "cell_type": "code",
   "execution_count": 4,
   "metadata": {},
   "outputs": [
    {
     "name": "stdout",
     "output_type": "stream",
     "text": [
      "lala\n",
      "hahh\n"
     ]
    }
   ],
   "source": [
    "print('lala')\n",
    "print('hahh')"
   ]
  },
  {
   "cell_type": "code",
   "execution_count": 6,
   "metadata": {},
   "outputs": [
    {
     "name": "stdout",
     "output_type": "stream",
     "text": [
      "lala \n",
      "hahh\n"
     ]
    }
   ],
   "source": [
    "a = 'lala \\n'\n",
    "a = a+'hahh'\n",
    "print(a)"
   ]
  },
  {
   "cell_type": "code",
   "execution_count": 5,
   "metadata": {},
   "outputs": [],
   "source": [
    "window = tk.Tk()\n",
    "window.geometry(\"300x200\")\n",
    "\n",
    "def new_label(var): #注意要有一個參數喔\n",
    "    #text.get 存取輸入值\n",
    "    content = txt.get()\n",
    "    #更新lbl內容\n",
    "    lbl['text'] = 'Hello There ' + content\n",
    "    \n",
    "lbl = tk.Label(window, text='Enter Your Name:')\n",
    "lbl.pack()\n",
    "txt = tk.Entry(window)\n",
    "txt.pack()\n",
    "window.bind('<Return>', new_label)\n",
    "window.mainloop()"
   ]
  },
  {
   "cell_type": "markdown",
   "metadata": {},
   "source": [
    "### 回家作業\n",
    "將上學期的小遊戲（或是其他小遊戲）的功能做出來吧！"
   ]
  },
  {
   "cell_type": "code",
   "execution_count": null,
   "metadata": {},
   "outputs": [],
   "source": []
  },
  {
   "cell_type": "markdown",
   "metadata": {},
   "source": [
    "### 補充（ipynb轉py - 基礎篇）\n",
    "開新的文字檔之後把東西複製過去，並存成py的副檔名，即可在terminal裡面執行"
   ]
  },
  {
   "cell_type": "code",
   "execution_count": null,
   "metadata": {},
   "outputs": [],
   "source": []
  }
 ],
 "metadata": {
  "kernelspec": {
   "display_name": "Python 3 (ipykernel)",
   "language": "python",
   "name": "python3"
  },
  "language_info": {
   "codemirror_mode": {
    "name": "ipython",
    "version": 3
   },
   "file_extension": ".py",
   "mimetype": "text/x-python",
   "name": "python",
   "nbconvert_exporter": "python",
   "pygments_lexer": "ipython3",
   "version": "3.9.9"
  }
 },
 "nbformat": 4,
 "nbformat_minor": 4
}
