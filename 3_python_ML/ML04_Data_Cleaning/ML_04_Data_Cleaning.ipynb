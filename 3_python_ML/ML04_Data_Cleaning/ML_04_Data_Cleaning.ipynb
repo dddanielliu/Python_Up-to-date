{
 "cells": [
  {
   "cell_type": "markdown",
   "metadata": {},
   "source": [
    "### 這堂課目標\n",
    "#### 資料科學中最枯燥&需要花最多時間的事情（60~70%）\n",
    "<li>EDA (Exploratory data analysis) **這堂課不會討論\n",
    "<li>Data Cleaning：缺失值、錯誤值、離群值、重複值\n",
    "<li>Transformation：One-hot Encoding, Normalization, logarithm, \n",
    "<li>Feature Engineering：case by case"
   ]
  },
  {
   "cell_type": "code",
   "execution_count": 1,
   "metadata": {},
   "outputs": [],
   "source": [
    "import pandas as pd\n",
    "import numpy as np\n",
    "import matplotlib.pyplot as plt"
   ]
  },
  {
   "cell_type": "code",
   "execution_count": 2,
   "metadata": {},
   "outputs": [
    {
     "data": {
      "text/html": [
       "<div>\n",
       "<style scoped>\n",
       "    .dataframe tbody tr th:only-of-type {\n",
       "        vertical-align: middle;\n",
       "    }\n",
       "\n",
       "    .dataframe tbody tr th {\n",
       "        vertical-align: top;\n",
       "    }\n",
       "\n",
       "    .dataframe thead th {\n",
       "        text-align: right;\n",
       "    }\n",
       "</style>\n",
       "<table border=\"1\" class=\"dataframe\">\n",
       "  <thead>\n",
       "    <tr style=\"text-align: right;\">\n",
       "      <th></th>\n",
       "      <th>Timestamp</th>\n",
       "      <th>Entering Grade Level</th>\n",
       "      <th>District</th>\n",
       "      <th>Birth Month</th>\n",
       "      <th>OLSAT Verbal Score</th>\n",
       "      <th>OLSAT Verbal Percentile</th>\n",
       "      <th>NNAT Non Verbal Raw Score</th>\n",
       "      <th>NNAT Non Verbal Percentile</th>\n",
       "      <th>Overall Score</th>\n",
       "      <th>School Preferences</th>\n",
       "      <th>School Assigned</th>\n",
       "      <th>Will you enroll there?</th>\n",
       "    </tr>\n",
       "  </thead>\n",
       "  <tbody>\n",
       "    <tr>\n",
       "      <th>0</th>\n",
       "      <td>4/8/2017 6:44:01</td>\n",
       "      <td>1</td>\n",
       "      <td>6.0</td>\n",
       "      <td>September</td>\n",
       "      <td>28</td>\n",
       "      <td>99</td>\n",
       "      <td>45</td>\n",
       "      <td>99</td>\n",
       "      <td>99</td>\n",
       "      <td>NEST+m, TAG, Anderson, Q300</td>\n",
       "      <td>NEST</td>\n",
       "      <td>YES</td>\n",
       "    </tr>\n",
       "    <tr>\n",
       "      <th>1</th>\n",
       "      <td>4/7/2017 10:40:45</td>\n",
       "      <td>K</td>\n",
       "      <td>NaN</td>\n",
       "      <td>August</td>\n",
       "      <td>25</td>\n",
       "      <td>99</td>\n",
       "      <td>39</td>\n",
       "      <td>99</td>\n",
       "      <td>99</td>\n",
       "      <td>Anderson, NEST+m</td>\n",
       "      <td>NaN</td>\n",
       "      <td>Maybe</td>\n",
       "    </tr>\n",
       "    <tr>\n",
       "      <th>2</th>\n",
       "      <td>4/7/2017 10:41:56</td>\n",
       "      <td>1</td>\n",
       "      <td>NaN</td>\n",
       "      <td>March</td>\n",
       "      <td>27</td>\n",
       "      <td>96</td>\n",
       "      <td>42</td>\n",
       "      <td>99</td>\n",
       "      <td>98</td>\n",
       "      <td>NaN</td>\n",
       "      <td>NaN</td>\n",
       "      <td>Maybe</td>\n",
       "    </tr>\n",
       "    <tr>\n",
       "      <th>3</th>\n",
       "      <td>4/7/2017 10:43:31</td>\n",
       "      <td>K</td>\n",
       "      <td>NaN</td>\n",
       "      <td>September</td>\n",
       "      <td>23</td>\n",
       "      <td>97</td>\n",
       "      <td>40</td>\n",
       "      <td>99</td>\n",
       "      <td>98</td>\n",
       "      <td>NaN</td>\n",
       "      <td>NaN</td>\n",
       "      <td>NaN</td>\n",
       "    </tr>\n",
       "    <tr>\n",
       "      <th>4</th>\n",
       "      <td>4/10/2017 10:18:34</td>\n",
       "      <td>K</td>\n",
       "      <td>22.0</td>\n",
       "      <td>April</td>\n",
       "      <td>25</td>\n",
       "      <td>98</td>\n",
       "      <td>38</td>\n",
       "      <td>99</td>\n",
       "      <td>99</td>\n",
       "      <td>Brooklyn School of Inquiry</td>\n",
       "      <td>Currently - local Brooklyn dual language</td>\n",
       "      <td>Maybe</td>\n",
       "    </tr>\n",
       "  </tbody>\n",
       "</table>\n",
       "</div>"
      ],
      "text/plain": [
       "            Timestamp Entering Grade Level  District Birth Month  \\\n",
       "0    4/8/2017 6:44:01                    1       6.0   September   \n",
       "1   4/7/2017 10:40:45                    K       NaN      August   \n",
       "2   4/7/2017 10:41:56                    1       NaN       March   \n",
       "3   4/7/2017 10:43:31                    K       NaN   September   \n",
       "4  4/10/2017 10:18:34                    K      22.0       April   \n",
       "\n",
       "  OLSAT Verbal Score OLSAT Verbal Percentile NNAT Non Verbal Raw Score  \\\n",
       "0                 28                      99                        45   \n",
       "1                 25                      99                        39   \n",
       "2                 27                      96                        42   \n",
       "3                 23                      97                        40   \n",
       "4                 25                      98                        38   \n",
       "\n",
       "   NNAT Non Verbal Percentile  Overall Score           School Preferences  \\\n",
       "0                          99             99  NEST+m, TAG, Anderson, Q300   \n",
       "1                          99             99             Anderson, NEST+m   \n",
       "2                          99             98                          NaN   \n",
       "3                          99             98                          NaN   \n",
       "4                          99             99   Brooklyn School of Inquiry   \n",
       "\n",
       "                            School Assigned Will you enroll there?  \n",
       "0                                      NEST                    YES  \n",
       "1                                       NaN                  Maybe  \n",
       "2                                       NaN                  Maybe  \n",
       "3                                       NaN                    NaN  \n",
       "4  Currently - local Brooklyn dual language                  Maybe  "
      ]
     },
     "execution_count": 2,
     "metadata": {},
     "output_type": "execute_result"
    }
   ],
   "source": [
    "df = pd.read_csv('grade.csv')\n",
    "df.head()"
   ]
  },
  {
   "cell_type": "code",
   "execution_count": 3,
   "metadata": {},
   "outputs": [
    {
     "name": "stdout",
     "output_type": "stream",
     "text": [
      "<class 'pandas.core.frame.DataFrame'>\n",
      "RangeIndex: 117 entries, 0 to 116\n",
      "Data columns (total 12 columns):\n",
      "Timestamp                     117 non-null object\n",
      "Entering Grade Level          117 non-null object\n",
      "District                      101 non-null float64\n",
      "Birth Month                   117 non-null object\n",
      "OLSAT Verbal Score            117 non-null object\n",
      "OLSAT Verbal Percentile       117 non-null object\n",
      "NNAT Non Verbal Raw Score     117 non-null object\n",
      "NNAT Non Verbal Percentile    117 non-null int64\n",
      "Overall Score                 117 non-null int64\n",
      "School Preferences            75 non-null object\n",
      "School Assigned               29 non-null object\n",
      "Will you enroll there?        71 non-null object\n",
      "dtypes: float64(1), int64(2), object(9)\n",
      "memory usage: 11.0+ KB\n"
     ]
    }
   ],
   "source": [
    "df.info()"
   ]
  },
  {
   "cell_type": "markdown",
   "metadata": {},
   "source": [
    "#### 缺失值處理有幾種方法\n",
    "<ol>\n",
    "    <li>另外標記(另外開一個feature/column紀錄，並在原本的欄位加上0 or missing) *沒資料也是一種資料</li>\n",
    "    <li>用平均數填補</li>\n",
    "    <li>維持不動</li>\n",
    "</ol>\n"
   ]
  },
  {
   "cell_type": "code",
   "execution_count": 11,
   "metadata": {},
   "outputs": [],
   "source": [
    "df['District_missing'] = np.isnan(df.District)*1"
   ]
  },
  {
   "cell_type": "code",
   "execution_count": 13,
   "metadata": {},
   "outputs": [],
   "source": [
    "df['District']=df.District.fillna(0)"
   ]
  },
  {
   "cell_type": "markdown",
   "metadata": {},
   "source": [
    "#### 錯誤值要修正或移除"
   ]
  },
  {
   "cell_type": "code",
   "execution_count": 16,
   "metadata": {},
   "outputs": [
    {
     "data": {
      "text/plain": [
       "array(['1', 'K', '2', '3'], dtype=object)"
      ]
     },
     "execution_count": 16,
     "metadata": {},
     "output_type": "execute_result"
    }
   ],
   "source": [
    "df['Entering Grade Level'].unique()"
   ]
  },
  {
   "cell_type": "code",
   "execution_count": 17,
   "metadata": {},
   "outputs": [
    {
     "data": {
      "text/plain": [
       "array([ 6.,  0., 22., 11.,  3., 26., 28.,  2.,  1., 15., 25., 14., 20.,\n",
       "       32., 21., 24., 17., 30., 31.,  4.])"
      ]
     },
     "execution_count": 17,
     "metadata": {},
     "output_type": "execute_result"
    }
   ],
   "source": [
    "df['District'].unique()"
   ]
  },
  {
   "cell_type": "code",
   "execution_count": 18,
   "metadata": {},
   "outputs": [
    {
     "data": {
      "text/plain": [
       "array(['September', 'August', 'March', 'April', 'May', 'February',\n",
       "       'October', 'June', 'December', 'July', 'January', 'November'],\n",
       "      dtype=object)"
      ]
     },
     "execution_count": 18,
     "metadata": {},
     "output_type": "execute_result"
    }
   ],
   "source": [
    "df['Birth Month'].unique()"
   ]
  },
  {
   "cell_type": "code",
   "execution_count": 19,
   "metadata": {},
   "outputs": [
    {
     "data": {
      "text/plain": [
       "array(['99', '96', '97', '98', '81', '77', '86', '89', '87', '55', '83',\n",
       "       '88', '79', '95', '90', '69', '94', '~70', '93', '84'],\n",
       "      dtype=object)"
      ]
     },
     "execution_count": 19,
     "metadata": {},
     "output_type": "execute_result"
    }
   ],
   "source": [
    "df['OLSAT Verbal Percentile'].unique()"
   ]
  },
  {
   "cell_type": "code",
   "execution_count": 30,
   "metadata": {},
   "outputs": [
    {
     "data": {
      "text/plain": [
       "array([99, 96, 97, 98, 81, 77, 86, 89, 87, 55, 83, 88, 79, 95, 90, 69, 94,\n",
       "       70, 93, 84])"
      ]
     },
     "execution_count": 30,
     "metadata": {},
     "output_type": "execute_result"
    }
   ],
   "source": [
    "temp = []\n",
    "for i in df['OLSAT Verbal Percentile']:\n",
    "    if i=='~70':\n",
    "        temp.append(70)\n",
    "    else:\n",
    "        temp.append(int(i))\n",
    "df['OLSAT Verbal Percentile']=temp\n",
    "df['OLSAT Verbal Percentile'].unique()"
   ]
  },
  {
   "cell_type": "code",
   "execution_count": 31,
   "metadata": {},
   "outputs": [
    {
     "data": {
      "text/plain": [
       "array(['28', '25', '27', '23', '24', '26', '29', '17', '21', '32', '19',\n",
       "       '24/30', '13', '18', '23/30', '22', '17/30', '20', '99', '90',\n",
       "       '30', '35', 'Fill out later.', '19/30', '83', '**', '-', '97'],\n",
       "      dtype=object)"
      ]
     },
     "execution_count": 31,
     "metadata": {},
     "output_type": "execute_result"
    }
   ],
   "source": [
    "df['OLSAT Verbal Score'].unique()"
   ]
  },
  {
   "cell_type": "code",
   "execution_count": 38,
   "metadata": {},
   "outputs": [
    {
     "data": {
      "text/plain": [
       "array([28., 25., 27., 23., 24., 26., 29., 17., 21., 32., 19., 13., 18.,\n",
       "       22., 20., 99., 90., 30., 35., nan, 83., 97.])"
      ]
     },
     "execution_count": 38,
     "metadata": {},
     "output_type": "execute_result"
    }
   ],
   "source": [
    "temp = []\n",
    "for i in df['OLSAT Verbal Score']:\n",
    "    if i.isdigit():\n",
    "        temp.append(int(i))\n",
    "    elif '/' in i:\n",
    "        temp.append(int(i[:2]))\n",
    "    else:\n",
    "        temp.append(np.nan)\n",
    "df['OLSAT Verbal Score']=temp\n",
    "df['OLSAT Verbal Score'].unique()"
   ]
  },
  {
   "cell_type": "code",
   "execution_count": 39,
   "metadata": {},
   "outputs": [
    {
     "data": {
      "text/plain": [
       "array([99, 98, 90, 93, 95])"
      ]
     },
     "execution_count": 39,
     "metadata": {},
     "output_type": "execute_result"
    }
   ],
   "source": [
    "df['NNAT Non Verbal Percentile'].unique()"
   ]
  },
  {
   "cell_type": "code",
   "execution_count": 40,
   "metadata": {},
   "outputs": [
    {
     "data": {
      "text/plain": [
       "array(['45', '39', '42', '40', '38', '36', '44', '48', '43', '46', '41',\n",
       "       '47', '36/48', '27', '37', '40/48', '35', '33', '34', '99', '90',\n",
       "       '39/48', 'Fill out later.', '41/48', '**', '-', '97'], dtype=object)"
      ]
     },
     "execution_count": 40,
     "metadata": {},
     "output_type": "execute_result"
    }
   ],
   "source": [
    "df['NNAT Non Verbal Raw Score'].unique()"
   ]
  },
  {
   "cell_type": "code",
   "execution_count": 41,
   "metadata": {},
   "outputs": [
    {
     "data": {
      "text/plain": [
       "array([45., 39., 42., 40., 38., 36., 44., 48., 43., 46., 41., 47., 27.,\n",
       "       37., 35., 33., 34., 99., 90., nan, 97.])"
      ]
     },
     "execution_count": 41,
     "metadata": {},
     "output_type": "execute_result"
    }
   ],
   "source": [
    "temp = []\n",
    "for i in df['NNAT Non Verbal Raw Score']:\n",
    "    if i.isdigit():\n",
    "        temp.append(int(i))\n",
    "    elif '/' in i:\n",
    "        temp.append(int(i[:2]))\n",
    "    else:\n",
    "        temp.append(np.nan)\n",
    "df['NNAT Non Verbal Raw Score']=temp\n",
    "df['NNAT Non Verbal Raw Score'].unique()"
   ]
  },
  {
   "cell_type": "code",
   "execution_count": 42,
   "metadata": {},
   "outputs": [
    {
     "data": {
      "text/plain": [
       "array([99, 98, 95, 94, 96, 76, 90, 97, 92, 93, 91])"
      ]
     },
     "execution_count": 42,
     "metadata": {},
     "output_type": "execute_result"
    }
   ],
   "source": [
    "df['Overall Score'].unique()"
   ]
  },
  {
   "cell_type": "code",
   "execution_count": 43,
   "metadata": {},
   "outputs": [
    {
     "data": {
      "text/plain": [
       "array(['NEST+m, TAG, Anderson, Q300', 'Anderson, NEST+m', nan,\n",
       "       'Brooklyn School of Inquiry', 'Anderson NEST TAG Q300',\n",
       "       'Nest+M, Anderson', 'Any citywide or district 3 school', 'PS121 ',\n",
       "       'Anderson', 'Anderson, NEST+M, Lower Lab', 'PS Q203',\n",
       "       'Likely staying in zoned schools; D15 G&T options are limited.',\n",
       "       'TBD', 'Nest', 'Tag', 'PS229', 'Anderson, Tag Young, Nest+M',\n",
       "       'Any city-wide', 'PS188', 'BSI', 'NEST+M', 'Nest+m, BSI',\n",
       "       'NEST, LL, Anderson, TAG, 130,11,124,33', 'Nest+m, PS144, PS174',\n",
       "       'Anderson, NEST, PS 77, TAG ', 'na',\n",
       "       'Anderson, NEST, TAG, PS77, PS33, PS11', 'p.s.203q', 'Q300',\n",
       "       'NEST, Anderson, 30th Av', 'Anderson,NEST+m,LL,PS11',\n",
       "       'PS50,PS229,PS205,PS53', 'Anderson, Nest, Tag, LL', 'PS11',\n",
       "       'LL, 198, 11, 130, 217, 124, 33', 'Anderson, nestM, lower lab',\n",
       "       'nest+m, BSI, Anderson, Q300', 'nest, bsi, anderson', '316, 38, ',\n",
       "       '144, 174', 'Nest, Anderson', 'Anderson (Sibling)', '11,198,33',\n",
       "       'Bsi', 'NEST/Anderson/Q300', '300, 217, 122, 166',\n",
       "       'Nest, Q300, PS188, PS203', 'Brooklyn school of inquiry',\n",
       "       'Anderson, NEST, PS130, PS124, Lower Lab, PS11, PS33, TAG, BSI',\n",
       "       'Anderson, NEST, Lower Lab, TAG',\n",
       "       '539, 334, 166, 77, 11, 163, 12 ', 'LL, PS11, PS33', 'NEST',\n",
       "       'Anderson, Nest, Tag, BSI, Q300, PS166, PS163', 'All CW',\n",
       "       'Anderson, Nest+M, Lower Lab, BSI, 33,11,111',\n",
       "       'Anderson, NEST+T, Lower Lab, TAG',\n",
       "       'NEST,LL,Anderson,TAG,PS130,PS11,PS124', 'NEST/PS33',\n",
       "       'Anderson, NEST, PS 166, TAG, LL', 'LL, Anderson, Nest+m, 198',\n",
       "       'Lower Lab, Anderson, PS 11, NEST + m, Ps 33', 'Ps 102', 'Ps11'],\n",
       "      dtype=object)"
      ]
     },
     "execution_count": 43,
     "metadata": {},
     "output_type": "execute_result"
    }
   ],
   "source": [
    "df['School Preferences'].unique()"
   ]
  },
  {
   "cell_type": "code",
   "execution_count": 44,
   "metadata": {},
   "outputs": [
    {
     "data": {
      "text/plain": [
       "array(['NEST', nan, 'Currently - local Brooklyn dual language', 'PS 203',\n",
       "       'PS Q203', '175', 'PS 32 Q', 'Anderson', 'PS 158', 'none', 'PS130',\n",
       "       'TAG', 'Brooklyn School of Inquiry', '163', 'None', 'PS 163',\n",
       "       'Q300', 'Lower Lab', 'PS166', 'PS 166', 'Lower lab (off waitlist)',\n",
       "       'Ps205', 'Ps102', 'Ps33'], dtype=object)"
      ]
     },
     "execution_count": 44,
     "metadata": {},
     "output_type": "execute_result"
    }
   ],
   "source": [
    "df['School Assigned'].unique()"
   ]
  },
  {
   "cell_type": "code",
   "execution_count": 45,
   "metadata": {},
   "outputs": [
    {
     "data": {
      "text/plain": [
       "array(['YES', 'Maybe', nan, 'Yes', 'No'], dtype=object)"
      ]
     },
     "execution_count": 45,
     "metadata": {},
     "output_type": "execute_result"
    }
   ],
   "source": [
    "df['Will you enroll there?'].unique()"
   ]
  },
  {
   "cell_type": "code",
   "execution_count": 46,
   "metadata": {},
   "outputs": [
    {
     "data": {
      "text/plain": [
       "array([ 1., nan,  0.])"
      ]
     },
     "execution_count": 46,
     "metadata": {},
     "output_type": "execute_result"
    }
   ],
   "source": [
    "temp = []\n",
    "for i in df['Will you enroll there?']:\n",
    "    if i==\"YES\":\n",
    "        temp.append(1)\n",
    "    elif i==\"Yes\":\n",
    "        temp.append(1)\n",
    "    elif i=='No':\n",
    "        temp.append(0)\n",
    "    elif i=='Maybe':\n",
    "        temp.append(np.nan)\n",
    "    else:\n",
    "        temp.append(np.nan)\n",
    "df['Will you enroll there?']=temp\n",
    "df['Will you enroll there?'].unique()"
   ]
  },
  {
   "cell_type": "markdown",
   "metadata": {},
   "source": [
    "#### 離群值要評估是否需要移除"
   ]
  },
  {
   "cell_type": "code",
   "execution_count": 47,
   "metadata": {},
   "outputs": [
    {
     "data": {
      "text/plain": [
       "<matplotlib.collections.PathCollection at 0x116605550>"
      ]
     },
     "execution_count": 47,
     "metadata": {},
     "output_type": "execute_result"
    },
    {
     "data": {
      "image/png": "[encoded data removed]",
      "text/plain": [
       "<Figure size 432x288 with 1 Axes>"
      ]
     },
     "metadata": {
      "needs_background": "light"
     },
     "output_type": "display_data"
    }
   ],
   "source": [
    "plt.scatter(np.arange(len(df)),df['OLSAT Verbal Score'])"
   ]
  },
  {
   "cell_type": "code",
   "execution_count": 48,
   "metadata": {},
   "outputs": [
    {
     "data": {
      "text/plain": [
       "array([28., 25., 27., 23., 24., 26., 29., 17., 21., 32., 19., 13., 18.,\n",
       "       22., 20., 99., 90., 30., 35., nan, 83., 97.])"
      ]
     },
     "execution_count": 48,
     "metadata": {},
     "output_type": "execute_result"
    }
   ],
   "source": [
    "df['OLSAT Verbal Score'].unique()"
   ]
  },
  {
   "cell_type": "code",
   "execution_count": 54,
   "metadata": {},
   "outputs": [
    {
     "data": {
      "text/plain": [
       "97"
      ]
     },
     "execution_count": 54,
     "metadata": {},
     "output_type": "execute_result"
    }
   ],
   "source": [
    "df['OLSAT Verbal Score'][31]>30\n",
    "df['OLSAT Verbal Percentile'][31]"
   ]
  },
  {
   "cell_type": "code",
   "execution_count": 60,
   "metadata": {},
   "outputs": [],
   "source": [
    "temp = []\n",
    "for i in range(len(df)):\n",
    "    if df['OLSAT Verbal Score'][i]>30:\n",
    "        percent = df['OLSAT Verbal Percentile'][i]\n",
    "        data = df[(df['OLSAT Verbal Score']<30) & (df['OLSAT Verbal Percentile']==percent)]\n",
    "        temp.append(int(np.average(data['OLSAT Verbal Score'])))\n",
    "    else:\n",
    "        temp.append(df['OLSAT Verbal Score'][i])\n",
    "df['OLSAT Verbal Score']=temp"
   ]
  },
  {
   "cell_type": "code",
   "execution_count": 61,
   "metadata": {},
   "outputs": [
    {
     "data": {
      "text/plain": [
       "<matplotlib.collections.PathCollection at 0x1166e07f0>"
      ]
     },
     "execution_count": 61,
     "metadata": {},
     "output_type": "execute_result"
    },
    {
     "data": {
      "image/png": "[encoded data removed]",
      "text/plain": [
       "<Figure size 432x288 with 1 Axes>"
      ]
     },
     "metadata": {
      "needs_background": "light"
     },
     "output_type": "display_data"
    }
   ],
   "source": [
    "plt.scatter(np.arange(len(df)),df['OLSAT Verbal Score'])"
   ]
  },
  {
   "cell_type": "code",
   "execution_count": 62,
   "metadata": {},
   "outputs": [
    {
     "data": {
      "text/plain": [
       "<matplotlib.collections.PathCollection at 0x115dcee48>"
      ]
     },
     "execution_count": 62,
     "metadata": {},
     "output_type": "execute_result"
    },
    {
     "data": {
      "image/png": "[encoded data removed]",
      "text/plain": [
       "<Figure size 432x288 with 1 Axes>"
      ]
     },
     "metadata": {
      "needs_background": "light"
     },
     "output_type": "display_data"
    }
   ],
   "source": [
    "plt.scatter(np.arange(len(df)),df['OLSAT Verbal Percentile'])"
   ]
  },
  {
   "cell_type": "code",
   "execution_count": 63,
   "metadata": {},
   "outputs": [
    {
     "data": {
      "text/plain": [
       "<matplotlib.collections.PathCollection at 0x115e75ac8>"
      ]
     },
     "execution_count": 63,
     "metadata": {},
     "output_type": "execute_result"
    },
    {
     "data": {
      "image/png": "[encoded data removed]",
      "text/plain": [
       "<Figure size 432x288 with 1 Axes>"
      ]
     },
     "metadata": {
      "needs_background": "light"
     },
     "output_type": "display_data"
    }
   ],
   "source": [
    "plt.scatter(np.arange(len(df)),df['NNAT Non Verbal Raw Score'])"
   ]
  },
  {
   "cell_type": "code",
   "execution_count": 64,
   "metadata": {},
   "outputs": [],
   "source": [
    "temp = []\n",
    "for i in range(len(df)):\n",
    "    if df['NNAT Non Verbal Raw Score'][i]>48:\n",
    "        percent = df['NNAT Non Verbal Percentile'][i]\n",
    "        data = df[(df['NNAT Non Verbal Raw Score']<48) & (df['NNAT Non Verbal Percentile']==percent)]\n",
    "        temp.append(int(np.average(data['NNAT Non Verbal Raw Score'])))\n",
    "    else:\n",
    "        temp.append(df['NNAT Non Verbal Raw Score'][i])\n",
    "df['NNAT Non Verbal Raw Score']=temp"
   ]
  },
  {
   "cell_type": "code",
   "execution_count": 65,
   "metadata": {},
   "outputs": [
    {
     "data": {
      "text/plain": [
       "<matplotlib.collections.PathCollection at 0x1162dc5f8>"
      ]
     },
     "execution_count": 65,
     "metadata": {},
     "output_type": "execute_result"
    },
    {
     "data": {
      "image/png": "[encoded data removed]",
      "text/plain": [
       "<Figure size 432x288 with 1 Axes>"
      ]
     },
     "metadata": {
      "needs_background": "light"
     },
     "output_type": "display_data"
    }
   ],
   "source": [
    "plt.scatter(np.arange(len(df)),df['NNAT Non Verbal Raw Score'])"
   ]
  },
  {
   "cell_type": "code",
   "execution_count": 66,
   "metadata": {},
   "outputs": [
    {
     "data": {
      "text/plain": [
       "<matplotlib.collections.PathCollection at 0x1163dbc88>"
      ]
     },
     "execution_count": 66,
     "metadata": {},
     "output_type": "execute_result"
    },
    {
     "data": {
      "image/png": "[encoded data removed]",
      "text/plain": [
       "<Figure size 432x288 with 1 Axes>"
      ]
     },
     "metadata": {
      "needs_background": "light"
     },
     "output_type": "display_data"
    }
   ],
   "source": [
    "plt.scatter(np.arange(len(df)),df['NNAT Non Verbal Percentile'])"
   ]
  },
  {
   "cell_type": "markdown",
   "metadata": {},
   "source": [
    "#### 重複值要移除（如果是整理好的資料不太會有這個問題，但若是爬蟲或是未整理的資料就要檢查）"
   ]
  },
  {
   "cell_type": "code",
   "execution_count": null,
   "metadata": {},
   "outputs": [],
   "source": [
    "#無"
   ]
  },
  {
   "cell_type": "markdown",
   "metadata": {},
   "source": [
    "#### One hot encoding：最基本將類別資料轉換成數值資料的方法"
   ]
  },
  {
   "cell_type": "code",
   "execution_count": 71,
   "metadata": {},
   "outputs": [],
   "source": [
    "df = pd.concat([df,pd.get_dummies(df['Entering Grade Level'].to_frame())],axis=1)\n",
    "df = pd.concat([df,pd.get_dummies(df['Birth Month'].to_frame())],axis=1)"
   ]
  },
  {
   "cell_type": "code",
   "execution_count": 73,
   "metadata": {},
   "outputs": [],
   "source": [
    "df = df.drop(['Entering Grade Level','Birth Month'],axis=1)"
   ]
  },
  {
   "cell_type": "markdown",
   "metadata": {},
   "source": [
    "#### Feature engineering：依照個人對問題的理解，去增減feature以協助模型訓練\n",
    "<ol>\n",
    "    <li>基本：feature互相數學運算</li>\n",
    "    <li>基本：將文字資料/日期資料拆解開來</li>\n",
    "    <li>進階：將不同資料的關係串聯再一起（e.x.同一個用戶的不同資料、時間序的資料）</li>\n",
    "    <li>進階：引入外部資料合併到原有資料內</li>\n",
    "</ol>"
   ]
  },
  {
   "cell_type": "markdown",
   "metadata": {},
   "source": [
    "#### 作業：\n",
    "針對MetObjects_10000進行下列處理\n",
    "<ol>\n",
    "    <li>把\"Is Highlight\", \"Is Public Domain\", \"Is Timeline Work\"轉換成0或1</li>\n",
    "    <li>把全NaN的欄位移除掉</li>\n",
    "    <li>把Department做「one hot encoding」</li>\n",
    "    <li>Artist Gender整理（有female就是female，只有直槓改為male）</li>\n",
    "    <li>Artist begin date 用最小且合理的數值, Artist end date 用最大且合理的數值</li>"
   ]
  },
  {
   "cell_type": "code",
   "execution_count": 128,
   "metadata": {},
   "outputs": [],
   "source": [
    "df = pd.read_csv('MetObjects_10000.csv')"
   ]
  },
  {
   "cell_type": "code",
   "execution_count": 77,
   "metadata": {},
   "outputs": [
    {
     "name": "stdout",
     "output_type": "stream",
     "text": [
      "(10000, 51)\n"
     ]
    },
    {
     "data": {
      "text/plain": [
       "Index(['Object Number', 'Is Highlight', 'Is Public Domain', 'Is Timeline Work',\n",
       "       'Object ID', 'Department', 'AccessionYear', 'Object Name', 'Title',\n",
       "       'Culture', 'Period', 'Dynasty', 'Reign', 'Portfolio', 'Artist Role',\n",
       "       'Artist Prefix', 'Artist Display Name', 'Artist Display Bio',\n",
       "       'Artist Suffix', 'Artist Alpha Sort', 'Artist Nationality',\n",
       "       'Artist Begin Date', 'Artist End Date', 'Artist Gender',\n",
       "       'Artist ULAN URL', 'Artist Wikidata URL', 'Object Date',\n",
       "       'Object Begin Date', 'Object End Date', 'Medium', 'Dimensions',\n",
       "       'Credit Line', 'Geography Type', 'City', 'State', 'County', 'Country',\n",
       "       'Region', 'Subregion', 'Locale', 'Locus', 'Excavation', 'River',\n",
       "       'Classification', 'Rights and Reproduction', 'Link Resource',\n",
       "       'Object Wikidata URL', 'Metadata Date', 'Repository', 'Tags',\n",
       "       'Tags AAT URL'],\n",
       "      dtype='object')"
      ]
     },
     "execution_count": 77,
     "metadata": {},
     "output_type": "execute_result"
    }
   ],
   "source": [
    "print(df.shape)\n",
    "df.columns"
   ]
  },
  {
   "cell_type": "code",
   "execution_count": 137,
   "metadata": {},
   "outputs": [
    {
     "data": {
      "text/plain": [
       "array([ True])"
      ]
     },
     "execution_count": 137,
     "metadata": {},
     "output_type": "execute_result"
    }
   ],
   "source": [
    "np.isnan(df.Period.unique())==True"
   ]
  },
  {
   "cell_type": "code",
   "execution_count": 133,
   "metadata": {},
   "outputs": [
    {
     "data": {
      "text/plain": [
       "array([False])"
      ]
     },
     "execution_count": 133,
     "metadata": {},
     "output_type": "execute_result"
    }
   ],
   "source": [
    "np.array([np.nan])==np.array([np.nan])"
   ]
  },
  {
   "cell_type": "code",
   "execution_count": 144,
   "metadata": {},
   "outputs": [
    {
     "data": {
      "text/plain": [
       "True"
      ]
     },
     "execution_count": 144,
     "metadata": {},
     "output_type": "execute_result"
    }
   ],
   "source": [
    "df['Object Number'].dtype=='O'"
   ]
  },
  {
   "cell_type": "code",
   "execution_count": 148,
   "metadata": {},
   "outputs": [
    {
     "data": {
      "text/plain": [
       "True"
      ]
     },
     "execution_count": 148,
     "metadata": {},
     "output_type": "execute_result"
    }
   ],
   "source": [
    "df['Period'].dtype=='float64'\n",
    "np."
   ]
  },
  {
   "cell_type": "code",
   "execution_count": 147,
   "metadata": {},
   "outputs": [
    {
     "name": "stdout",
     "output_type": "stream",
     "text": [
      "<class 'pandas.core.frame.DataFrame'>\n",
      "RangeIndex: 10000 entries, 0 to 9999\n",
      "Data columns (total 51 columns):\n",
      "Object Number              10000 non-null object\n",
      "Is Highlight               10000 non-null bool\n",
      "Is Public Domain           10000 non-null bool\n",
      "Is Timeline Work           10000 non-null bool\n",
      "Object ID                  10000 non-null int64\n",
      "Department                 10000 non-null object\n",
      "AccessionYear              9662 non-null float64\n",
      "Object Name                10000 non-null object\n",
      "Title                      10000 non-null object\n",
      "Culture                    8291 non-null object\n",
      "Period                     0 non-null float64\n",
      "Dynasty                    0 non-null float64\n",
      "Reign                      0 non-null float64\n",
      "Portfolio                  0 non-null float64\n",
      "Artist Role                4726 non-null object\n",
      "Artist Prefix              1242 non-null object\n",
      "Artist Display Name        4726 non-null object\n",
      "Artist Display Bio         4349 non-null object\n",
      "Artist Suffix              48 non-null object\n",
      "Artist Alpha Sort          4715 non-null object\n",
      "Artist Nationality         1564 non-null object\n",
      "Artist Begin Date          4345 non-null object\n",
      "Artist End Date            4683 non-null object\n",
      "Artist Gender              663 non-null object\n",
      "Artist ULAN URL            2766 non-null object\n",
      "Artist Wikidata URL        1388 non-null object\n",
      "Object Date                9870 non-null object\n",
      "Object Begin Date          10000 non-null int64\n",
      "Object End Date            10000 non-null int64\n",
      "Medium                     9999 non-null object\n",
      "Dimensions                 9997 non-null object\n",
      "Credit Line                9998 non-null object\n",
      "Geography Type             7981 non-null object\n",
      "City                       4553 non-null object\n",
      "State                      667 non-null object\n",
      "County                     668 non-null object\n",
      "Country                    7979 non-null object\n",
      "Region                     364 non-null object\n",
      "Subregion                  0 non-null float64\n",
      "Locale                     0 non-null float64\n",
      "Locus                      0 non-null float64\n",
      "Excavation                 0 non-null float64\n",
      "River                      0 non-null float64\n",
      "Classification             10000 non-null object\n",
      "Rights and Reproduction    72 non-null object\n",
      "Link Resource              10000 non-null object\n",
      "Object Wikidata URL        518 non-null object\n",
      "Metadata Date              0 non-null float64\n",
      "Repository                 10000 non-null object\n",
      "Tags                       3211 non-null object\n",
      "Tags AAT URL               3203 non-null object\n",
      "dtypes: bool(3), float64(11), int64(3), object(34)\n",
      "memory usage: 3.7+ MB\n"
     ]
    }
   ],
   "source": [
    "df.info()"
   ]
  },
  {
   "cell_type": "code",
   "execution_count": null,
   "metadata": {},
   "outputs": [],
   "source": []
  }
 ],
 "metadata": {
  "kernelspec": {
   "display_name": "Python 3",
   "language": "python",
   "name": "python3"
  },
  "language_info": {
   "codemirror_mode": {
    "name": "ipython",
    "version": 3
   },
   "file_extension": ".py",
   "mimetype": "text/x-python",
   "name": "python",
   "nbconvert_exporter": "python",
   "pygments_lexer": "ipython3",
   "version": "3.7.3"
  }
 },
 "nbformat": 4,
 "nbformat_minor": 2
}
