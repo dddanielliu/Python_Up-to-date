{
 "cells": [
  {
   "cell_type": "markdown",
   "metadata": {},
   "source": [
    "### 這堂課目標：三個進化版的機器學習套件\n",
    "<li>XGB (Extreme Gradient Boosting)</li>\n",
    "<li>LightGBM (Light Gradient Boosting Machine)</li>\n",
    "<li>Catboost (Categorical Boosting)</li>\n",
    "    \n",
    "#### 參考資料\n",
    "- <a href=\"https://towardsdatascience.com/catboost-vs-light-gbm-vs-xgboost-5f93620723db\">總整理（英文）</a>\n",
    "- <a href=\"https://codertw.com/程式語言/510420/\">總整理（中譯）</a>\n",
    "- <a href=\"https://lavanya.ai/2019/06/27/battle-of-the-boosting-algorithms/\">另一個探討文章（英文）</a>\n",
    "- <a href=\"https://kknews.cc/zh-tw/tech/vlxj8n2.html\">另一個探討文章（中譯）</a>\n",
    "- <a href=\"https://arxiv.org/pdf/1809.04559.pdf\">研究論文</a>"
   ]
  },
  {
   "cell_type": "markdown",
   "metadata": {},
   "source": [
    "#### 第0步：安裝套件\n",
    "code originally written by Alvira Swalin"
   ]
  },
  {
   "cell_type": "code",
   "execution_count": 1,
   "metadata": {},
   "outputs": [],
   "source": [
    "import numpy as np\n",
    "import pandas as pd\n",
    "import time\n",
    "from sklearn.model_selection import train_test_split"
   ]
  },
  {
   "cell_type": "markdown",
   "metadata": {},
   "source": [
    "#### 1.載入資料"
   ]
  },
  {
   "cell_type": "code",
   "execution_count": 2,
   "metadata": {},
   "outputs": [],
   "source": [
    "data = pd.read_csv(\"flights_500k.csv\")\n",
    "data = data.sample(frac = 0.2, random_state=10)  #如果電腦跑太慢可以回來使用"
   ]
  },
  {
   "cell_type": "code",
   "execution_count": 3,
   "metadata": {},
   "outputs": [
    {
     "name": "stdout",
     "output_type": "stream",
     "text": [
      "(116382, 31)\n"
     ]
    },
    {
     "data": {
      "text/html": [
       "<div>\n",
       "<style scoped>\n",
       "    .dataframe tbody tr th:only-of-type {\n",
       "        vertical-align: middle;\n",
       "    }\n",
       "\n",
       "    .dataframe tbody tr th {\n",
       "        vertical-align: top;\n",
       "    }\n",
       "\n",
       "    .dataframe thead th {\n",
       "        text-align: right;\n",
       "    }\n",
       "</style>\n",
       "<table border=\"1\" class=\"dataframe\">\n",
       "  <thead>\n",
       "    <tr style=\"text-align: right;\">\n",
       "      <th></th>\n",
       "      <th>YEAR</th>\n",
       "      <th>MONTH</th>\n",
       "      <th>DAY</th>\n",
       "      <th>DAY_OF_WEEK</th>\n",
       "      <th>AIRLINE</th>\n",
       "      <th>FLIGHT_NUMBER</th>\n",
       "      <th>TAIL_NUMBER</th>\n",
       "      <th>ORIGIN_AIRPORT</th>\n",
       "      <th>DESTINATION_AIRPORT</th>\n",
       "      <th>SCHEDULED_DEPARTURE</th>\n",
       "      <th>...</th>\n",
       "      <th>ARRIVAL_TIME</th>\n",
       "      <th>ARRIVAL_DELAY</th>\n",
       "      <th>DIVERTED</th>\n",
       "      <th>CANCELLED</th>\n",
       "      <th>CANCELLATION_REASON</th>\n",
       "      <th>AIR_SYSTEM_DELAY</th>\n",
       "      <th>SECURITY_DELAY</th>\n",
       "      <th>AIRLINE_DELAY</th>\n",
       "      <th>LATE_AIRCRAFT_DELAY</th>\n",
       "      <th>WEATHER_DELAY</th>\n",
       "    </tr>\n",
       "  </thead>\n",
       "  <tbody>\n",
       "    <tr>\n",
       "      <th>167584</th>\n",
       "      <td>2015</td>\n",
       "      <td>6</td>\n",
       "      <td>25</td>\n",
       "      <td>4</td>\n",
       "      <td>DL</td>\n",
       "      <td>2114</td>\n",
       "      <td>N371DA</td>\n",
       "      <td>COS</td>\n",
       "      <td>ATL</td>\n",
       "      <td>630</td>\n",
       "      <td>...</td>\n",
       "      <td>1326.0</td>\n",
       "      <td>126.0</td>\n",
       "      <td>0</td>\n",
       "      <td>0</td>\n",
       "      <td>NaN</td>\n",
       "      <td>0.0</td>\n",
       "      <td>0.0</td>\n",
       "      <td>126.0</td>\n",
       "      <td>0.0</td>\n",
       "      <td>0.0</td>\n",
       "    </tr>\n",
       "    <tr>\n",
       "      <th>560454</th>\n",
       "      <td>2015</td>\n",
       "      <td>11</td>\n",
       "      <td>21</td>\n",
       "      <td>6</td>\n",
       "      <td>VX</td>\n",
       "      <td>1916</td>\n",
       "      <td>N844VA</td>\n",
       "      <td>SFO</td>\n",
       "      <td>LAS</td>\n",
       "      <td>2105</td>\n",
       "      <td>...</td>\n",
       "      <td>2223.0</td>\n",
       "      <td>-7.0</td>\n",
       "      <td>0</td>\n",
       "      <td>0</td>\n",
       "      <td>NaN</td>\n",
       "      <td>NaN</td>\n",
       "      <td>NaN</td>\n",
       "      <td>NaN</td>\n",
       "      <td>NaN</td>\n",
       "      <td>NaN</td>\n",
       "    </tr>\n",
       "    <tr>\n",
       "      <th>218029</th>\n",
       "      <td>2015</td>\n",
       "      <td>5</td>\n",
       "      <td>21</td>\n",
       "      <td>4</td>\n",
       "      <td>AA</td>\n",
       "      <td>1221</td>\n",
       "      <td>N4YBAA</td>\n",
       "      <td>FAT</td>\n",
       "      <td>DFW</td>\n",
       "      <td>600</td>\n",
       "      <td>...</td>\n",
       "      <td>1109.0</td>\n",
       "      <td>-6.0</td>\n",
       "      <td>0</td>\n",
       "      <td>0</td>\n",
       "      <td>NaN</td>\n",
       "      <td>NaN</td>\n",
       "      <td>NaN</td>\n",
       "      <td>NaN</td>\n",
       "      <td>NaN</td>\n",
       "      <td>NaN</td>\n",
       "    </tr>\n",
       "    <tr>\n",
       "      <th>156358</th>\n",
       "      <td>2015</td>\n",
       "      <td>5</td>\n",
       "      <td>12</td>\n",
       "      <td>2</td>\n",
       "      <td>WN</td>\n",
       "      <td>734</td>\n",
       "      <td>N941WN</td>\n",
       "      <td>MDW</td>\n",
       "      <td>SEA</td>\n",
       "      <td>1450</td>\n",
       "      <td>...</td>\n",
       "      <td>1708.0</td>\n",
       "      <td>-7.0</td>\n",
       "      <td>0</td>\n",
       "      <td>0</td>\n",
       "      <td>NaN</td>\n",
       "      <td>NaN</td>\n",
       "      <td>NaN</td>\n",
       "      <td>NaN</td>\n",
       "      <td>NaN</td>\n",
       "      <td>NaN</td>\n",
       "    </tr>\n",
       "    <tr>\n",
       "      <th>408552</th>\n",
       "      <td>2015</td>\n",
       "      <td>2</td>\n",
       "      <td>20</td>\n",
       "      <td>5</td>\n",
       "      <td>WN</td>\n",
       "      <td>4905</td>\n",
       "      <td>N431WN</td>\n",
       "      <td>FLL</td>\n",
       "      <td>BUF</td>\n",
       "      <td>1510</td>\n",
       "      <td>...</td>\n",
       "      <td>1757.0</td>\n",
       "      <td>-23.0</td>\n",
       "      <td>0</td>\n",
       "      <td>0</td>\n",
       "      <td>NaN</td>\n",
       "      <td>NaN</td>\n",
       "      <td>NaN</td>\n",
       "      <td>NaN</td>\n",
       "      <td>NaN</td>\n",
       "      <td>NaN</td>\n",
       "    </tr>\n",
       "  </tbody>\n",
       "</table>\n",
       "<p>5 rows × 31 columns</p>\n",
       "</div>"
      ],
      "text/plain": [
       "        YEAR  MONTH  DAY  DAY_OF_WEEK AIRLINE  FLIGHT_NUMBER TAIL_NUMBER  \\\n",
       "167584  2015      6   25            4      DL           2114      N371DA   \n",
       "560454  2015     11   21            6      VX           1916      N844VA   \n",
       "218029  2015      5   21            4      AA           1221      N4YBAA   \n",
       "156358  2015      5   12            2      WN            734      N941WN   \n",
       "408552  2015      2   20            5      WN           4905      N431WN   \n",
       "\n",
       "       ORIGIN_AIRPORT DESTINATION_AIRPORT  SCHEDULED_DEPARTURE  ...  \\\n",
       "167584            COS                 ATL                  630  ...   \n",
       "560454            SFO                 LAS                 2105  ...   \n",
       "218029            FAT                 DFW                  600  ...   \n",
       "156358            MDW                 SEA                 1450  ...   \n",
       "408552            FLL                 BUF                 1510  ...   \n",
       "\n",
       "        ARRIVAL_TIME  ARRIVAL_DELAY  DIVERTED  CANCELLED  CANCELLATION_REASON  \\\n",
       "167584        1326.0          126.0         0          0                  NaN   \n",
       "560454        2223.0           -7.0         0          0                  NaN   \n",
       "218029        1109.0           -6.0         0          0                  NaN   \n",
       "156358        1708.0           -7.0         0          0                  NaN   \n",
       "408552        1757.0          -23.0         0          0                  NaN   \n",
       "\n",
       "        AIR_SYSTEM_DELAY  SECURITY_DELAY  AIRLINE_DELAY  LATE_AIRCRAFT_DELAY  \\\n",
       "167584               0.0             0.0          126.0                  0.0   \n",
       "560454               NaN             NaN            NaN                  NaN   \n",
       "218029               NaN             NaN            NaN                  NaN   \n",
       "156358               NaN             NaN            NaN                  NaN   \n",
       "408552               NaN             NaN            NaN                  NaN   \n",
       "\n",
       "        WEATHER_DELAY  \n",
       "167584            0.0  \n",
       "560454            NaN  \n",
       "218029            NaN  \n",
       "156358            NaN  \n",
       "408552            NaN  \n",
       "\n",
       "[5 rows x 31 columns]"
      ]
     },
     "execution_count": 3,
     "metadata": {},
     "output_type": "execute_result"
    }
   ],
   "source": [
    "print(data.shape)\n",
    "data.head()"
   ]
  },
  {
   "cell_type": "markdown",
   "metadata": {},
   "source": [
    "#### 2.清洗資料（data cleaning / Feature engineering）"
   ]
  },
  {
   "cell_type": "code",
   "execution_count": 4,
   "metadata": {},
   "outputs": [
    {
     "name": "stdout",
     "output_type": "stream",
     "text": [
      "(116382, 11)\n"
     ]
    },
    {
     "data": {
      "text/html": [
       "<div>\n",
       "<style scoped>\n",
       "    .dataframe tbody tr th:only-of-type {\n",
       "        vertical-align: middle;\n",
       "    }\n",
       "\n",
       "    .dataframe tbody tr th {\n",
       "        vertical-align: top;\n",
       "    }\n",
       "\n",
       "    .dataframe thead th {\n",
       "        text-align: right;\n",
       "    }\n",
       "</style>\n",
       "<table border=\"1\" class=\"dataframe\">\n",
       "  <thead>\n",
       "    <tr style=\"text-align: right;\">\n",
       "      <th></th>\n",
       "      <th>MONTH</th>\n",
       "      <th>DAY</th>\n",
       "      <th>DAY_OF_WEEK</th>\n",
       "      <th>AIRLINE</th>\n",
       "      <th>FLIGHT_NUMBER</th>\n",
       "      <th>DESTINATION_AIRPORT</th>\n",
       "      <th>ORIGIN_AIRPORT</th>\n",
       "      <th>AIR_TIME</th>\n",
       "      <th>DEPARTURE_TIME</th>\n",
       "      <th>DISTANCE</th>\n",
       "      <th>ARRIVAL_DELAY</th>\n",
       "    </tr>\n",
       "  </thead>\n",
       "  <tbody>\n",
       "    <tr>\n",
       "      <th>167584</th>\n",
       "      <td>6</td>\n",
       "      <td>25</td>\n",
       "      <td>4</td>\n",
       "      <td>DL</td>\n",
       "      <td>2114</td>\n",
       "      <td>ATL</td>\n",
       "      <td>COS</td>\n",
       "      <td>142.0</td>\n",
       "      <td>846.0</td>\n",
       "      <td>1184</td>\n",
       "      <td>126.0</td>\n",
       "    </tr>\n",
       "    <tr>\n",
       "      <th>560454</th>\n",
       "      <td>11</td>\n",
       "      <td>21</td>\n",
       "      <td>6</td>\n",
       "      <td>VX</td>\n",
       "      <td>1916</td>\n",
       "      <td>LAS</td>\n",
       "      <td>SFO</td>\n",
       "      <td>60.0</td>\n",
       "      <td>2103.0</td>\n",
       "      <td>414</td>\n",
       "      <td>-7.0</td>\n",
       "    </tr>\n",
       "    <tr>\n",
       "      <th>218029</th>\n",
       "      <td>5</td>\n",
       "      <td>21</td>\n",
       "      <td>4</td>\n",
       "      <td>AA</td>\n",
       "      <td>1221</td>\n",
       "      <td>DFW</td>\n",
       "      <td>FAT</td>\n",
       "      <td>173.0</td>\n",
       "      <td>556.0</td>\n",
       "      <td>1313</td>\n",
       "      <td>-6.0</td>\n",
       "    </tr>\n",
       "    <tr>\n",
       "      <th>156358</th>\n",
       "      <td>5</td>\n",
       "      <td>12</td>\n",
       "      <td>2</td>\n",
       "      <td>WN</td>\n",
       "      <td>734</td>\n",
       "      <td>SEA</td>\n",
       "      <td>MDW</td>\n",
       "      <td>244.0</td>\n",
       "      <td>1448.0</td>\n",
       "      <td>1733</td>\n",
       "      <td>-7.0</td>\n",
       "    </tr>\n",
       "    <tr>\n",
       "      <th>408552</th>\n",
       "      <td>2</td>\n",
       "      <td>20</td>\n",
       "      <td>5</td>\n",
       "      <td>WN</td>\n",
       "      <td>4905</td>\n",
       "      <td>BUF</td>\n",
       "      <td>FLL</td>\n",
       "      <td>155.0</td>\n",
       "      <td>1504.0</td>\n",
       "      <td>1165</td>\n",
       "      <td>-23.0</td>\n",
       "    </tr>\n",
       "  </tbody>\n",
       "</table>\n",
       "</div>"
      ],
      "text/plain": [
       "        MONTH  DAY  DAY_OF_WEEK AIRLINE  FLIGHT_NUMBER DESTINATION_AIRPORT  \\\n",
       "167584      6   25            4      DL           2114                 ATL   \n",
       "560454     11   21            6      VX           1916                 LAS   \n",
       "218029      5   21            4      AA           1221                 DFW   \n",
       "156358      5   12            2      WN            734                 SEA   \n",
       "408552      2   20            5      WN           4905                 BUF   \n",
       "\n",
       "       ORIGIN_AIRPORT  AIR_TIME  DEPARTURE_TIME  DISTANCE  ARRIVAL_DELAY  \n",
       "167584            COS     142.0           846.0      1184          126.0  \n",
       "560454            SFO      60.0          2103.0       414           -7.0  \n",
       "218029            FAT     173.0           556.0      1313           -6.0  \n",
       "156358            MDW     244.0          1448.0      1733           -7.0  \n",
       "408552            FLL     155.0          1504.0      1165          -23.0  "
      ]
     },
     "execution_count": 4,
     "metadata": {},
     "output_type": "execute_result"
    }
   ],
   "source": [
    "##選其中幾欄出來\n",
    "data = data[[\"MONTH\",\"DAY\",\"DAY_OF_WEEK\",\"AIRLINE\",\"FLIGHT_NUMBER\",\"DESTINATION_AIRPORT\",\n",
    "                 \"ORIGIN_AIRPORT\",\"AIR_TIME\", \"DEPARTURE_TIME\",\"DISTANCE\",\"ARRIVAL_DELAY\"]]\n",
    "print(data.shape)\n",
    "data.head()"
   ]
  },
  {
   "cell_type": "code",
   "execution_count": 5,
   "metadata": {},
   "outputs": [
    {
     "name": "stdout",
     "output_type": "stream",
     "text": [
      "(114320, 11)\n"
     ]
    },
    {
     "data": {
      "text/html": [
       "<div>\n",
       "<style scoped>\n",
       "    .dataframe tbody tr th:only-of-type {\n",
       "        vertical-align: middle;\n",
       "    }\n",
       "\n",
       "    .dataframe tbody tr th {\n",
       "        vertical-align: top;\n",
       "    }\n",
       "\n",
       "    .dataframe thead th {\n",
       "        text-align: right;\n",
       "    }\n",
       "</style>\n",
       "<table border=\"1\" class=\"dataframe\">\n",
       "  <thead>\n",
       "    <tr style=\"text-align: right;\">\n",
       "      <th></th>\n",
       "      <th>MONTH</th>\n",
       "      <th>DAY</th>\n",
       "      <th>DAY_OF_WEEK</th>\n",
       "      <th>AIRLINE</th>\n",
       "      <th>FLIGHT_NUMBER</th>\n",
       "      <th>DESTINATION_AIRPORT</th>\n",
       "      <th>ORIGIN_AIRPORT</th>\n",
       "      <th>AIR_TIME</th>\n",
       "      <th>DEPARTURE_TIME</th>\n",
       "      <th>DISTANCE</th>\n",
       "      <th>ARRIVAL_DELAY</th>\n",
       "    </tr>\n",
       "  </thead>\n",
       "  <tbody>\n",
       "    <tr>\n",
       "      <th>167584</th>\n",
       "      <td>6</td>\n",
       "      <td>25</td>\n",
       "      <td>4</td>\n",
       "      <td>DL</td>\n",
       "      <td>2114</td>\n",
       "      <td>ATL</td>\n",
       "      <td>COS</td>\n",
       "      <td>142.0</td>\n",
       "      <td>846.0</td>\n",
       "      <td>1184</td>\n",
       "      <td>126.0</td>\n",
       "    </tr>\n",
       "    <tr>\n",
       "      <th>560454</th>\n",
       "      <td>11</td>\n",
       "      <td>21</td>\n",
       "      <td>6</td>\n",
       "      <td>VX</td>\n",
       "      <td>1916</td>\n",
       "      <td>LAS</td>\n",
       "      <td>SFO</td>\n",
       "      <td>60.0</td>\n",
       "      <td>2103.0</td>\n",
       "      <td>414</td>\n",
       "      <td>-7.0</td>\n",
       "    </tr>\n",
       "    <tr>\n",
       "      <th>218029</th>\n",
       "      <td>5</td>\n",
       "      <td>21</td>\n",
       "      <td>4</td>\n",
       "      <td>AA</td>\n",
       "      <td>1221</td>\n",
       "      <td>DFW</td>\n",
       "      <td>FAT</td>\n",
       "      <td>173.0</td>\n",
       "      <td>556.0</td>\n",
       "      <td>1313</td>\n",
       "      <td>-6.0</td>\n",
       "    </tr>\n",
       "    <tr>\n",
       "      <th>156358</th>\n",
       "      <td>5</td>\n",
       "      <td>12</td>\n",
       "      <td>2</td>\n",
       "      <td>WN</td>\n",
       "      <td>734</td>\n",
       "      <td>SEA</td>\n",
       "      <td>MDW</td>\n",
       "      <td>244.0</td>\n",
       "      <td>1448.0</td>\n",
       "      <td>1733</td>\n",
       "      <td>-7.0</td>\n",
       "    </tr>\n",
       "    <tr>\n",
       "      <th>408552</th>\n",
       "      <td>2</td>\n",
       "      <td>20</td>\n",
       "      <td>5</td>\n",
       "      <td>WN</td>\n",
       "      <td>4905</td>\n",
       "      <td>BUF</td>\n",
       "      <td>FLL</td>\n",
       "      <td>155.0</td>\n",
       "      <td>1504.0</td>\n",
       "      <td>1165</td>\n",
       "      <td>-23.0</td>\n",
       "    </tr>\n",
       "  </tbody>\n",
       "</table>\n",
       "</div>"
      ],
      "text/plain": [
       "        MONTH  DAY  DAY_OF_WEEK AIRLINE  FLIGHT_NUMBER DESTINATION_AIRPORT  \\\n",
       "167584      6   25            4      DL           2114                 ATL   \n",
       "560454     11   21            6      VX           1916                 LAS   \n",
       "218029      5   21            4      AA           1221                 DFW   \n",
       "156358      5   12            2      WN            734                 SEA   \n",
       "408552      2   20            5      WN           4905                 BUF   \n",
       "\n",
       "       ORIGIN_AIRPORT  AIR_TIME  DEPARTURE_TIME  DISTANCE  ARRIVAL_DELAY  \n",
       "167584            COS     142.0           846.0      1184          126.0  \n",
       "560454            SFO      60.0          2103.0       414           -7.0  \n",
       "218029            FAT     173.0           556.0      1313           -6.0  \n",
       "156358            MDW     244.0          1448.0      1733           -7.0  \n",
       "408552            FLL     155.0          1504.0      1165          -23.0  "
      ]
     },
     "execution_count": 5,
     "metadata": {},
     "output_type": "execute_result"
    }
   ],
   "source": [
    "##丟掉缺失值欄位\n",
    "data.dropna(inplace=True)\n",
    "print(data.shape)\n",
    "data.head()"
   ]
  },
  {
   "cell_type": "code",
   "execution_count": 6,
   "metadata": {},
   "outputs": [
    {
     "data": {
      "text/html": [
       "<div>\n",
       "<style scoped>\n",
       "    .dataframe tbody tr th:only-of-type {\n",
       "        vertical-align: middle;\n",
       "    }\n",
       "\n",
       "    .dataframe tbody tr th {\n",
       "        vertical-align: top;\n",
       "    }\n",
       "\n",
       "    .dataframe thead th {\n",
       "        text-align: right;\n",
       "    }\n",
       "</style>\n",
       "<table border=\"1\" class=\"dataframe\">\n",
       "  <thead>\n",
       "    <tr style=\"text-align: right;\">\n",
       "      <th></th>\n",
       "      <th>MONTH</th>\n",
       "      <th>DAY</th>\n",
       "      <th>DAY_OF_WEEK</th>\n",
       "      <th>AIRLINE</th>\n",
       "      <th>FLIGHT_NUMBER</th>\n",
       "      <th>DESTINATION_AIRPORT</th>\n",
       "      <th>ORIGIN_AIRPORT</th>\n",
       "      <th>AIR_TIME</th>\n",
       "      <th>DEPARTURE_TIME</th>\n",
       "      <th>DISTANCE</th>\n",
       "      <th>ARRIVAL_DELAY</th>\n",
       "    </tr>\n",
       "  </thead>\n",
       "  <tbody>\n",
       "    <tr>\n",
       "      <th>167584</th>\n",
       "      <td>6</td>\n",
       "      <td>25</td>\n",
       "      <td>4</td>\n",
       "      <td>DL</td>\n",
       "      <td>2114</td>\n",
       "      <td>ATL</td>\n",
       "      <td>COS</td>\n",
       "      <td>142.0</td>\n",
       "      <td>846.0</td>\n",
       "      <td>1184</td>\n",
       "      <td>1</td>\n",
       "    </tr>\n",
       "    <tr>\n",
       "      <th>560454</th>\n",
       "      <td>11</td>\n",
       "      <td>21</td>\n",
       "      <td>6</td>\n",
       "      <td>VX</td>\n",
       "      <td>1916</td>\n",
       "      <td>LAS</td>\n",
       "      <td>SFO</td>\n",
       "      <td>60.0</td>\n",
       "      <td>2103.0</td>\n",
       "      <td>414</td>\n",
       "      <td>0</td>\n",
       "    </tr>\n",
       "    <tr>\n",
       "      <th>218029</th>\n",
       "      <td>5</td>\n",
       "      <td>21</td>\n",
       "      <td>4</td>\n",
       "      <td>AA</td>\n",
       "      <td>1221</td>\n",
       "      <td>DFW</td>\n",
       "      <td>FAT</td>\n",
       "      <td>173.0</td>\n",
       "      <td>556.0</td>\n",
       "      <td>1313</td>\n",
       "      <td>0</td>\n",
       "    </tr>\n",
       "    <tr>\n",
       "      <th>156358</th>\n",
       "      <td>5</td>\n",
       "      <td>12</td>\n",
       "      <td>2</td>\n",
       "      <td>WN</td>\n",
       "      <td>734</td>\n",
       "      <td>SEA</td>\n",
       "      <td>MDW</td>\n",
       "      <td>244.0</td>\n",
       "      <td>1448.0</td>\n",
       "      <td>1733</td>\n",
       "      <td>0</td>\n",
       "    </tr>\n",
       "    <tr>\n",
       "      <th>408552</th>\n",
       "      <td>2</td>\n",
       "      <td>20</td>\n",
       "      <td>5</td>\n",
       "      <td>WN</td>\n",
       "      <td>4905</td>\n",
       "      <td>BUF</td>\n",
       "      <td>FLL</td>\n",
       "      <td>155.0</td>\n",
       "      <td>1504.0</td>\n",
       "      <td>1165</td>\n",
       "      <td>0</td>\n",
       "    </tr>\n",
       "  </tbody>\n",
       "</table>\n",
       "</div>"
      ],
      "text/plain": [
       "        MONTH  DAY  DAY_OF_WEEK AIRLINE  FLIGHT_NUMBER DESTINATION_AIRPORT  \\\n",
       "167584      6   25            4      DL           2114                 ATL   \n",
       "560454     11   21            6      VX           1916                 LAS   \n",
       "218029      5   21            4      AA           1221                 DFW   \n",
       "156358      5   12            2      WN            734                 SEA   \n",
       "408552      2   20            5      WN           4905                 BUF   \n",
       "\n",
       "       ORIGIN_AIRPORT  AIR_TIME  DEPARTURE_TIME  DISTANCE  ARRIVAL_DELAY  \n",
       "167584            COS     142.0           846.0      1184              1  \n",
       "560454            SFO      60.0          2103.0       414              0  \n",
       "218029            FAT     173.0           556.0      1313              0  \n",
       "156358            MDW     244.0          1448.0      1733              0  \n",
       "408552            FLL     155.0          1504.0      1165              0  "
      ]
     },
     "execution_count": 6,
     "metadata": {},
     "output_type": "execute_result"
    }
   ],
   "source": [
    "##建立預測目標\n",
    "data[\"ARRIVAL_DELAY\"] = (data[\"ARRIVAL_DELAY\"]>10)*1\n",
    "data.head()"
   ]
  },
  {
   "cell_type": "code",
   "execution_count": 7,
   "metadata": {},
   "outputs": [
    {
     "data": {
      "text/html": [
       "<div>\n",
       "<style scoped>\n",
       "    .dataframe tbody tr th:only-of-type {\n",
       "        vertical-align: middle;\n",
       "    }\n",
       "\n",
       "    .dataframe tbody tr th {\n",
       "        vertical-align: top;\n",
       "    }\n",
       "\n",
       "    .dataframe thead th {\n",
       "        text-align: right;\n",
       "    }\n",
       "</style>\n",
       "<table border=\"1\" class=\"dataframe\">\n",
       "  <thead>\n",
       "    <tr style=\"text-align: right;\">\n",
       "      <th></th>\n",
       "      <th>MONTH</th>\n",
       "      <th>DAY</th>\n",
       "      <th>DAY_OF_WEEK</th>\n",
       "      <th>AIRLINE</th>\n",
       "      <th>FLIGHT_NUMBER</th>\n",
       "      <th>DESTINATION_AIRPORT</th>\n",
       "      <th>ORIGIN_AIRPORT</th>\n",
       "      <th>AIR_TIME</th>\n",
       "      <th>DEPARTURE_TIME</th>\n",
       "      <th>DISTANCE</th>\n",
       "      <th>ARRIVAL_DELAY</th>\n",
       "    </tr>\n",
       "  </thead>\n",
       "  <tbody>\n",
       "    <tr>\n",
       "      <th>167584</th>\n",
       "      <td>6</td>\n",
       "      <td>25</td>\n",
       "      <td>4</td>\n",
       "      <td>4</td>\n",
       "      <td>2110</td>\n",
       "      <td>298</td>\n",
       "      <td>346</td>\n",
       "      <td>142.0</td>\n",
       "      <td>846.0</td>\n",
       "      <td>1184</td>\n",
       "      <td>1</td>\n",
       "    </tr>\n",
       "    <tr>\n",
       "      <th>560454</th>\n",
       "      <td>11</td>\n",
       "      <td>21</td>\n",
       "      <td>6</td>\n",
       "      <td>13</td>\n",
       "      <td>1913</td>\n",
       "      <td>452</td>\n",
       "      <td>551</td>\n",
       "      <td>60.0</td>\n",
       "      <td>2103.0</td>\n",
       "      <td>414</td>\n",
       "      <td>0</td>\n",
       "    </tr>\n",
       "    <tr>\n",
       "      <th>218029</th>\n",
       "      <td>5</td>\n",
       "      <td>21</td>\n",
       "      <td>4</td>\n",
       "      <td>1</td>\n",
       "      <td>1218</td>\n",
       "      <td>364</td>\n",
       "      <td>383</td>\n",
       "      <td>173.0</td>\n",
       "      <td>556.0</td>\n",
       "      <td>1313</td>\n",
       "      <td>0</td>\n",
       "    </tr>\n",
       "    <tr>\n",
       "      <th>156358</th>\n",
       "      <td>5</td>\n",
       "      <td>12</td>\n",
       "      <td>2</td>\n",
       "      <td>14</td>\n",
       "      <td>732</td>\n",
       "      <td>555</td>\n",
       "      <td>468</td>\n",
       "      <td>244.0</td>\n",
       "      <td>1448.0</td>\n",
       "      <td>1733</td>\n",
       "      <td>0</td>\n",
       "    </tr>\n",
       "    <tr>\n",
       "      <th>408552</th>\n",
       "      <td>2</td>\n",
       "      <td>20</td>\n",
       "      <td>5</td>\n",
       "      <td>14</td>\n",
       "      <td>4822</td>\n",
       "      <td>327</td>\n",
       "      <td>387</td>\n",
       "      <td>155.0</td>\n",
       "      <td>1504.0</td>\n",
       "      <td>1165</td>\n",
       "      <td>0</td>\n",
       "    </tr>\n",
       "  </tbody>\n",
       "</table>\n",
       "</div>"
      ],
      "text/plain": [
       "        MONTH  DAY  DAY_OF_WEEK  AIRLINE  FLIGHT_NUMBER  DESTINATION_AIRPORT  \\\n",
       "167584      6   25            4        4           2110                  298   \n",
       "560454     11   21            6       13           1913                  452   \n",
       "218029      5   21            4        1           1218                  364   \n",
       "156358      5   12            2       14            732                  555   \n",
       "408552      2   20            5       14           4822                  327   \n",
       "\n",
       "        ORIGIN_AIRPORT  AIR_TIME  DEPARTURE_TIME  DISTANCE  ARRIVAL_DELAY  \n",
       "167584             346     142.0           846.0      1184              1  \n",
       "560454             551      60.0          2103.0       414              0  \n",
       "218029             383     173.0           556.0      1313              0  \n",
       "156358             468     244.0          1448.0      1733              0  \n",
       "408552             387     155.0          1504.0      1165              0  "
      ]
     },
     "execution_count": 7,
     "metadata": {},
     "output_type": "execute_result"
    }
   ],
   "source": [
    "##把類別資料上數字標籤\n",
    "cols = [\"AIRLINE\",\"FLIGHT_NUMBER\",\"DESTINATION_AIRPORT\",\"ORIGIN_AIRPORT\"]\n",
    "for item in cols:\n",
    "    data[item] = data[item].astype(\"category\").cat.codes +1\n",
    "data.head()"
   ]
  },
  {
   "cell_type": "code",
   "execution_count": 8,
   "metadata": {},
   "outputs": [
    {
     "data": {
      "text/plain": [
       "0    89193\n",
       "1    25127\n",
       "Name: ARRIVAL_DELAY, dtype: int64"
      ]
     },
     "execution_count": 8,
     "metadata": {},
     "output_type": "execute_result"
    }
   ],
   "source": [
    "data[\"ARRIVAL_DELAY\"].value_counts()"
   ]
  },
  {
   "cell_type": "markdown",
   "metadata": {},
   "source": [
    "#### 3.分訓練集跟測試集（train test split）"
   ]
  },
  {
   "cell_type": "code",
   "execution_count": 9,
   "metadata": {},
   "outputs": [],
   "source": [
    "X_train, X_test, y_train, y_test = train_test_split(data.drop([\"ARRIVAL_DELAY\"], axis=1), data[\"ARRIVAL_DELAY\"],\n",
    "                                                random_state=10, test_size=0.25)"
   ]
  },
  {
   "cell_type": "markdown",
   "metadata": {},
   "source": [
    "## XGBoost"
   ]
  },
  {
   "cell_type": "markdown",
   "metadata": {},
   "source": [
    "#### 4.定義模型"
   ]
  },
  {
   "cell_type": "code",
   "execution_count": 10,
   "metadata": {},
   "outputs": [
    {
     "name": "stderr",
     "output_type": "stream",
     "text": [
      "/Users/harryhowiefish/anaconda3/lib/python3.7/site-packages/dask/config.py:168: YAMLLoadWarning: calling yaml.load() without Loader=... is deprecated, as the default Loader is unsafe. Please read https://msg.pyyaml.org/load for full details.\n",
      "  data = yaml.load(f.read()) or {}\n",
      "/Users/harryhowiefish/anaconda3/lib/python3.7/site-packages/distributed/config.py:20: YAMLLoadWarning: calling yaml.load() without Loader=... is deprecated, as the default Loader is unsafe. Please read https://msg.pyyaml.org/load for full details.\n",
      "  defaults = yaml.load(f)\n"
     ]
    }
   ],
   "source": [
    "import xgboost as xgb\n",
    "from sklearn import metrics\n",
    "\n",
    "def auc(m, train, test): \n",
    "    return (metrics.roc_auc_score(y_train,m.predict_proba(train)[:,1]),\n",
    "                            metrics.roc_auc_score(y_test,m.predict_proba(test)[:,1]))\n",
    "model = xgb.XGBClassifier(max_depth=50, min_child_weight=1, n_estimators=200,verbosity=1,learning_rate=0.16,)\n",
    "\n"
   ]
  },
  {
   "cell_type": "markdown",
   "metadata": {},
   "source": [
    "#### 5.訓練模型"
   ]
  },
  {
   "cell_type": "code",
   "execution_count": 11,
   "metadata": {},
   "outputs": [
    {
     "name": "stdout",
     "output_type": "stream",
     "text": [
      "[0]\tvalidation_0-auc:0.63007\n",
      "Will train until validation_0-auc hasn't improved in 2 rounds.\n",
      "[1]\tvalidation_0-auc:0.64879\n",
      "[2]\tvalidation_0-auc:0.65687\n",
      "[3]\tvalidation_0-auc:0.66291\n",
      "[4]\tvalidation_0-auc:0.66546\n",
      "[5]\tvalidation_0-auc:0.67162\n",
      "[6]\tvalidation_0-auc:0.67534\n",
      "[7]\tvalidation_0-auc:0.67919\n",
      "[8]\tvalidation_0-auc:0.68148\n",
      "[9]\tvalidation_0-auc:0.68384\n",
      "[10]\tvalidation_0-auc:0.68640\n",
      "[11]\tvalidation_0-auc:0.68832\n",
      "[12]\tvalidation_0-auc:0.69072\n",
      "[13]\tvalidation_0-auc:0.69216\n",
      "[14]\tvalidation_0-auc:0.69382\n",
      "[15]\tvalidation_0-auc:0.69590\n",
      "[16]\tvalidation_0-auc:0.69699\n",
      "[17]\tvalidation_0-auc:0.69884\n",
      "[18]\tvalidation_0-auc:0.70010\n",
      "[19]\tvalidation_0-auc:0.70135\n",
      "[20]\tvalidation_0-auc:0.70226\n",
      "[21]\tvalidation_0-auc:0.70282\n",
      "[22]\tvalidation_0-auc:0.70354\n",
      "[23]\tvalidation_0-auc:0.70410\n",
      "[24]\tvalidation_0-auc:0.70452\n",
      "[25]\tvalidation_0-auc:0.70532\n",
      "[26]\tvalidation_0-auc:0.70607\n",
      "[27]\tvalidation_0-auc:0.70681\n",
      "[28]\tvalidation_0-auc:0.70757\n",
      "[29]\tvalidation_0-auc:0.70813\n",
      "[30]\tvalidation_0-auc:0.70861\n",
      "[31]\tvalidation_0-auc:0.70963\n",
      "[32]\tvalidation_0-auc:0.71000\n",
      "[33]\tvalidation_0-auc:0.71057\n",
      "[34]\tvalidation_0-auc:0.71118\n",
      "[35]\tvalidation_0-auc:0.71149\n",
      "[36]\tvalidation_0-auc:0.71212\n",
      "[37]\tvalidation_0-auc:0.71231\n",
      "[38]\tvalidation_0-auc:0.71241\n",
      "[39]\tvalidation_0-auc:0.71345\n",
      "[40]\tvalidation_0-auc:0.71350\n",
      "[41]\tvalidation_0-auc:0.71412\n",
      "[42]\tvalidation_0-auc:0.71460\n",
      "[43]\tvalidation_0-auc:0.71488\n",
      "[44]\tvalidation_0-auc:0.71476\n",
      "[45]\tvalidation_0-auc:0.71518\n",
      "[46]\tvalidation_0-auc:0.71533\n",
      "[47]\tvalidation_0-auc:0.71549\n",
      "[48]\tvalidation_0-auc:0.71597\n",
      "[49]\tvalidation_0-auc:0.71648\n",
      "[50]\tvalidation_0-auc:0.71679\n",
      "[51]\tvalidation_0-auc:0.71732\n",
      "[52]\tvalidation_0-auc:0.71720\n",
      "[53]\tvalidation_0-auc:0.71727\n",
      "Stopping. Best iteration:\n",
      "[51]\tvalidation_0-auc:0.71732\n",
      "\n"
     ]
    },
    {
     "data": {
      "text/plain": [
       "XGBClassifier(base_score=0.5, booster=None, colsample_bylevel=1,\n",
       "       colsample_bynode=1, colsample_bytree=1, gamma=0, gpu_id=-1,\n",
       "       importance_type='gain', interaction_constraints=None,\n",
       "       learning_rate=0.16, max_delta_step=0, max_depth=50,\n",
       "       min_child_weight=1, missing=nan, monotone_constraints=None,\n",
       "       n_estimators=200, n_jobs=0, num_parallel_tree=1,\n",
       "       objective='binary:logistic', random_state=0, reg_alpha=0,\n",
       "       reg_lambda=1, scale_pos_weight=1, subsample=1, tree_method=None,\n",
       "       validate_parameters=False, verbosity=1)"
      ]
     },
     "execution_count": 11,
     "metadata": {},
     "output_type": "execute_result"
    }
   ],
   "source": [
    "eval_set = [(X_test, y_test)]\n",
    "model.fit(X_train, y_train, eval_metric=\"auc\", eval_set=eval_set, verbose=True,early_stopping_rounds=2)"
   ]
  },
  {
   "cell_type": "markdown",
   "metadata": {},
   "source": [
    "#### 6.評估模型表現"
   ]
  },
  {
   "cell_type": "code",
   "execution_count": 12,
   "metadata": {},
   "outputs": [
    {
     "data": {
      "text/plain": [
       "(1.0, 0.7173158083296013)"
      ]
     },
     "execution_count": 12,
     "metadata": {},
     "output_type": "execute_result"
    }
   ],
   "source": [
    "auc(model, X_train, X_test)"
   ]
  },
  {
   "cell_type": "code",
   "execution_count": null,
   "metadata": {},
   "outputs": [],
   "source": []
  },
  {
   "cell_type": "code",
   "execution_count": 16,
   "metadata": {},
   "outputs": [
    {
     "data": {
      "text/plain": [
       "array([0, 0, 0, 0, 0, 0, 0, 0, 0, 0, 0, 0, 0, 0, 0, 0, 0, 0, 1, 0, 0, 0,\n",
       "       0, 0, 1, 0, 0, 0, 0, 0, 0, 0, 0, 1, 0, 0, 0, 0, 0, 0, 0, 0, 0, 0,\n",
       "       0, 0, 0, 0, 0, 0, 0, 0, 0, 0, 0, 0, 0, 0, 0, 0, 0, 0, 0, 0, 0, 0,\n",
       "       0, 0, 0, 0, 0, 0, 0, 0, 0, 0, 1, 0, 0, 0, 0, 0, 1, 0, 0, 0, 0, 0,\n",
       "       0, 0, 0, 0, 0, 0, 0, 0, 0, 0, 0, 0], dtype=int64)"
      ]
     },
     "execution_count": 16,
     "metadata": {},
     "output_type": "execute_result"
    }
   ],
   "source": [
    "model.predict(X_test[:100])"
   ]
  },
  {
   "cell_type": "markdown",
   "metadata": {},
   "source": [
    "#### 7.調整參數（重複5,6）"
   ]
  },
  {
   "cell_type": "markdown",
   "metadata": {},
   "source": [
    "## LightGBM"
   ]
  },
  {
   "cell_type": "markdown",
   "metadata": {},
   "source": [
    "#### 4.定義模型"
   ]
  },
  {
   "cell_type": "code",
   "execution_count": 23,
   "metadata": {},
   "outputs": [],
   "source": [
    "import lightgbm as lgb\n",
    "from sklearn import metrics\n",
    "\n",
    "model = lgb.LGBMClassifier(silent=False,max_depth=50,n_estimators=300,num_leaves=900,learning_rate=0.1)"
   ]
  },
  {
   "cell_type": "markdown",
   "metadata": {},
   "source": [
    "#### 5.訓練模型"
   ]
  },
  {
   "cell_type": "code",
   "execution_count": 24,
   "metadata": {},
   "outputs": [
    {
     "name": "stdout",
     "output_type": "stream",
     "text": [
      "[1]\tvalid_0's auc: 0.649466\tvalid_0's binary_logloss: 0.516854\n",
      "Training until validation scores don't improve for 2 rounds\n",
      "[2]\tvalid_0's auc: 0.662754\tvalid_0's binary_logloss: 0.510482\n",
      "[3]\tvalid_0's auc: 0.668986\tvalid_0's binary_logloss: 0.505514\n",
      "[4]\tvalid_0's auc: 0.676477\tvalid_0's binary_logloss: 0.500946\n",
      "[5]\tvalid_0's auc: 0.682268\tvalid_0's binary_logloss: 0.496916\n",
      "[6]\tvalid_0's auc: 0.687497\tvalid_0's binary_logloss: 0.493426\n",
      "[7]\tvalid_0's auc: 0.690124\tvalid_0's binary_logloss: 0.490761\n",
      "[8]\tvalid_0's auc: 0.691\tvalid_0's binary_logloss: 0.488933\n",
      "[9]\tvalid_0's auc: 0.694617\tvalid_0's binary_logloss: 0.486524\n",
      "[10]\tvalid_0's auc: 0.696161\tvalid_0's binary_logloss: 0.484875\n",
      "[11]\tvalid_0's auc: 0.69816\tvalid_0's binary_logloss: 0.483084\n",
      "[12]\tvalid_0's auc: 0.699375\tvalid_0's binary_logloss: 0.481686\n",
      "[13]\tvalid_0's auc: 0.701199\tvalid_0's binary_logloss: 0.480332\n",
      "[14]\tvalid_0's auc: 0.702114\tvalid_0's binary_logloss: 0.47924\n",
      "[15]\tvalid_0's auc: 0.704176\tvalid_0's binary_logloss: 0.477925\n",
      "[16]\tvalid_0's auc: 0.704755\tvalid_0's binary_logloss: 0.477292\n",
      "[17]\tvalid_0's auc: 0.705563\tvalid_0's binary_logloss: 0.476537\n",
      "[18]\tvalid_0's auc: 0.705864\tvalid_0's binary_logloss: 0.476015\n",
      "[19]\tvalid_0's auc: 0.706674\tvalid_0's binary_logloss: 0.475423\n",
      "[20]\tvalid_0's auc: 0.707085\tvalid_0's binary_logloss: 0.474978\n",
      "[21]\tvalid_0's auc: 0.707694\tvalid_0's binary_logloss: 0.474527\n",
      "[22]\tvalid_0's auc: 0.708704\tvalid_0's binary_logloss: 0.473788\n",
      "[23]\tvalid_0's auc: 0.709717\tvalid_0's binary_logloss: 0.473199\n",
      "[24]\tvalid_0's auc: 0.710524\tvalid_0's binary_logloss: 0.472539\n",
      "[25]\tvalid_0's auc: 0.711137\tvalid_0's binary_logloss: 0.472087\n",
      "[26]\tvalid_0's auc: 0.711476\tvalid_0's binary_logloss: 0.471825\n",
      "[27]\tvalid_0's auc: 0.711979\tvalid_0's binary_logloss: 0.47151\n",
      "[28]\tvalid_0's auc: 0.712095\tvalid_0's binary_logloss: 0.471402\n",
      "[29]\tvalid_0's auc: 0.713088\tvalid_0's binary_logloss: 0.470823\n",
      "[30]\tvalid_0's auc: 0.714168\tvalid_0's binary_logloss: 0.470252\n",
      "[31]\tvalid_0's auc: 0.714676\tvalid_0's binary_logloss: 0.470003\n",
      "[32]\tvalid_0's auc: 0.714531\tvalid_0's binary_logloss: 0.470068\n",
      "[33]\tvalid_0's auc: 0.714043\tvalid_0's binary_logloss: 0.47031\n",
      "Early stopping, best iteration is:\n",
      "[31]\tvalid_0's auc: 0.714676\tvalid_0's binary_logloss: 0.470003\n"
     ]
    },
    {
     "data": {
      "text/plain": [
       "LGBMClassifier(boosting_type='gbdt', class_weight=None, colsample_bytree=1.0,\n",
       "        importance_type='split', learning_rate=0.1, max_depth=50,\n",
       "        min_child_samples=20, min_child_weight=0.001, min_split_gain=0.0,\n",
       "        n_estimators=300, n_jobs=-1, num_leaves=900, objective=None,\n",
       "        random_state=None, reg_alpha=0.0, reg_lambda=0.0, silent=False,\n",
       "        subsample=1.0, subsample_for_bin=200000, subsample_freq=0)"
      ]
     },
     "execution_count": 24,
     "metadata": {},
     "output_type": "execute_result"
    }
   ],
   "source": [
    "model.fit(X_train,y_train, eval_metric='auc',eval_set=eval_set,\n",
    "          categorical_feature = 'auto',early_stopping_rounds=2)"
   ]
  },
  {
   "cell_type": "markdown",
   "metadata": {},
   "source": [
    "#### 6.評估模型表現"
   ]
  },
  {
   "cell_type": "code",
   "execution_count": 25,
   "metadata": {},
   "outputs": [
    {
     "data": {
      "text/plain": [
       "(0.956441350361449, 0.7146763063143753)"
      ]
     },
     "execution_count": 25,
     "metadata": {},
     "output_type": "execute_result"
    }
   ],
   "source": [
    "auc(model, X_train, X_test)"
   ]
  },
  {
   "cell_type": "markdown",
   "metadata": {},
   "source": [
    "#### 7.調整參數（重複5,6）"
   ]
  },
  {
   "cell_type": "markdown",
   "metadata": {},
   "source": [
    "## Catboost"
   ]
  },
  {
   "cell_type": "markdown",
   "metadata": {},
   "source": [
    "#### 4.定義模型"
   ]
  },
  {
   "cell_type": "code",
   "execution_count": 26,
   "metadata": {},
   "outputs": [
    {
     "data": {
      "text/html": [
       "<div>\n",
       "<style scoped>\n",
       "    .dataframe tbody tr th:only-of-type {\n",
       "        vertical-align: middle;\n",
       "    }\n",
       "\n",
       "    .dataframe tbody tr th {\n",
       "        vertical-align: top;\n",
       "    }\n",
       "\n",
       "    .dataframe thead th {\n",
       "        text-align: right;\n",
       "    }\n",
       "</style>\n",
       "<table border=\"1\" class=\"dataframe\">\n",
       "  <thead>\n",
       "    <tr style=\"text-align: right;\">\n",
       "      <th></th>\n",
       "      <th>MONTH</th>\n",
       "      <th>DAY</th>\n",
       "      <th>DAY_OF_WEEK</th>\n",
       "      <th>AIRLINE</th>\n",
       "      <th>FLIGHT_NUMBER</th>\n",
       "      <th>DESTINATION_AIRPORT</th>\n",
       "      <th>ORIGIN_AIRPORT</th>\n",
       "      <th>AIR_TIME</th>\n",
       "      <th>DEPARTURE_TIME</th>\n",
       "      <th>DISTANCE</th>\n",
       "      <th>ARRIVAL_DELAY</th>\n",
       "    </tr>\n",
       "  </thead>\n",
       "  <tbody>\n",
       "    <tr>\n",
       "      <th>167584</th>\n",
       "      <td>6</td>\n",
       "      <td>25</td>\n",
       "      <td>4</td>\n",
       "      <td>4</td>\n",
       "      <td>2110</td>\n",
       "      <td>298</td>\n",
       "      <td>346</td>\n",
       "      <td>142.0</td>\n",
       "      <td>846.0</td>\n",
       "      <td>1184</td>\n",
       "      <td>1</td>\n",
       "    </tr>\n",
       "    <tr>\n",
       "      <th>560454</th>\n",
       "      <td>11</td>\n",
       "      <td>21</td>\n",
       "      <td>6</td>\n",
       "      <td>13</td>\n",
       "      <td>1913</td>\n",
       "      <td>452</td>\n",
       "      <td>551</td>\n",
       "      <td>60.0</td>\n",
       "      <td>2103.0</td>\n",
       "      <td>414</td>\n",
       "      <td>0</td>\n",
       "    </tr>\n",
       "    <tr>\n",
       "      <th>218029</th>\n",
       "      <td>5</td>\n",
       "      <td>21</td>\n",
       "      <td>4</td>\n",
       "      <td>1</td>\n",
       "      <td>1218</td>\n",
       "      <td>364</td>\n",
       "      <td>383</td>\n",
       "      <td>173.0</td>\n",
       "      <td>556.0</td>\n",
       "      <td>1313</td>\n",
       "      <td>0</td>\n",
       "    </tr>\n",
       "    <tr>\n",
       "      <th>156358</th>\n",
       "      <td>5</td>\n",
       "      <td>12</td>\n",
       "      <td>2</td>\n",
       "      <td>14</td>\n",
       "      <td>732</td>\n",
       "      <td>555</td>\n",
       "      <td>468</td>\n",
       "      <td>244.0</td>\n",
       "      <td>1448.0</td>\n",
       "      <td>1733</td>\n",
       "      <td>0</td>\n",
       "    </tr>\n",
       "    <tr>\n",
       "      <th>408552</th>\n",
       "      <td>2</td>\n",
       "      <td>20</td>\n",
       "      <td>5</td>\n",
       "      <td>14</td>\n",
       "      <td>4822</td>\n",
       "      <td>327</td>\n",
       "      <td>387</td>\n",
       "      <td>155.0</td>\n",
       "      <td>1504.0</td>\n",
       "      <td>1165</td>\n",
       "      <td>0</td>\n",
       "    </tr>\n",
       "  </tbody>\n",
       "</table>\n",
       "</div>"
      ],
      "text/plain": [
       "        MONTH  DAY  DAY_OF_WEEK  AIRLINE  FLIGHT_NUMBER  DESTINATION_AIRPORT  \\\n",
       "167584      6   25            4        4           2110                  298   \n",
       "560454     11   21            6       13           1913                  452   \n",
       "218029      5   21            4        1           1218                  364   \n",
       "156358      5   12            2       14            732                  555   \n",
       "408552      2   20            5       14           4822                  327   \n",
       "\n",
       "        ORIGIN_AIRPORT  AIR_TIME  DEPARTURE_TIME  DISTANCE  ARRIVAL_DELAY  \n",
       "167584             346     142.0           846.0      1184              1  \n",
       "560454             551      60.0          2103.0       414              0  \n",
       "218029             383     173.0           556.0      1313              0  \n",
       "156358             468     244.0          1448.0      1733              0  \n",
       "408552             387     155.0          1504.0      1165              0  "
      ]
     },
     "execution_count": 26,
     "metadata": {},
     "output_type": "execute_result"
    }
   ],
   "source": [
    "data.head()"
   ]
  },
  {
   "cell_type": "code",
   "execution_count": 27,
   "metadata": {},
   "outputs": [],
   "source": [
    "import catboost as cb\n",
    "cat_features_index = [0,1,2,3,4,5,6]\n",
    "\n",
    "\n",
    "#With Categorical features\n",
    "clf = cb.CatBoostClassifier(eval_metric=\"AUC\",one_hot_max_size=31, \\\n",
    "                            depth=10, iterations= 500, l2_leaf_reg= 9, learning_rate= 0.15)\n"
   ]
  },
  {
   "cell_type": "markdown",
   "metadata": {},
   "source": [
    "#### 5.訓練模型"
   ]
  },
  {
   "cell_type": "code",
   "execution_count": 28,
   "metadata": {},
   "outputs": [
    {
     "name": "stdout",
     "output_type": "stream",
     "text": [
      "0:\ttest: 0.6297311\tbest: 0.6297311 (0)\ttotal: 360ms\tremaining: 2m 59s\n",
      "1:\ttest: 0.6435833\tbest: 0.6435833 (1)\ttotal: 661ms\tremaining: 2m 44s\n",
      "2:\ttest: 0.6464603\tbest: 0.6464603 (2)\ttotal: 1.14s\tremaining: 3m 8s\n",
      "3:\ttest: 0.6468310\tbest: 0.6468310 (3)\ttotal: 1.34s\tremaining: 2m 46s\n",
      "4:\ttest: 0.6508252\tbest: 0.6508252 (4)\ttotal: 2.02s\tremaining: 3m 20s\n",
      "5:\ttest: 0.6529403\tbest: 0.6529403 (5)\ttotal: 2.6s\tremaining: 3m 34s\n",
      "6:\ttest: 0.6572084\tbest: 0.6572084 (6)\ttotal: 2.96s\tremaining: 3m 28s\n",
      "7:\ttest: 0.6624582\tbest: 0.6624582 (7)\ttotal: 3.37s\tremaining: 3m 27s\n",
      "8:\ttest: 0.6652365\tbest: 0.6652365 (8)\ttotal: 3.84s\tremaining: 3m 29s\n",
      "9:\ttest: 0.6674497\tbest: 0.6674497 (9)\ttotal: 4.27s\tremaining: 3m 29s\n",
      "10:\ttest: 0.6684949\tbest: 0.6684949 (10)\ttotal: 4.59s\tremaining: 3m 24s\n",
      "11:\ttest: 0.6712439\tbest: 0.6712439 (11)\ttotal: 5.2s\tremaining: 3m 31s\n",
      "12:\ttest: 0.6721717\tbest: 0.6721717 (12)\ttotal: 5.93s\tremaining: 3m 42s\n",
      "13:\ttest: 0.6744488\tbest: 0.6744488 (13)\ttotal: 6.44s\tremaining: 3m 43s\n",
      "14:\ttest: 0.6766083\tbest: 0.6766083 (14)\ttotal: 7.08s\tremaining: 3m 48s\n",
      "15:\ttest: 0.6771131\tbest: 0.6771131 (15)\ttotal: 7.71s\tremaining: 3m 53s\n",
      "16:\ttest: 0.6778712\tbest: 0.6778712 (16)\ttotal: 8.19s\tremaining: 3m 52s\n",
      "17:\ttest: 0.6797504\tbest: 0.6797504 (17)\ttotal: 8.78s\tremaining: 3m 55s\n",
      "18:\ttest: 0.6801745\tbest: 0.6801745 (18)\ttotal: 9.19s\tremaining: 3m 52s\n",
      "19:\ttest: 0.6814524\tbest: 0.6814524 (19)\ttotal: 9.67s\tremaining: 3m 52s\n",
      "20:\ttest: 0.6816734\tbest: 0.6816734 (20)\ttotal: 10.1s\tremaining: 3m 50s\n",
      "21:\ttest: 0.6836071\tbest: 0.6836071 (21)\ttotal: 10.7s\tremaining: 3m 52s\n",
      "22:\ttest: 0.6842685\tbest: 0.6842685 (22)\ttotal: 11.4s\tremaining: 3m 55s\n",
      "23:\ttest: 0.6855465\tbest: 0.6855465 (23)\ttotal: 11.9s\tremaining: 3m 55s\n",
      "24:\ttest: 0.6870863\tbest: 0.6870863 (24)\ttotal: 12.2s\tremaining: 3m 51s\n",
      "25:\ttest: 0.6886858\tbest: 0.6886858 (25)\ttotal: 12.5s\tremaining: 3m 48s\n",
      "26:\ttest: 0.6885171\tbest: 0.6886858 (25)\ttotal: 13.1s\tremaining: 3m 50s\n",
      "27:\ttest: 0.6893934\tbest: 0.6893934 (27)\ttotal: 13.5s\tremaining: 3m 48s\n",
      "28:\ttest: 0.6904661\tbest: 0.6904661 (28)\ttotal: 14s\tremaining: 3m 47s\n",
      "29:\ttest: 0.6912567\tbest: 0.6912567 (29)\ttotal: 14.4s\tremaining: 3m 46s\n",
      "30:\ttest: 0.6918193\tbest: 0.6918193 (30)\ttotal: 14.8s\tremaining: 3m 43s\n",
      "31:\ttest: 0.6919932\tbest: 0.6919932 (31)\ttotal: 15.2s\tremaining: 3m 41s\n",
      "32:\ttest: 0.6929034\tbest: 0.6929034 (32)\ttotal: 15.5s\tremaining: 3m 39s\n",
      "33:\ttest: 0.6935087\tbest: 0.6935087 (33)\ttotal: 15.9s\tremaining: 3m 37s\n",
      "34:\ttest: 0.6941703\tbest: 0.6941703 (34)\ttotal: 16.3s\tremaining: 3m 35s\n",
      "35:\ttest: 0.6950374\tbest: 0.6950374 (35)\ttotal: 16.6s\tremaining: 3m 34s\n",
      "36:\ttest: 0.6958998\tbest: 0.6958998 (36)\ttotal: 16.9s\tremaining: 3m 31s\n",
      "37:\ttest: 0.6968657\tbest: 0.6968657 (37)\ttotal: 17.2s\tremaining: 3m 28s\n",
      "38:\ttest: 0.6970223\tbest: 0.6970223 (38)\ttotal: 17.3s\tremaining: 3m 24s\n",
      "39:\ttest: 0.6977438\tbest: 0.6977438 (39)\ttotal: 17.7s\tremaining: 3m 23s\n",
      "40:\ttest: 0.6978553\tbest: 0.6978553 (40)\ttotal: 18s\tremaining: 3m 21s\n",
      "41:\ttest: 0.6982211\tbest: 0.6982211 (41)\ttotal: 18.7s\tremaining: 3m 24s\n",
      "42:\ttest: 0.6981087\tbest: 0.6982211 (41)\ttotal: 19.1s\tremaining: 3m 22s\n",
      "43:\ttest: 0.6989060\tbest: 0.6989060 (43)\ttotal: 19.6s\tremaining: 3m 22s\n",
      "44:\ttest: 0.6990137\tbest: 0.6990137 (44)\ttotal: 20s\tremaining: 3m 22s\n",
      "45:\ttest: 0.6996728\tbest: 0.6996728 (45)\ttotal: 20.7s\tremaining: 3m 24s\n",
      "46:\ttest: 0.7001931\tbest: 0.7001931 (46)\ttotal: 21.1s\tremaining: 3m 23s\n",
      "47:\ttest: 0.7002727\tbest: 0.7002727 (47)\ttotal: 21.5s\tremaining: 3m 22s\n",
      "48:\ttest: 0.7006353\tbest: 0.7006353 (48)\ttotal: 21.9s\tremaining: 3m 21s\n",
      "49:\ttest: 0.7012594\tbest: 0.7012594 (49)\ttotal: 22.2s\tremaining: 3m 20s\n",
      "50:\ttest: 0.7020717\tbest: 0.7020717 (50)\ttotal: 22.7s\tremaining: 3m 19s\n",
      "51:\ttest: 0.7025215\tbest: 0.7025215 (51)\ttotal: 23.1s\tremaining: 3m 18s\n",
      "52:\ttest: 0.7031584\tbest: 0.7031584 (52)\ttotal: 23.4s\tremaining: 3m 17s\n",
      "53:\ttest: 0.7037064\tbest: 0.7037064 (53)\ttotal: 23.7s\tremaining: 3m 15s\n",
      "54:\ttest: 0.7042855\tbest: 0.7042855 (54)\ttotal: 24.1s\tremaining: 3m 14s\n",
      "55:\ttest: 0.7043633\tbest: 0.7043633 (55)\ttotal: 24.5s\tremaining: 3m 14s\n",
      "56:\ttest: 0.7046108\tbest: 0.7046108 (56)\ttotal: 24.9s\tremaining: 3m 13s\n",
      "57:\ttest: 0.7049487\tbest: 0.7049487 (57)\ttotal: 25.3s\tremaining: 3m 13s\n",
      "58:\ttest: 0.7050038\tbest: 0.7050038 (58)\ttotal: 25.8s\tremaining: 3m 12s\n",
      "59:\ttest: 0.7051434\tbest: 0.7051434 (59)\ttotal: 26.3s\tremaining: 3m 12s\n",
      "60:\ttest: 0.7051939\tbest: 0.7051939 (60)\ttotal: 26.6s\tremaining: 3m 11s\n",
      "61:\ttest: 0.7056605\tbest: 0.7056605 (61)\ttotal: 26.9s\tremaining: 3m 10s\n",
      "62:\ttest: 0.7057386\tbest: 0.7057386 (62)\ttotal: 27.2s\tremaining: 3m 8s\n",
      "63:\ttest: 0.7058667\tbest: 0.7058667 (63)\ttotal: 27.5s\tremaining: 3m 7s\n",
      "64:\ttest: 0.7061275\tbest: 0.7061275 (64)\ttotal: 28s\tremaining: 3m 7s\n",
      "65:\ttest: 0.7062931\tbest: 0.7062931 (65)\ttotal: 28.3s\tremaining: 3m 6s\n",
      "66:\ttest: 0.7070614\tbest: 0.7070614 (66)\ttotal: 28.6s\tremaining: 3m 4s\n",
      "67:\ttest: 0.7077039\tbest: 0.7077039 (67)\ttotal: 28.9s\tremaining: 3m 3s\n",
      "68:\ttest: 0.7078561\tbest: 0.7078561 (68)\ttotal: 29.4s\tremaining: 3m 3s\n",
      "69:\ttest: 0.7082118\tbest: 0.7082118 (69)\ttotal: 29.9s\tremaining: 3m 3s\n",
      "70:\ttest: 0.7081918\tbest: 0.7082118 (69)\ttotal: 30.3s\tremaining: 3m 2s\n",
      "71:\ttest: 0.7081095\tbest: 0.7082118 (69)\ttotal: 30.6s\tremaining: 3m 2s\n",
      "Stopped by overfitting detector  (2 iterations wait)\n",
      "\n",
      "bestTest = 0.7082117833\n",
      "bestIteration = 69\n",
      "\n",
      "Shrink model to first 70 iterations.\n"
     ]
    },
    {
     "data": {
      "text/plain": [
       "<catboost.core.CatBoostClassifier at 0x1a2cc53160>"
      ]
     },
     "execution_count": 28,
     "metadata": {},
     "output_type": "execute_result"
    }
   ],
   "source": [
    "clf.fit(X_train,y_train, cat_features= cat_features_index,eval_set=eval_set,early_stopping_rounds=2)"
   ]
  },
  {
   "cell_type": "markdown",
   "metadata": {},
   "source": [
    "#### 6.評估模型表現"
   ]
  },
  {
   "cell_type": "code",
   "execution_count": 29,
   "metadata": {},
   "outputs": [
    {
     "data": {
      "text/plain": [
       "(0.7547017963865237, 0.7082117832512316)"
      ]
     },
     "execution_count": 29,
     "metadata": {},
     "output_type": "execute_result"
    }
   ],
   "source": [
    "auc(clf, X_train, X_test)"
   ]
  },
  {
   "cell_type": "markdown",
   "metadata": {},
   "source": [
    "# 無作業"
   ]
  },
  {
   "cell_type": "code",
   "execution_count": null,
   "metadata": {},
   "outputs": [],
   "source": []
  }
 ],
 "metadata": {
  "kernelspec": {
   "display_name": "Python 3 (ipykernel)",
   "language": "python",
   "name": "python3"
  },
  "language_info": {
   "codemirror_mode": {
    "name": "ipython",
    "version": 3
   },
   "file_extension": ".py",
   "mimetype": "text/x-python",
   "name": "python",
   "nbconvert_exporter": "python",
   "pygments_lexer": "ipython3",
   "version": "3.9.7"
  }
 },
 "nbformat": 4,
 "nbformat_minor": 4
}
