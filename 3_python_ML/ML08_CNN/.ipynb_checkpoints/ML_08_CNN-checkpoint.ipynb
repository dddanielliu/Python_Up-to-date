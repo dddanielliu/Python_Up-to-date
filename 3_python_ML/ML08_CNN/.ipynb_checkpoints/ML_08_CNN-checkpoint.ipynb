{
 "cells": [
  {
   "cell_type": "markdown",
   "metadata": {
    "colab_type": "text",
    "id": "B00XpL1_u9Iq"
   },
   "source": [
    "### 這堂課目標\n",
    "<li>Convolutional Neural Network (CNN)</li>\n",
    "\n",
    "- <a href=\"https://medium.com/jameslearningnote/資料分析-機器學習-第5-1講-卷積神經網絡介紹-convolutional-neural-network-4f8249d65d4f\">中文介紹（基本）</a>\n",
    "\n",
    "- <a href=\"https://towardsdatascience.com/understanding-cnn-convolutional-neural-network-69fd626ee7d4\">英文介紹（深入）</a>"
   ]
  },
  {
   "cell_type": "code",
   "execution_count": null,
   "metadata": {
    "colab": {},
    "colab_type": "code",
    "id": "4beus7MFIRSk"
   },
   "outputs": [],
   "source": [
    "import keras\n",
    "import numpy as np\n",
    "import matplotlib.pyplot as plt\n",
    "%matplotlib inline\n"
   ]
  },
  {
   "cell_type": "code",
   "execution_count": null,
   "metadata": {
    "colab": {},
    "colab_type": "code",
    "id": "bu6hGNklIRSz"
   },
   "outputs": [],
   "source": [
    "#把MNIST這個手寫數字的資料集載入，儲存在x_train,y_train,x_test,y_test裡面\n",
    "(x_train, y_train), (x_test, y_test) = keras.datasets.mnist.load_data()"
   ]
  },
  {
   "cell_type": "code",
   "execution_count": null,
   "metadata": {
    "colab": {},
    "colab_type": "code",
    "id": "yrn0T7uPIRS-",
    "outputId": "8afef60c-5072-4b9c-a1bf-d4f544d9ea47"
   },
   "outputs": [
    {
     "data": {
      "text/plain": [
       "((60000, 28, 28), (60000,), (10000, 28, 28), (10000,))"
      ]
     },
     "execution_count": 110,
     "metadata": {
      "tags": []
     },
     "output_type": "execute_result"
    }
   ],
   "source": [
    "x_train.shape,y_train.shape,x_test.shape,y_test.shape"
   ]
  },
  {
   "cell_type": "code",
   "execution_count": null,
   "metadata": {
    "colab": {},
    "colab_type": "code",
    "id": "hEOvU_U6IRTI",
    "outputId": "b3e88e2c-2a71-416b-844a-008b56f74458"
   },
   "outputs": [
    {
     "data": {
      "text/plain": [
       "5"
      ]
     },
     "execution_count": 111,
     "metadata": {
      "tags": []
     },
     "output_type": "execute_result"
    }
   ],
   "source": [
    "y_train[0]"
   ]
  },
  {
   "cell_type": "code",
   "execution_count": null,
   "metadata": {
    "colab": {},
    "colab_type": "code",
    "id": "_gd4RipwIRTQ",
    "outputId": "9158c202-a0bc-44a3-df56-8b9a418e8373"
   },
   "outputs": [
    {
     "data": {
      "text/plain": [
       "<matplotlib.image.AxesImage at 0xb358b6080>"
      ]
     },
     "execution_count": 113,
     "metadata": {
      "tags": []
     },
     "output_type": "execute_result"
    },
    {
     "data": {
      "image/png": "[encoded data removed]",
      "text/plain": [
       "<Figure size 432x288 with 1 Axes>"
      ]
     },
     "metadata": {
      "needs_background": "light",
      "tags": []
     },
     "output_type": "display_data"
    }
   ],
   "source": [
    "plt.imshow(x_train[0],cmap='gray')\n"
   ]
  },
  {
   "cell_type": "code",
   "execution_count": null,
   "metadata": {
    "colab": {},
    "colab_type": "code",
    "id": "eAcsO9VIIRTt",
    "outputId": "979d25d4-4d07-4c9d-bd5c-a3b7d3eacd0e"
   },
   "outputs": [
    {
     "data": {
      "text/plain": [
       "(60000, 28, 28, 1)"
      ]
     },
     "execution_count": 114,
     "metadata": {
      "tags": []
     },
     "output_type": "execute_result"
    }
   ],
   "source": [
    "x_train = x_train.reshape(x_train.shape[0],x_train.shape[1],x_train.shape[2],1)\n",
    "x_train.shape"
   ]
  },
  {
   "cell_type": "code",
   "execution_count": null,
   "metadata": {
    "colab": {},
    "colab_type": "code",
    "id": "QtHXSdQau9JO",
    "outputId": "ad8a40a6-b5f8-4ee2-c8ca-3f0c221a1477"
   },
   "outputs": [
    {
     "data": {
      "text/plain": [
       "5"
      ]
     },
     "execution_count": 115,
     "metadata": {
      "tags": []
     },
     "output_type": "execute_result"
    }
   ],
   "source": [
    "y_train[0]"
   ]
  },
  {
   "cell_type": "code",
   "execution_count": null,
   "metadata": {
    "colab": {},
    "colab_type": "code",
    "id": "2PIJP9kpIRT4"
   },
   "outputs": [],
   "source": [
    "y_train = keras.utils.to_categorical(y_train, num_classes=10)\n"
   ]
  },
  {
   "cell_type": "code",
   "execution_count": null,
   "metadata": {
    "colab": {},
    "colab_type": "code",
    "id": "9ql-jDAEu9JW",
    "outputId": "edbc427a-991c-4218-d567-47c0aa0de074"
   },
   "outputs": [
    {
     "data": {
      "text/plain": [
       "array([0., 0., 0., 0., 0., 1., 0., 0., 0., 0.], dtype=float32)"
      ]
     },
     "execution_count": 117,
     "metadata": {
      "tags": []
     },
     "output_type": "execute_result"
    }
   ],
   "source": [
    "y_train[0]"
   ]
  },
  {
   "cell_type": "code",
   "execution_count": null,
   "metadata": {
    "colab": {},
    "colab_type": "code",
    "id": "62pA-63jIRUB"
   },
   "outputs": [],
   "source": [
    "model = keras.Sequential()\n",
    "#filter:幾種不同特徵、 kernel_size：每次看的大小、strides：每次移動的距離、padding：要不要用0補邊框\n",
    "model.add(keras.layers.Conv2D(filters=32,kernel_size=(2,2),\n",
    "                              strides=(1,1),padding='valid',input_shape=(28,28,1),activation='sigmoid'))\n",
    "\n",
    "#取代表性並縮小圖片大小\n",
    "model.add(keras.layers.MaxPool2D(pool_size=(2,2)))\n",
    "model.add(keras.layers.Conv2D(filters=32,kernel_size=(2,2),\n",
    "                              strides=(1,1),padding='valid',activation='sigmoid'))\n",
    "model.add(keras.layers.MaxPool2D(pool_size=(2,2)))\n",
    "#壓扁資料，以便進入dense層\n",
    "model.add(keras.layers.Flatten())\n",
    "#output到10個類別，用softmax決定百分比（機率）\n",
    "model.add(keras.layers.Dense(10,activation='softmax'))"
   ]
  },
  {
   "cell_type": "code",
   "execution_count": null,
   "metadata": {
    "colab": {},
    "colab_type": "code",
    "id": "J1aIS2KiIRUK",
    "outputId": "34cf2996-ec02-4295-86b7-0edfbf911340"
   },
   "outputs": [
    {
     "name": "stdout",
     "output_type": "stream",
     "text": [
      "_________________________________________________________________\n",
      "Layer (type)                 Output Shape              Param #   \n",
      "=================================================================\n",
      "conv2d_20 (Conv2D)           (None, 27, 27, 32)        160       \n",
      "_________________________________________________________________\n",
      "max_pooling2d_17 (MaxPooling (None, 13, 13, 32)        0         \n",
      "_________________________________________________________________\n",
      "conv2d_21 (Conv2D)           (None, 12, 12, 32)        4128      \n",
      "_________________________________________________________________\n",
      "max_pooling2d_18 (MaxPooling (None, 6, 6, 32)          0         \n",
      "_________________________________________________________________\n",
      "flatten_9 (Flatten)          (None, 1152)              0         \n",
      "_________________________________________________________________\n",
      "dense_9 (Dense)              (None, 10)                11530     \n",
      "=================================================================\n",
      "Total params: 15,818\n",
      "Trainable params: 15,818\n",
      "Non-trainable params: 0\n",
      "_________________________________________________________________\n"
     ]
    }
   ],
   "source": [
    "model.summary()"
   ]
  },
  {
   "cell_type": "code",
   "execution_count": null,
   "metadata": {
    "colab": {},
    "colab_type": "code",
    "id": "EkRVTOcEIRUU"
   },
   "outputs": [],
   "source": [
    "model.compile(optimizer='adam',loss='categorical_crossentropy',metrics=['acc'])"
   ]
  },
  {
   "cell_type": "code",
   "execution_count": null,
   "metadata": {
    "colab": {},
    "colab_type": "code",
    "id": "Eo21fHGoIRUc",
    "outputId": "50e5086c-2ff0-4d74-840e-73f35da4174f"
   },
   "outputs": [
    {
     "name": "stdout",
     "output_type": "stream",
     "text": [
      "Train on 48000 samples, validate on 12000 samples\n",
      "Epoch 1/10\n",
      "48000/48000 [==============================] - 33s 680us/step - loss: 1.3069 - acc: 0.6366 - val_loss: 0.4732 - val_acc: 0.8768\n",
      "Epoch 2/10\n",
      "48000/48000 [==============================] - 28s 584us/step - loss: 0.3973 - acc: 0.8880 - val_loss: 0.3004 - val_acc: 0.9136\n",
      "Epoch 3/10\n",
      "48000/48000 [==============================] - 29s 597us/step - loss: 0.2817 - acc: 0.9200 - val_loss: 0.2243 - val_acc: 0.9367\n",
      "Epoch 4/10\n",
      "48000/48000 [==============================] - 27s 566us/step - loss: 0.2181 - acc: 0.9384 - val_loss: 0.1830 - val_acc: 0.9504\n",
      "Epoch 5/10\n",
      "48000/48000 [==============================] - 27s 566us/step - loss: 0.1776 - acc: 0.9490 - val_loss: 0.1559 - val_acc: 0.9552\n",
      "Epoch 6/10\n",
      "48000/48000 [==============================] - 27s 561us/step - loss: 0.1516 - acc: 0.9568 - val_loss: 0.1358 - val_acc: 0.9642\n",
      "Epoch 7/10\n",
      "48000/48000 [==============================] - 28s 584us/step - loss: 0.1319 - acc: 0.9622 - val_loss: 0.1204 - val_acc: 0.9689\n",
      "Epoch 8/10\n",
      "48000/48000 [==============================] - 28s 587us/step - loss: 0.1163 - acc: 0.9665 - val_loss: 0.1092 - val_acc: 0.9700\n",
      "Epoch 9/10\n",
      "48000/48000 [==============================] - 26s 551us/step - loss: 0.1050 - acc: 0.9702 - val_loss: 0.0979 - val_acc: 0.9736\n",
      "Epoch 10/10\n",
      "48000/48000 [==============================] - 26s 550us/step - loss: 0.0962 - acc: 0.9719 - val_loss: 0.0952 - val_acc: 0.9730\n"
     ]
    },
    {
     "data": {
      "text/plain": [
       "<keras.callbacks.History at 0xb35894b00>"
      ]
     },
     "execution_count": 121,
     "metadata": {
      "tags": []
     },
     "output_type": "execute_result"
    }
   ],
   "source": [
    "model.fit(x_train,y_train,validation_split=0.2,epochs=10,batch_size=200)"
   ]
  },
  {
   "cell_type": "code",
   "execution_count": null,
   "metadata": {
    "colab": {},
    "colab_type": "code",
    "id": "Ez6ges1gu9Jm"
   },
   "outputs": [],
   "source": [
    "x_test = x_test.reshape(x_test.shape[0],x_test.shape[1],x_test.shape[2],1)\n",
    "y_pred = model.predict_classes(x_test,batch_size=1000)"
   ]
  },
  {
   "cell_type": "code",
   "execution_count": null,
   "metadata": {
    "colab": {},
    "colab_type": "code",
    "id": "CtDL58dIu9Jp",
    "outputId": "96fcd06f-dc94-4030-fbc8-857242a2f593"
   },
   "outputs": [
    {
     "name": "stdout",
     "output_type": "stream",
     "text": [
      "Testing Set Prediction Accuracy: 97.39999999999999 %\n"
     ]
    }
   ],
   "source": [
    "accuracy = np.mean(y_pred == y_test)\n",
    "print(\"Testing Set Prediction Accuracy:\", (accuracy*100),\"%\")"
   ]
  },
  {
   "cell_type": "code",
   "execution_count": null,
   "metadata": {
    "colab": {},
    "colab_type": "code",
    "id": "2EbQR-KzIRUj"
   },
   "outputs": [],
   "source": [
    "# 作業\n",
    "按照上述流程載入 keras.datasets.cifar10.load_data()，並用上述CNN方法針對testing_data正確率\n",
    "（50%>>70分,60%>>80分,70%>>85分,80%>>90分,90%>>100分）\n",
    "\n",
    "\n",
    "資料說明：https://www.cs.toronto.edu/~kriz/cifar.html"
   ]
  },
  {
   "cell_type": "code",
   "execution_count": null,
   "metadata": {
    "colab": {},
    "colab_type": "code",
    "id": "S5loJzNaIRUq",
    "outputId": "45af5754-e82f-42ce-ee0c-6623c067ce8e"
   },
   "outputs": [
    {
     "name": "stdout",
     "output_type": "stream",
     "text": [
      "Downloading data from https://www.cs.toronto.edu/~kriz/cifar-10-python.tar.gz\n",
      "170500096/170498071 [==============================] - 354s 2us/step\n"
     ]
    }
   ],
   "source": [
    "(x_train, y_train), (x_test, y_test) = keras.datasets.cifar10.load_data()"
   ]
  },
  {
   "cell_type": "code",
   "execution_count": null,
   "metadata": {
    "colab": {},
    "colab_type": "code",
    "id": "wpWtcnvOu9Jz",
    "outputId": "33a6a96e-5bd5-43b6-e403-99cec9a7fa29"
   },
   "outputs": [
    {
     "data": {
      "text/plain": [
       "(50000, 32, 32, 3)"
      ]
     },
     "execution_count": 77,
     "metadata": {
      "tags": []
     },
     "output_type": "execute_result"
    }
   ],
   "source": [
    "x_train.shape"
   ]
  }
 ],
 "metadata": {
  "anaconda-cloud": {},
  "colab": {
   "name": "ML_08_CNN.ipynb",
   "provenance": []
  },
  "kernelspec": {
   "display_name": "Python 3",
   "language": "python",
   "name": "python3"
  },
  "language_info": {
   "codemirror_mode": {
    "name": "ipython",
    "version": 3
   },
   "file_extension": ".py",
   "mimetype": "text/x-python",
   "name": "python",
   "nbconvert_exporter": "python",
   "pygments_lexer": "ipython3",
   "version": "3.7.4"
  }
 },
 "nbformat": 4,
 "nbformat_minor": 4
}
