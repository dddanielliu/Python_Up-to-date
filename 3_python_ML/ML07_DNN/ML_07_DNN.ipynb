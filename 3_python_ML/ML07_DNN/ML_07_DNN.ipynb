{
 "cells": [
  {
   "cell_type": "markdown",
   "metadata": {},
   "source": [
    "### 這堂課目標\n",
    "<li>Deep Neural Network (DNN)</li>\n",
    "\n",
    "- <a href=\"https://drive.google.com/open?id=1io6A-ZRL9KPw1PJ3fjJNij2Pl7RLjOWA\">投影片1 : 深度學習類型介紹</a>\n",
    "\n",
    "- <a href=\"https://drive.google.com/open?id=1inmvcLopAGhe8h5Zircsb4ToBEgehhxC\">投影片2 : 名詞解釋</a>"
   ]
  },
  {
   "cell_type": "markdown",
   "metadata": {},
   "source": [
    "#### 第0步：安裝套件(keras, tensorflow)\n",
    "code originally written by Alvira Swalin"
   ]
  },
  {
   "cell_type": "code",
   "execution_count": 3,
   "metadata": {},
   "outputs": [
    {
     "ename": "ModuleNotFoundError",
     "evalue": "No module named 'keras'",
     "output_type": "error",
     "traceback": [
      "\u001b[0;31m---------------------------------------------------------------------------\u001b[0m",
      "\u001b[0;31mModuleNotFoundError\u001b[0m                       Traceback (most recent call last)",
      "Input \u001b[0;32mIn [3]\u001b[0m, in \u001b[0;36m<module>\u001b[0;34m\u001b[0m\n\u001b[1;32m      1\u001b[0m \u001b[38;5;66;03m## Tensorflow:google deep learning module, keras:high-level, use tensorflow as base\u001b[39;00m\n\u001b[1;32m      2\u001b[0m \u001b[38;5;28;01mimport\u001b[39;00m \u001b[38;5;21;01mpandas\u001b[39;00m \u001b[38;5;28;01mas\u001b[39;00m \u001b[38;5;21;01mpd\u001b[39;00m\n\u001b[0;32m----> 3\u001b[0m \u001b[38;5;28;01mimport\u001b[39;00m \u001b[38;5;21;01mkeras\u001b[39;00m\n\u001b[1;32m      4\u001b[0m \u001b[38;5;28;01mimport\u001b[39;00m \u001b[38;5;21;01mnumpy\u001b[39;00m \u001b[38;5;28;01mas\u001b[39;00m \u001b[38;5;21;01mnp\u001b[39;00m\n",
      "\u001b[0;31mModuleNotFoundError\u001b[0m: No module named 'keras'"
     ]
    }
   ],
   "source": [
    "## Tensorflow:google deep learning module, keras:high-level, use tensorflow as base\n",
    "import pandas as pd\n",
    "import keras\n",
    "import numpy as np\n",
    "# import sklearn\n",
    "# import sklearn.model_selection"
   ]
  },
  {
   "cell_type": "markdown",
   "metadata": {},
   "source": [
    "#### 1.載入資料"
   ]
  },
  {
   "cell_type": "code",
   "execution_count": 1,
   "metadata": {},
   "outputs": [
    {
     "ename": "NameError",
     "evalue": "name 'pd' is not defined",
     "output_type": "error",
     "traceback": [
      "\u001b[0;31m---------------------------------------------------------------------------\u001b[0m",
      "\u001b[0;31mNameError\u001b[0m                                 Traceback (most recent call last)",
      "\u001b[0;32m/var/folders/3v/81vd82f51r515jpgxp3jb8vh0000gn/T/ipykernel_13674/763609489.py\u001b[0m in \u001b[0;36m<module>\u001b[0;34m\u001b[0m\n\u001b[0;32m----> 1\u001b[0;31m \u001b[0mdf\u001b[0m \u001b[0;34m=\u001b[0m \u001b[0mpd\u001b[0m\u001b[0;34m.\u001b[0m\u001b[0mread_csv\u001b[0m\u001b[0;34m(\u001b[0m\u001b[0;34m'StudentsPerformance.csv'\u001b[0m\u001b[0;34m)\u001b[0m\u001b[0;34m\u001b[0m\u001b[0;34m\u001b[0m\u001b[0m\n\u001b[0m\u001b[1;32m      2\u001b[0m \u001b[0;31m#data source:https://www.kaggle.com/spscientist/students-performance-in-exams\u001b[0m\u001b[0;34m\u001b[0m\u001b[0;34m\u001b[0m\u001b[0m\n",
      "\u001b[0;31mNameError\u001b[0m: name 'pd' is not defined"
     ]
    }
   ],
   "source": [
    "df = pd.read_csv('StudentsPerformance.csv')\n",
    "#data source:https://www.kaggle.com/spscientist/students-performance-in-exams"
   ]
  },
  {
   "cell_type": "code",
   "execution_count": 3,
   "metadata": {},
   "outputs": [
    {
     "data": {
      "text/html": [
       "<div>\n",
       "<style scoped>\n",
       "    .dataframe tbody tr th:only-of-type {\n",
       "        vertical-align: middle;\n",
       "    }\n",
       "\n",
       "    .dataframe tbody tr th {\n",
       "        vertical-align: top;\n",
       "    }\n",
       "\n",
       "    .dataframe thead th {\n",
       "        text-align: right;\n",
       "    }\n",
       "</style>\n",
       "<table border=\"1\" class=\"dataframe\">\n",
       "  <thead>\n",
       "    <tr style=\"text-align: right;\">\n",
       "      <th></th>\n",
       "      <th>gender</th>\n",
       "      <th>race/ethnicity</th>\n",
       "      <th>parental level of education</th>\n",
       "      <th>lunch</th>\n",
       "      <th>test preparation course</th>\n",
       "      <th>math score</th>\n",
       "      <th>reading score</th>\n",
       "      <th>writing score</th>\n",
       "    </tr>\n",
       "  </thead>\n",
       "  <tbody>\n",
       "    <tr>\n",
       "      <th>0</th>\n",
       "      <td>female</td>\n",
       "      <td>group B</td>\n",
       "      <td>bachelor's degree</td>\n",
       "      <td>standard</td>\n",
       "      <td>none</td>\n",
       "      <td>72</td>\n",
       "      <td>72</td>\n",
       "      <td>74</td>\n",
       "    </tr>\n",
       "    <tr>\n",
       "      <th>1</th>\n",
       "      <td>female</td>\n",
       "      <td>group C</td>\n",
       "      <td>some college</td>\n",
       "      <td>standard</td>\n",
       "      <td>completed</td>\n",
       "      <td>69</td>\n",
       "      <td>90</td>\n",
       "      <td>88</td>\n",
       "    </tr>\n",
       "    <tr>\n",
       "      <th>2</th>\n",
       "      <td>female</td>\n",
       "      <td>group B</td>\n",
       "      <td>master's degree</td>\n",
       "      <td>standard</td>\n",
       "      <td>none</td>\n",
       "      <td>90</td>\n",
       "      <td>95</td>\n",
       "      <td>93</td>\n",
       "    </tr>\n",
       "    <tr>\n",
       "      <th>3</th>\n",
       "      <td>male</td>\n",
       "      <td>group A</td>\n",
       "      <td>associate's degree</td>\n",
       "      <td>free/reduced</td>\n",
       "      <td>none</td>\n",
       "      <td>47</td>\n",
       "      <td>57</td>\n",
       "      <td>44</td>\n",
       "    </tr>\n",
       "    <tr>\n",
       "      <th>4</th>\n",
       "      <td>male</td>\n",
       "      <td>group C</td>\n",
       "      <td>some college</td>\n",
       "      <td>standard</td>\n",
       "      <td>none</td>\n",
       "      <td>76</td>\n",
       "      <td>78</td>\n",
       "      <td>75</td>\n",
       "    </tr>\n",
       "  </tbody>\n",
       "</table>\n",
       "</div>"
      ],
      "text/plain": [
       "   gender race/ethnicity parental level of education         lunch  \\\n",
       "0  female        group B           bachelor's degree      standard   \n",
       "1  female        group C                some college      standard   \n",
       "2  female        group B             master's degree      standard   \n",
       "3    male        group A          associate's degree  free/reduced   \n",
       "4    male        group C                some college      standard   \n",
       "\n",
       "  test preparation course  math score  reading score  writing score  \n",
       "0                    none          72             72             74  \n",
       "1               completed          69             90             88  \n",
       "2                    none          90             95             93  \n",
       "3                    none          47             57             44  \n",
       "4                    none          76             78             75  "
      ]
     },
     "execution_count": 3,
     "metadata": {},
     "output_type": "execute_result"
    }
   ],
   "source": [
    "df.head()"
   ]
  },
  {
   "cell_type": "code",
   "execution_count": 5,
   "metadata": {},
   "outputs": [
    {
     "data": {
      "text/plain": [
       "gender                          2\n",
       "race/ethnicity                  5\n",
       "parental level of education     6\n",
       "lunch                           2\n",
       "test preparation course         2\n",
       "math score                     81\n",
       "reading score                  72\n",
       "writing score                  77\n",
       "dtype: int64"
      ]
     },
     "execution_count": 5,
     "metadata": {},
     "output_type": "execute_result"
    }
   ],
   "source": [
    "df.nunique()"
   ]
  },
  {
   "cell_type": "markdown",
   "metadata": {},
   "source": [
    "#### 2.清洗資料（data cleaning / Feature engineering）"
   ]
  },
  {
   "cell_type": "code",
   "execution_count": 6,
   "metadata": {},
   "outputs": [],
   "source": [
    "target = df['math score'] #建立預測目標\n",
    "one_hot_data = df.drop(['writing score','math score', 'reading score'],axis=1) #準備做one hot encoding\n",
    "data = pd.get_dummies(one_hot_data) #one hot encoding\n",
    "data = pd.concat([data,df[['writing score','reading score']]],axis=1) #把數值資料補回去df內"
   ]
  },
  {
   "cell_type": "code",
   "execution_count": 8,
   "metadata": {},
   "outputs": [
    {
     "name": "stdout",
     "output_type": "stream",
     "text": [
      "(1000, 19)\n"
     ]
    },
    {
     "data": {
      "text/html": [
       "<div>\n",
       "<style scoped>\n",
       "    .dataframe tbody tr th:only-of-type {\n",
       "        vertical-align: middle;\n",
       "    }\n",
       "\n",
       "    .dataframe tbody tr th {\n",
       "        vertical-align: top;\n",
       "    }\n",
       "\n",
       "    .dataframe thead th {\n",
       "        text-align: right;\n",
       "    }\n",
       "</style>\n",
       "<table border=\"1\" class=\"dataframe\">\n",
       "  <thead>\n",
       "    <tr style=\"text-align: right;\">\n",
       "      <th></th>\n",
       "      <th>gender_female</th>\n",
       "      <th>gender_male</th>\n",
       "      <th>race/ethnicity_group A</th>\n",
       "      <th>race/ethnicity_group B</th>\n",
       "      <th>race/ethnicity_group C</th>\n",
       "      <th>race/ethnicity_group D</th>\n",
       "      <th>race/ethnicity_group E</th>\n",
       "      <th>parental level of education_associate's degree</th>\n",
       "      <th>parental level of education_bachelor's degree</th>\n",
       "      <th>parental level of education_high school</th>\n",
       "      <th>parental level of education_master's degree</th>\n",
       "      <th>parental level of education_some college</th>\n",
       "      <th>parental level of education_some high school</th>\n",
       "      <th>lunch_free/reduced</th>\n",
       "      <th>lunch_standard</th>\n",
       "      <th>test preparation course_completed</th>\n",
       "      <th>test preparation course_none</th>\n",
       "      <th>writing score</th>\n",
       "      <th>reading score</th>\n",
       "    </tr>\n",
       "  </thead>\n",
       "  <tbody>\n",
       "    <tr>\n",
       "      <th>0</th>\n",
       "      <td>1</td>\n",
       "      <td>0</td>\n",
       "      <td>0</td>\n",
       "      <td>1</td>\n",
       "      <td>0</td>\n",
       "      <td>0</td>\n",
       "      <td>0</td>\n",
       "      <td>0</td>\n",
       "      <td>1</td>\n",
       "      <td>0</td>\n",
       "      <td>0</td>\n",
       "      <td>0</td>\n",
       "      <td>0</td>\n",
       "      <td>0</td>\n",
       "      <td>1</td>\n",
       "      <td>0</td>\n",
       "      <td>1</td>\n",
       "      <td>74</td>\n",
       "      <td>72</td>\n",
       "    </tr>\n",
       "    <tr>\n",
       "      <th>1</th>\n",
       "      <td>1</td>\n",
       "      <td>0</td>\n",
       "      <td>0</td>\n",
       "      <td>0</td>\n",
       "      <td>1</td>\n",
       "      <td>0</td>\n",
       "      <td>0</td>\n",
       "      <td>0</td>\n",
       "      <td>0</td>\n",
       "      <td>0</td>\n",
       "      <td>0</td>\n",
       "      <td>1</td>\n",
       "      <td>0</td>\n",
       "      <td>0</td>\n",
       "      <td>1</td>\n",
       "      <td>1</td>\n",
       "      <td>0</td>\n",
       "      <td>88</td>\n",
       "      <td>90</td>\n",
       "    </tr>\n",
       "    <tr>\n",
       "      <th>2</th>\n",
       "      <td>1</td>\n",
       "      <td>0</td>\n",
       "      <td>0</td>\n",
       "      <td>1</td>\n",
       "      <td>0</td>\n",
       "      <td>0</td>\n",
       "      <td>0</td>\n",
       "      <td>0</td>\n",
       "      <td>0</td>\n",
       "      <td>0</td>\n",
       "      <td>1</td>\n",
       "      <td>0</td>\n",
       "      <td>0</td>\n",
       "      <td>0</td>\n",
       "      <td>1</td>\n",
       "      <td>0</td>\n",
       "      <td>1</td>\n",
       "      <td>93</td>\n",
       "      <td>95</td>\n",
       "    </tr>\n",
       "    <tr>\n",
       "      <th>3</th>\n",
       "      <td>0</td>\n",
       "      <td>1</td>\n",
       "      <td>1</td>\n",
       "      <td>0</td>\n",
       "      <td>0</td>\n",
       "      <td>0</td>\n",
       "      <td>0</td>\n",
       "      <td>1</td>\n",
       "      <td>0</td>\n",
       "      <td>0</td>\n",
       "      <td>0</td>\n",
       "      <td>0</td>\n",
       "      <td>0</td>\n",
       "      <td>1</td>\n",
       "      <td>0</td>\n",
       "      <td>0</td>\n",
       "      <td>1</td>\n",
       "      <td>44</td>\n",
       "      <td>57</td>\n",
       "    </tr>\n",
       "    <tr>\n",
       "      <th>4</th>\n",
       "      <td>0</td>\n",
       "      <td>1</td>\n",
       "      <td>0</td>\n",
       "      <td>0</td>\n",
       "      <td>1</td>\n",
       "      <td>0</td>\n",
       "      <td>0</td>\n",
       "      <td>0</td>\n",
       "      <td>0</td>\n",
       "      <td>0</td>\n",
       "      <td>0</td>\n",
       "      <td>1</td>\n",
       "      <td>0</td>\n",
       "      <td>0</td>\n",
       "      <td>1</td>\n",
       "      <td>0</td>\n",
       "      <td>1</td>\n",
       "      <td>75</td>\n",
       "      <td>78</td>\n",
       "    </tr>\n",
       "  </tbody>\n",
       "</table>\n",
       "</div>"
      ],
      "text/plain": [
       "   gender_female  gender_male  race/ethnicity_group A  race/ethnicity_group B  \\\n",
       "0              1            0                       0                       1   \n",
       "1              1            0                       0                       0   \n",
       "2              1            0                       0                       1   \n",
       "3              0            1                       1                       0   \n",
       "4              0            1                       0                       0   \n",
       "\n",
       "   race/ethnicity_group C  race/ethnicity_group D  race/ethnicity_group E  \\\n",
       "0                       0                       0                       0   \n",
       "1                       1                       0                       0   \n",
       "2                       0                       0                       0   \n",
       "3                       0                       0                       0   \n",
       "4                       1                       0                       0   \n",
       "\n",
       "   parental level of education_associate's degree  \\\n",
       "0                                               0   \n",
       "1                                               0   \n",
       "2                                               0   \n",
       "3                                               1   \n",
       "4                                               0   \n",
       "\n",
       "   parental level of education_bachelor's degree  \\\n",
       "0                                              1   \n",
       "1                                              0   \n",
       "2                                              0   \n",
       "3                                              0   \n",
       "4                                              0   \n",
       "\n",
       "   parental level of education_high school  \\\n",
       "0                                        0   \n",
       "1                                        0   \n",
       "2                                        0   \n",
       "3                                        0   \n",
       "4                                        0   \n",
       "\n",
       "   parental level of education_master's degree  \\\n",
       "0                                            0   \n",
       "1                                            0   \n",
       "2                                            1   \n",
       "3                                            0   \n",
       "4                                            0   \n",
       "\n",
       "   parental level of education_some college  \\\n",
       "0                                         0   \n",
       "1                                         1   \n",
       "2                                         0   \n",
       "3                                         0   \n",
       "4                                         1   \n",
       "\n",
       "   parental level of education_some high school  lunch_free/reduced  \\\n",
       "0                                             0                   0   \n",
       "1                                             0                   0   \n",
       "2                                             0                   0   \n",
       "3                                             0                   1   \n",
       "4                                             0                   0   \n",
       "\n",
       "   lunch_standard  test preparation course_completed  \\\n",
       "0               1                                  0   \n",
       "1               1                                  1   \n",
       "2               1                                  0   \n",
       "3               0                                  0   \n",
       "4               1                                  0   \n",
       "\n",
       "   test preparation course_none  writing score  reading score  \n",
       "0                             1             74             72  \n",
       "1                             0             88             90  \n",
       "2                             1             93             95  \n",
       "3                             1             44             57  \n",
       "4                             1             75             78  "
      ]
     },
     "execution_count": 8,
     "metadata": {},
     "output_type": "execute_result"
    }
   ],
   "source": [
    "print(data.shape)\n",
    "data.head()"
   ]
  },
  {
   "cell_type": "markdown",
   "metadata": {},
   "source": [
    "#### 3.分訓練集跟測試集（train test split）"
   ]
  },
  {
   "cell_type": "code",
   "execution_count": 10,
   "metadata": {},
   "outputs": [],
   "source": [
    "x_train,x_test,y_train,y_test = sklearn.model_selection.train_test_split(data,target,\n",
    "                                                                         test_size=0.2,random_state=10)"
   ]
  },
  {
   "cell_type": "markdown",
   "metadata": {},
   "source": [
    "## DNN"
   ]
  },
  {
   "cell_type": "markdown",
   "metadata": {},
   "source": [
    "#### 4.定義模型"
   ]
  },
  {
   "cell_type": "code",
   "execution_count": 11,
   "metadata": {},
   "outputs": [
    {
     "name": "stdout",
     "output_type": "stream",
     "text": [
      "WARNING:tensorflow:From /Users/harryhowiefish/anaconda3/lib/python3.7/site-packages/tensorflow/python/framework/op_def_library.py:263: colocate_with (from tensorflow.python.framework.ops) is deprecated and will be removed in a future version.\n",
      "Instructions for updating:\n",
      "Colocations handled automatically by placer.\n"
     ]
    }
   ],
   "source": [
    "model = keras.models.Sequential() #宣告模型種類\n",
    "model.add(keras.layers.Dense(100, #神經元數量\n",
    "                             activation='relu', #activation function\n",
    "                             input_shape=(x_train.shape[1],))) #第一層必須要定義輸入值數量\n",
    "model.add(keras.layers.Dense(100,activation='relu'))\n",
    "model.add(keras.layers.Dense(1)) #輸出神經元數量依問題而定"
   ]
  },
  {
   "cell_type": "code",
   "execution_count": 12,
   "metadata": {},
   "outputs": [
    {
     "name": "stdout",
     "output_type": "stream",
     "text": [
      "_________________________________________________________________\n",
      "Layer (type)                 Output Shape              Param #   \n",
      "=================================================================\n",
      "dense_1 (Dense)              (None, 100)               2000      \n",
      "_________________________________________________________________\n",
      "dense_2 (Dense)              (None, 100)               10100     \n",
      "_________________________________________________________________\n",
      "dense_3 (Dense)              (None, 1)                 101       \n",
      "=================================================================\n",
      "Total params: 12,201\n",
      "Trainable params: 12,201\n",
      "Non-trainable params: 0\n",
      "_________________________________________________________________\n"
     ]
    }
   ],
   "source": [
    "model.summary()"
   ]
  },
  {
   "cell_type": "markdown",
   "metadata": {},
   "source": [
    "#### 5.訓練模型"
   ]
  },
  {
   "cell_type": "code",
   "execution_count": 13,
   "metadata": {},
   "outputs": [],
   "source": [
    "model.compile(optimizer='Adam',loss='mean_squared_error')\n",
    "early_stop = keras.callbacks.EarlyStopping(patience=5)"
   ]
  },
  {
   "cell_type": "code",
   "execution_count": 14,
   "metadata": {},
   "outputs": [
    {
     "name": "stdout",
     "output_type": "stream",
     "text": [
      "WARNING:tensorflow:From /Users/harryhowiefish/anaconda3/lib/python3.7/site-packages/tensorflow/python/ops/math_ops.py:3066: to_int32 (from tensorflow.python.ops.math_ops) is deprecated and will be removed in a future version.\n",
      "Instructions for updating:\n",
      "Use tf.cast instead.\n",
      "Train on 640 samples, validate on 160 samples\n",
      "Epoch 1/200\n",
      "640/640 [==============================] - 1s 2ms/step - loss: 1623.8217 - val_loss: 89.6808\n",
      "Epoch 2/200\n",
      "640/640 [==============================] - 0s 57us/step - loss: 132.1098 - val_loss: 76.6953\n",
      "Epoch 3/200\n",
      "640/640 [==============================] - 0s 159us/step - loss: 87.7744 - val_loss: 72.1268\n",
      "Epoch 4/200\n",
      "640/640 [==============================] - 0s 70us/step - loss: 79.9191 - val_loss: 69.6303\n",
      "Epoch 5/200\n",
      "640/640 [==============================] - 0s 78us/step - loss: 78.3349 - val_loss: 68.6949\n",
      "Epoch 6/200\n",
      "640/640 [==============================] - 0s 81us/step - loss: 77.6638 - val_loss: 69.9089\n",
      "Epoch 7/200\n",
      "640/640 [==============================] - 0s 94us/step - loss: 76.9167 - val_loss: 67.1488\n",
      "Epoch 8/200\n",
      "640/640 [==============================] - 0s 67us/step - loss: 75.1400 - val_loss: 66.1073\n",
      "Epoch 9/200\n",
      "640/640 [==============================] - 0s 112us/step - loss: 74.0575 - val_loss: 65.0365\n",
      "Epoch 10/200\n",
      "640/640 [==============================] - 0s 97us/step - loss: 73.3118 - val_loss: 64.0780\n",
      "Epoch 11/200\n",
      "640/640 [==============================] - 0s 118us/step - loss: 73.3709 - val_loss: 64.4116\n",
      "Epoch 12/200\n",
      "640/640 [==============================] - 0s 87us/step - loss: 71.4558 - val_loss: 63.2333\n",
      "Epoch 13/200\n",
      "640/640 [==============================] - 0s 75us/step - loss: 70.4709 - val_loss: 60.6962\n",
      "Epoch 14/200\n",
      "640/640 [==============================] - 0s 107us/step - loss: 68.6706 - val_loss: 59.4927\n",
      "Epoch 15/200\n",
      "640/640 [==============================] - 0s 92us/step - loss: 67.4318 - val_loss: 58.3399\n",
      "Epoch 16/200\n",
      "640/640 [==============================] - 0s 82us/step - loss: 66.0093 - val_loss: 57.0126\n",
      "Epoch 17/200\n",
      "640/640 [==============================] - 0s 102us/step - loss: 64.3530 - val_loss: 55.7861\n",
      "Epoch 18/200\n",
      "640/640 [==============================] - 0s 66us/step - loss: 63.4109 - val_loss: 54.0900\n",
      "Epoch 19/200\n",
      "640/640 [==============================] - 0s 136us/step - loss: 61.4250 - val_loss: 52.7601\n",
      "Epoch 20/200\n",
      "640/640 [==============================] - 0s 121us/step - loss: 60.1039 - val_loss: 50.7014\n",
      "Epoch 21/200\n",
      "640/640 [==============================] - 0s 163us/step - loss: 57.6926 - val_loss: 49.0322\n",
      "Epoch 22/200\n",
      "640/640 [==============================] - 0s 250us/step - loss: 56.1311 - val_loss: 47.1023\n",
      "Epoch 23/200\n",
      "640/640 [==============================] - 0s 68us/step - loss: 53.8430 - val_loss: 45.1376\n",
      "Epoch 24/200\n",
      "640/640 [==============================] - 0s 77us/step - loss: 52.8753 - val_loss: 42.8947\n",
      "Epoch 25/200\n",
      "640/640 [==============================] - 0s 101us/step - loss: 48.9836 - val_loss: 40.3897\n",
      "Epoch 26/200\n",
      "640/640 [==============================] - 0s 220us/step - loss: 46.8541 - val_loss: 38.3458\n",
      "Epoch 27/200\n",
      "640/640 [==============================] - 0s 87us/step - loss: 44.6826 - val_loss: 36.3908\n",
      "Epoch 28/200\n",
      "640/640 [==============================] - 0s 90us/step - loss: 42.1742 - val_loss: 34.3000\n",
      "Epoch 29/200\n",
      "640/640 [==============================] - 0s 171us/step - loss: 39.8576 - val_loss: 34.6806\n",
      "Epoch 30/200\n",
      "640/640 [==============================] - 0s 131us/step - loss: 39.9731 - val_loss: 31.0177\n",
      "Epoch 31/200\n",
      "640/640 [==============================] - 0s 71us/step - loss: 36.5516 - val_loss: 30.2091\n",
      "Epoch 32/200\n",
      "640/640 [==============================] - 0s 91us/step - loss: 34.5400 - val_loss: 29.0516\n",
      "Epoch 33/200\n",
      "640/640 [==============================] - 0s 215us/step - loss: 33.8556 - val_loss: 27.9141\n",
      "Epoch 34/200\n",
      "640/640 [==============================] - 0s 156us/step - loss: 33.0889 - val_loss: 28.0897\n",
      "Epoch 35/200\n",
      "640/640 [==============================] - 0s 132us/step - loss: 31.5964 - val_loss: 28.5243\n",
      "Epoch 36/200\n",
      "640/640 [==============================] - 0s 88us/step - loss: 30.7984 - val_loss: 29.3864\n",
      "Epoch 37/200\n",
      "640/640 [==============================] - 0s 70us/step - loss: 32.6030 - val_loss: 28.8006\n",
      "Epoch 38/200\n",
      "640/640 [==============================] - 0s 133us/step - loss: 31.9720 - val_loss: 30.8703\n"
     ]
    },
    {
     "data": {
      "text/plain": [
       "<keras.callbacks.History at 0x1a35f67ba8>"
      ]
     },
     "execution_count": 14,
     "metadata": {},
     "output_type": "execute_result"
    }
   ],
   "source": [
    "model.fit(x_train,y_train,validation_split=0.2,epochs=200,callbacks=[early_stop])"
   ]
  },
  {
   "cell_type": "markdown",
   "metadata": {},
   "source": [
    "#### 6.評估模型表現"
   ]
  },
  {
   "cell_type": "code",
   "execution_count": 15,
   "metadata": {},
   "outputs": [],
   "source": [
    "dnn_pred = model.predict(x_test)"
   ]
  },
  {
   "cell_type": "code",
   "execution_count": 21,
   "metadata": {},
   "outputs": [
    {
     "data": {
      "text/html": [
       "<div>\n",
       "<style scoped>\n",
       "    .dataframe tbody tr th:only-of-type {\n",
       "        vertical-align: middle;\n",
       "    }\n",
       "\n",
       "    .dataframe tbody tr th {\n",
       "        vertical-align: top;\n",
       "    }\n",
       "\n",
       "    .dataframe thead th {\n",
       "        text-align: right;\n",
       "    }\n",
       "</style>\n",
       "<table border=\"1\" class=\"dataframe\">\n",
       "  <thead>\n",
       "    <tr style=\"text-align: right;\">\n",
       "      <th></th>\n",
       "      <th>gt</th>\n",
       "      <th>dnn_pred</th>\n",
       "    </tr>\n",
       "  </thead>\n",
       "  <tbody>\n",
       "    <tr>\n",
       "      <th>0</th>\n",
       "      <td>64.0</td>\n",
       "      <td>60.857822</td>\n",
       "    </tr>\n",
       "    <tr>\n",
       "      <th>1</th>\n",
       "      <td>84.0</td>\n",
       "      <td>90.354256</td>\n",
       "    </tr>\n",
       "    <tr>\n",
       "      <th>2</th>\n",
       "      <td>64.0</td>\n",
       "      <td>58.446163</td>\n",
       "    </tr>\n",
       "    <tr>\n",
       "      <th>3</th>\n",
       "      <td>63.0</td>\n",
       "      <td>63.742512</td>\n",
       "    </tr>\n",
       "    <tr>\n",
       "      <th>4</th>\n",
       "      <td>69.0</td>\n",
       "      <td>82.360809</td>\n",
       "    </tr>\n",
       "    <tr>\n",
       "      <th>5</th>\n",
       "      <td>72.0</td>\n",
       "      <td>71.716270</td>\n",
       "    </tr>\n",
       "    <tr>\n",
       "      <th>6</th>\n",
       "      <td>91.0</td>\n",
       "      <td>95.556488</td>\n",
       "    </tr>\n",
       "    <tr>\n",
       "      <th>7</th>\n",
       "      <td>76.0</td>\n",
       "      <td>73.167770</td>\n",
       "    </tr>\n",
       "    <tr>\n",
       "      <th>8</th>\n",
       "      <td>40.0</td>\n",
       "      <td>54.346619</td>\n",
       "    </tr>\n",
       "    <tr>\n",
       "      <th>9</th>\n",
       "      <td>79.0</td>\n",
       "      <td>80.950623</td>\n",
       "    </tr>\n",
       "  </tbody>\n",
       "</table>\n",
       "</div>"
      ],
      "text/plain": [
       "     gt   dnn_pred\n",
       "0  64.0  60.857822\n",
       "1  84.0  90.354256\n",
       "2  64.0  58.446163\n",
       "3  63.0  63.742512\n",
       "4  69.0  82.360809\n",
       "5  72.0  71.716270\n",
       "6  91.0  95.556488\n",
       "7  76.0  73.167770\n",
       "8  40.0  54.346619\n",
       "9  79.0  80.950623"
      ]
     },
     "execution_count": 21,
     "metadata": {},
     "output_type": "execute_result"
    }
   ],
   "source": [
    "df = pd.DataFrame(np.concatenate((y_test.values.reshape(-1,1),dnn_pred),axis=1),columns=['gt','dnn_pred'])\n",
    "df.head(10)"
   ]
  },
  {
   "cell_type": "markdown",
   "metadata": {},
   "source": [
    "#### 7.調整參數（重複5,6）"
   ]
  },
  {
   "cell_type": "markdown",
   "metadata": {},
   "source": [
    "## XGB 比較"
   ]
  },
  {
   "cell_type": "code",
   "execution_count": 22,
   "metadata": {},
   "outputs": [
    {
     "name": "stderr",
     "output_type": "stream",
     "text": [
      "/Users/harryhowiefish/anaconda3/lib/python3.7/site-packages/dask/config.py:168: YAMLLoadWarning: calling yaml.load() without Loader=... is deprecated, as the default Loader is unsafe. Please read https://msg.pyyaml.org/load for full details.\n",
      "  data = yaml.load(f.read()) or {}\n",
      "/Users/harryhowiefish/anaconda3/lib/python3.7/site-packages/distributed/config.py:20: YAMLLoadWarning: calling yaml.load() without Loader=... is deprecated, as the default Loader is unsafe. Please read https://msg.pyyaml.org/load for full details.\n",
      "  defaults = yaml.load(f)\n"
     ]
    }
   ],
   "source": [
    "import xgboost as xgb\n",
    "from sklearn import metrics\n",
    "\n",
    "def auc(m, train, test): \n",
    "    return (metrics.roc_auc_score(y_train,m.predict_proba(train)[:,1]),\n",
    "                            metrics.roc_auc_score(y_test,m.predict_proba(test)[:,1]))\n",
    "xgbr = xgb.XGBRegressor(max_depth=50, min_child_weight=1, n_estimators=200,verbosity=1,learning_rate=0.16,)\n",
    "\n"
   ]
  },
  {
   "cell_type": "code",
   "execution_count": 23,
   "metadata": {},
   "outputs": [
    {
     "name": "stdout",
     "output_type": "stream",
     "text": [
      "[0]\tvalidation_0-rmse:58.18891\n",
      "Will train until validation_0-rmse hasn't improved in 2 rounds.\n",
      "[1]\tvalidation_0-rmse:49.29459\n",
      "[2]\tvalidation_0-rmse:41.75803\n",
      "[3]\tvalidation_0-rmse:35.47944\n",
      "[4]\tvalidation_0-rmse:30.22240\n",
      "[5]\tvalidation_0-rmse:25.77072\n",
      "[6]\tvalidation_0-rmse:22.11409\n",
      "[7]\tvalidation_0-rmse:19.02749\n",
      "[8]\tvalidation_0-rmse:16.38335\n",
      "[9]\tvalidation_0-rmse:14.25076\n",
      "[10]\tvalidation_0-rmse:12.53395\n",
      "[11]\tvalidation_0-rmse:11.10094\n",
      "[12]\tvalidation_0-rmse:9.95656\n",
      "[13]\tvalidation_0-rmse:9.03865\n",
      "[14]\tvalidation_0-rmse:8.44435\n",
      "[15]\tvalidation_0-rmse:7.83959\n",
      "[16]\tvalidation_0-rmse:7.44417\n",
      "[17]\tvalidation_0-rmse:7.07687\n",
      "[18]\tvalidation_0-rmse:6.86517\n",
      "[19]\tvalidation_0-rmse:6.69807\n",
      "[20]\tvalidation_0-rmse:6.56421\n",
      "[21]\tvalidation_0-rmse:6.45252\n",
      "[22]\tvalidation_0-rmse:6.39998\n",
      "[23]\tvalidation_0-rmse:6.32307\n",
      "[24]\tvalidation_0-rmse:6.26844\n",
      "[25]\tvalidation_0-rmse:6.22400\n",
      "[26]\tvalidation_0-rmse:6.21174\n",
      "[27]\tvalidation_0-rmse:6.19914\n",
      "[28]\tvalidation_0-rmse:6.17360\n",
      "[29]\tvalidation_0-rmse:6.16864\n",
      "[30]\tvalidation_0-rmse:6.15417\n",
      "[31]\tvalidation_0-rmse:6.14384\n",
      "[32]\tvalidation_0-rmse:6.14835\n",
      "[33]\tvalidation_0-rmse:6.13556\n",
      "[34]\tvalidation_0-rmse:6.13665\n",
      "[35]\tvalidation_0-rmse:6.14655\n",
      "Stopping. Best iteration:\n",
      "[33]\tvalidation_0-rmse:6.13556\n",
      "\n"
     ]
    },
    {
     "data": {
      "text/plain": [
       "XGBRegressor(base_score=0.5, booster=None, colsample_bylevel=1,\n",
       "       colsample_bynode=1, colsample_bytree=1, gamma=0, gpu_id=-1,\n",
       "       importance_type='gain', interaction_constraints=None,\n",
       "       learning_rate=0.16, max_delta_step=0, max_depth=50,\n",
       "       min_child_weight=1, missing=nan, monotone_constraints=None,\n",
       "       n_estimators=200, n_jobs=0, num_parallel_tree=1,\n",
       "       objective='reg:squarederror', random_state=0, reg_alpha=0,\n",
       "       reg_lambda=1, scale_pos_weight=1, subsample=1, tree_method=None,\n",
       "       validate_parameters=False, verbosity=1)"
      ]
     },
     "execution_count": 23,
     "metadata": {},
     "output_type": "execute_result"
    }
   ],
   "source": [
    "eval_set = [(x_test, y_test)]\n",
    "xgbr.fit(x_train, y_train, eval_metric=\"rmse\", eval_set=eval_set, verbose=True,early_stopping_rounds=2)"
   ]
  },
  {
   "cell_type": "code",
   "execution_count": 24,
   "metadata": {},
   "outputs": [],
   "source": [
    "xgb_pred = xgbr.predict(x_test)"
   ]
  },
  {
   "cell_type": "code",
   "execution_count": 25,
   "metadata": {},
   "outputs": [
    {
     "data": {
      "text/plain": [
       "(32.393575480085055, 37.645149556756316)"
      ]
     },
     "execution_count": 25,
     "metadata": {},
     "output_type": "execute_result"
    }
   ],
   "source": [
    "sklearn.metrics.mean_squared_error(y_test,dnn_pred),sklearn.metrics.mean_squared_error(y_test,xgb_pred)"
   ]
  },
  {
   "cell_type": "code",
   "execution_count": 26,
   "metadata": {},
   "outputs": [
    {
     "data": {
      "text/html": [
       "<div>\n",
       "<style scoped>\n",
       "    .dataframe tbody tr th:only-of-type {\n",
       "        vertical-align: middle;\n",
       "    }\n",
       "\n",
       "    .dataframe tbody tr th {\n",
       "        vertical-align: top;\n",
       "    }\n",
       "\n",
       "    .dataframe thead th {\n",
       "        text-align: right;\n",
       "    }\n",
       "</style>\n",
       "<table border=\"1\" class=\"dataframe\">\n",
       "  <thead>\n",
       "    <tr style=\"text-align: right;\">\n",
       "      <th></th>\n",
       "      <th>gt</th>\n",
       "      <th>dnn_pred</th>\n",
       "      <th>xgb_pred</th>\n",
       "    </tr>\n",
       "  </thead>\n",
       "  <tbody>\n",
       "    <tr>\n",
       "      <th>0</th>\n",
       "      <td>64.0</td>\n",
       "      <td>60.857822</td>\n",
       "      <td>60.827217</td>\n",
       "    </tr>\n",
       "    <tr>\n",
       "      <th>1</th>\n",
       "      <td>84.0</td>\n",
       "      <td>90.354256</td>\n",
       "      <td>89.362518</td>\n",
       "    </tr>\n",
       "    <tr>\n",
       "      <th>2</th>\n",
       "      <td>64.0</td>\n",
       "      <td>58.446163</td>\n",
       "      <td>55.751373</td>\n",
       "    </tr>\n",
       "    <tr>\n",
       "      <th>3</th>\n",
       "      <td>63.0</td>\n",
       "      <td>63.742512</td>\n",
       "      <td>64.865707</td>\n",
       "    </tr>\n",
       "    <tr>\n",
       "      <th>4</th>\n",
       "      <td>69.0</td>\n",
       "      <td>82.360809</td>\n",
       "      <td>81.018883</td>\n",
       "    </tr>\n",
       "    <tr>\n",
       "      <th>5</th>\n",
       "      <td>72.0</td>\n",
       "      <td>71.716270</td>\n",
       "      <td>69.969719</td>\n",
       "    </tr>\n",
       "    <tr>\n",
       "      <th>6</th>\n",
       "      <td>91.0</td>\n",
       "      <td>95.556488</td>\n",
       "      <td>94.494011</td>\n",
       "    </tr>\n",
       "    <tr>\n",
       "      <th>7</th>\n",
       "      <td>76.0</td>\n",
       "      <td>73.167770</td>\n",
       "      <td>73.080208</td>\n",
       "    </tr>\n",
       "    <tr>\n",
       "      <th>8</th>\n",
       "      <td>40.0</td>\n",
       "      <td>54.346619</td>\n",
       "      <td>52.371387</td>\n",
       "    </tr>\n",
       "    <tr>\n",
       "      <th>9</th>\n",
       "      <td>79.0</td>\n",
       "      <td>80.950623</td>\n",
       "      <td>79.517570</td>\n",
       "    </tr>\n",
       "  </tbody>\n",
       "</table>\n",
       "</div>"
      ],
      "text/plain": [
       "     gt   dnn_pred   xgb_pred\n",
       "0  64.0  60.857822  60.827217\n",
       "1  84.0  90.354256  89.362518\n",
       "2  64.0  58.446163  55.751373\n",
       "3  63.0  63.742512  64.865707\n",
       "4  69.0  82.360809  81.018883\n",
       "5  72.0  71.716270  69.969719\n",
       "6  91.0  95.556488  94.494011\n",
       "7  76.0  73.167770  73.080208\n",
       "8  40.0  54.346619  52.371387\n",
       "9  79.0  80.950623  79.517570"
      ]
     },
     "execution_count": 26,
     "metadata": {},
     "output_type": "execute_result"
    }
   ],
   "source": [
    "df['xgb_pred']=xgb_pred\n",
    "df.head(10)"
   ]
  },
  {
   "cell_type": "markdown",
   "metadata": {},
   "source": [
    "## ML (Machine Learning v.s. NN (Neural Network)\n",
    "- ML類別資料有比DL有更好的表現\n",
    "- ML訓練時間比較短\n",
    "- ML更能表達運算過程的含義（DL常被形容為黑盒子）\n",
    "- NN可以處理更多更酷的問題"
   ]
  },
  {
   "cell_type": "markdown",
   "metadata": {},
   "source": [
    "# 無作業"
   ]
  }
 ],
 "metadata": {
  "kernelspec": {
   "display_name": "Python 3 (ipykernel)",
   "language": "python",
   "name": "python3"
  },
  "language_info": {
   "codemirror_mode": {
    "name": "ipython",
    "version": 3
   },
   "file_extension": ".py",
   "mimetype": "text/x-python",
   "name": "python",
   "nbconvert_exporter": "python",
   "pygments_lexer": "ipython3",
   "version": "3.9.10"
  }
 },
 "nbformat": 4,
 "nbformat_minor": 4
}
