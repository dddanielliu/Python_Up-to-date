{
 "cells": [
  {
   "cell_type": "markdown",
   "metadata": {
    "colab_type": "text",
    "id": "Q2OGbziy_Nkt"
   },
   "source": [
    "# 練習\n",
    "\n",
    "- 觀察 https://movies.yahoo.com.tw/chart.html 並撰寫爬蟲程式\n",
    "- 抓取台北當週票房排行榜\n",
    "- 使用 requests + BeautifulSoup 實作\n",
    "- 透過 pandas 輸出成 csv"
   ]
  },
  {
   "cell_type": "code",
   "execution_count": 14,
   "metadata": {
    "colab": {},
    "colab_type": "code",
    "id": "n6q6geWz_Nky"
   },
   "outputs": [],
   "source": [
    "import os\n",
    "import requests\n",
    "import pandas as pd\n",
    "from bs4 import BeautifulSoup\n",
    "\n",
    "url = 'https://movies.yahoo.com.tw/chart.html'"
   ]
  },
  {
   "cell_type": "code",
   "execution_count": 15,
   "metadata": {
    "colab": {},
    "colab_type": "code",
    "id": "Qzu_Ti4z_NlC",
    "outputId": "1315616e-d6cb-4ffa-9863-99088009edc9"
   },
   "outputs": [
    {
     "data": {
      "text/plain": [
       "<Response [200]>"
      ]
     },
     "execution_count": 15,
     "metadata": {},
     "output_type": "execute_result"
    }
   ],
   "source": [
    "# 200:存取正確\n",
    "# 403:存取拒絕\n",
    "# 404:網頁不存在\n",
    "#Requests呼叫網頁用的套件/指令\n",
    "resp = requests.get(url)\n",
    "resp"
   ]
  },
  {
   "cell_type": "code",
   "execution_count": 16,
   "metadata": {},
   "outputs": [],
   "source": [
    "soup = BeautifulSoup(resp.text,'lxml')"
   ]
  },
  {
   "cell_type": "code",
   "execution_count": 17,
   "metadata": {},
   "outputs": [],
   "source": [
    "table = soup.find('div',class_=\"l_box\")"
   ]
  },
  {
   "cell_type": "code",
   "execution_count": 18,
   "metadata": {},
   "outputs": [],
   "source": [
    "column = table.find('div',class_=\"tr top\")"
   ]
  },
  {
   "cell_type": "code",
   "execution_count": 19,
   "metadata": {},
   "outputs": [],
   "source": [
    "column = column.text.split('\\n')"
   ]
  },
  {
   "cell_type": "code",
   "execution_count": 20,
   "metadata": {},
   "outputs": [],
   "source": [
    "column = [i for i in column if i!=\"\"]"
   ]
  },
  {
   "cell_type": "code",
   "execution_count": 21,
   "metadata": {},
   "outputs": [
    {
     "data": {
      "text/plain": [
       "['本週', '上週', '片名', '上映日期', '預告片', '網友滿意度']"
      ]
     },
     "execution_count": 21,
     "metadata": {},
     "output_type": "execute_result"
    }
   ],
   "source": [
    "column"
   ]
  },
  {
   "cell_type": "code",
   "execution_count": 22,
   "metadata": {},
   "outputs": [
    {
     "data": {
      "text/html": [
       "<div>\n",
       "<style scoped>\n",
       "    .dataframe tbody tr th:only-of-type {\n",
       "        vertical-align: middle;\n",
       "    }\n",
       "\n",
       "    .dataframe tbody tr th {\n",
       "        vertical-align: top;\n",
       "    }\n",
       "\n",
       "    .dataframe thead th {\n",
       "        text-align: right;\n",
       "    }\n",
       "</style>\n",
       "<table border=\"1\" class=\"dataframe\">\n",
       "  <thead>\n",
       "    <tr style=\"text-align: right;\">\n",
       "      <th></th>\n",
       "      <th>本週</th>\n",
       "      <th>上週</th>\n",
       "      <th>片名</th>\n",
       "      <th>上映日期</th>\n",
       "      <th>預告片</th>\n",
       "      <th>網友滿意度</th>\n",
       "    </tr>\n",
       "  </thead>\n",
       "  <tbody>\n",
       "  </tbody>\n",
       "</table>\n",
       "</div>"
      ],
      "text/plain": [
       "Empty DataFrame\n",
       "Columns: [本週, 上週, 片名, 上映日期, 預告片, 網友滿意度]\n",
       "Index: []"
      ]
     },
     "execution_count": 22,
     "metadata": {},
     "output_type": "execute_result"
    }
   ],
   "source": [
    "df = pd.DataFrame(columns=column)\n",
    "df"
   ]
  },
  {
   "cell_type": "code",
   "execution_count": 23,
   "metadata": {},
   "outputs": [],
   "source": [
    "this_week = table.find_all('div',class_='tr')[2].find_all('div',class_='td')[0].text\n",
    "last_week = table.find_all('div',class_='tr')[2].find_all('div',class_='td')[1].text\n",
    "# if rank ==1:\n",
    "#     name = table.find_all('div',class_='tr')[1].find_all('div',class_='td')[3].h2.text\n",
    "# else:\n",
    "name = table.find_all('div',class_='tr')[2].find_all('div',class_='td')[3].text[2:-2]\n",
    "date = table.find_all('div',class_='tr')[2].find_all('div',class_='td')[4].text\n",
    "link = table.find_all('div',class_='tr')[2].find_all('div',class_='td')[5].a['href']\n",
    "star = table.find_all('div',class_='tr')[2].find_all('div',class_='td')[6].h6.text"
   ]
  },
  {
   "cell_type": "code",
   "execution_count": 24,
   "metadata": {},
   "outputs": [
    {
     "data": {
      "text/plain": [
       "<div class=\"tr top\">\n",
       "<div class=\"td\">本週</div>\n",
       "<div class=\"td updown\"></div>\n",
       "<div class=\"td\">上週</div>\n",
       "<div class=\"td\">片名</div>\n",
       "<div class=\"td\">上映日期</div>\n",
       "<div class=\"td\">預告片</div>\n",
       "<div class=\"td\">網友滿意度</div>\n",
       "</div>"
      ]
     },
     "execution_count": 24,
     "metadata": {},
     "output_type": "execute_result"
    }
   ],
   "source": [
    "table.find_all('div',class_='tr')[0]"
   ]
  },
  {
   "cell_type": "code",
   "execution_count": 25,
   "metadata": {},
   "outputs": [
    {
     "name": "stderr",
     "output_type": "stream",
     "text": [
      "/var/folders/3v/81vd82f51r515jpgxp3jb8vh0000gn/T/ipykernel_57001/3242043713.py:17: FutureWarning: The frame.append method is deprecated and will be removed from pandas in a future version. Use pandas.concat instead.\n",
      "  df = df.append({'本週':this_week,'上週':last_week,'片名':name,'上映日期':date,'預告片':link,'網友滿意度':star},ignore_index=True)\n",
      "/var/folders/3v/81vd82f51r515jpgxp3jb8vh0000gn/T/ipykernel_57001/3242043713.py:17: FutureWarning: The frame.append method is deprecated and will be removed from pandas in a future version. Use pandas.concat instead.\n",
      "  df = df.append({'本週':this_week,'上週':last_week,'片名':name,'上映日期':date,'預告片':link,'網友滿意度':star},ignore_index=True)\n",
      "/var/folders/3v/81vd82f51r515jpgxp3jb8vh0000gn/T/ipykernel_57001/3242043713.py:17: FutureWarning: The frame.append method is deprecated and will be removed from pandas in a future version. Use pandas.concat instead.\n",
      "  df = df.append({'本週':this_week,'上週':last_week,'片名':name,'上映日期':date,'預告片':link,'網友滿意度':star},ignore_index=True)\n",
      "/var/folders/3v/81vd82f51r515jpgxp3jb8vh0000gn/T/ipykernel_57001/3242043713.py:17: FutureWarning: The frame.append method is deprecated and will be removed from pandas in a future version. Use pandas.concat instead.\n",
      "  df = df.append({'本週':this_week,'上週':last_week,'片名':name,'上映日期':date,'預告片':link,'網友滿意度':star},ignore_index=True)\n",
      "/var/folders/3v/81vd82f51r515jpgxp3jb8vh0000gn/T/ipykernel_57001/3242043713.py:17: FutureWarning: The frame.append method is deprecated and will be removed from pandas in a future version. Use pandas.concat instead.\n",
      "  df = df.append({'本週':this_week,'上週':last_week,'片名':name,'上映日期':date,'預告片':link,'網友滿意度':star},ignore_index=True)\n",
      "/var/folders/3v/81vd82f51r515jpgxp3jb8vh0000gn/T/ipykernel_57001/3242043713.py:17: FutureWarning: The frame.append method is deprecated and will be removed from pandas in a future version. Use pandas.concat instead.\n",
      "  df = df.append({'本週':this_week,'上週':last_week,'片名':name,'上映日期':date,'預告片':link,'網友滿意度':star},ignore_index=True)\n",
      "/var/folders/3v/81vd82f51r515jpgxp3jb8vh0000gn/T/ipykernel_57001/3242043713.py:17: FutureWarning: The frame.append method is deprecated and will be removed from pandas in a future version. Use pandas.concat instead.\n",
      "  df = df.append({'本週':this_week,'上週':last_week,'片名':name,'上映日期':date,'預告片':link,'網友滿意度':star},ignore_index=True)\n",
      "/var/folders/3v/81vd82f51r515jpgxp3jb8vh0000gn/T/ipykernel_57001/3242043713.py:17: FutureWarning: The frame.append method is deprecated and will be removed from pandas in a future version. Use pandas.concat instead.\n",
      "  df = df.append({'本週':this_week,'上週':last_week,'片名':name,'上映日期':date,'預告片':link,'網友滿意度':star},ignore_index=True)\n",
      "/var/folders/3v/81vd82f51r515jpgxp3jb8vh0000gn/T/ipykernel_57001/3242043713.py:17: FutureWarning: The frame.append method is deprecated and will be removed from pandas in a future version. Use pandas.concat instead.\n",
      "  df = df.append({'本週':this_week,'上週':last_week,'片名':name,'上映日期':date,'預告片':link,'網友滿意度':star},ignore_index=True)\n",
      "/var/folders/3v/81vd82f51r515jpgxp3jb8vh0000gn/T/ipykernel_57001/3242043713.py:17: FutureWarning: The frame.append method is deprecated and will be removed from pandas in a future version. Use pandas.concat instead.\n",
      "  df = df.append({'本週':this_week,'上週':last_week,'片名':name,'上映日期':date,'預告片':link,'網友滿意度':star},ignore_index=True)\n",
      "/var/folders/3v/81vd82f51r515jpgxp3jb8vh0000gn/T/ipykernel_57001/3242043713.py:17: FutureWarning: The frame.append method is deprecated and will be removed from pandas in a future version. Use pandas.concat instead.\n",
      "  df = df.append({'本週':this_week,'上週':last_week,'片名':name,'上映日期':date,'預告片':link,'網友滿意度':star},ignore_index=True)\n",
      "/var/folders/3v/81vd82f51r515jpgxp3jb8vh0000gn/T/ipykernel_57001/3242043713.py:17: FutureWarning: The frame.append method is deprecated and will be removed from pandas in a future version. Use pandas.concat instead.\n",
      "  df = df.append({'本週':this_week,'上週':last_week,'片名':name,'上映日期':date,'預告片':link,'網友滿意度':star},ignore_index=True)\n",
      "/var/folders/3v/81vd82f51r515jpgxp3jb8vh0000gn/T/ipykernel_57001/3242043713.py:17: FutureWarning: The frame.append method is deprecated and will be removed from pandas in a future version. Use pandas.concat instead.\n",
      "  df = df.append({'本週':this_week,'上週':last_week,'片名':name,'上映日期':date,'預告片':link,'網友滿意度':star},ignore_index=True)\n",
      "/var/folders/3v/81vd82f51r515jpgxp3jb8vh0000gn/T/ipykernel_57001/3242043713.py:17: FutureWarning: The frame.append method is deprecated and will be removed from pandas in a future version. Use pandas.concat instead.\n",
      "  df = df.append({'本週':this_week,'上週':last_week,'片名':name,'上映日期':date,'預告片':link,'網友滿意度':star},ignore_index=True)\n",
      "/var/folders/3v/81vd82f51r515jpgxp3jb8vh0000gn/T/ipykernel_57001/3242043713.py:17: FutureWarning: The frame.append method is deprecated and will be removed from pandas in a future version. Use pandas.concat instead.\n",
      "  df = df.append({'本週':this_week,'上週':last_week,'片名':name,'上映日期':date,'預告片':link,'網友滿意度':star},ignore_index=True)\n",
      "/var/folders/3v/81vd82f51r515jpgxp3jb8vh0000gn/T/ipykernel_57001/3242043713.py:17: FutureWarning: The frame.append method is deprecated and will be removed from pandas in a future version. Use pandas.concat instead.\n",
      "  df = df.append({'本週':this_week,'上週':last_week,'片名':name,'上映日期':date,'預告片':link,'網友滿意度':star},ignore_index=True)\n",
      "/var/folders/3v/81vd82f51r515jpgxp3jb8vh0000gn/T/ipykernel_57001/3242043713.py:17: FutureWarning: The frame.append method is deprecated and will be removed from pandas in a future version. Use pandas.concat instead.\n",
      "  df = df.append({'本週':this_week,'上週':last_week,'片名':name,'上映日期':date,'預告片':link,'網友滿意度':star},ignore_index=True)\n",
      "/var/folders/3v/81vd82f51r515jpgxp3jb8vh0000gn/T/ipykernel_57001/3242043713.py:17: FutureWarning: The frame.append method is deprecated and will be removed from pandas in a future version. Use pandas.concat instead.\n",
      "  df = df.append({'本週':this_week,'上週':last_week,'片名':name,'上映日期':date,'預告片':link,'網友滿意度':star},ignore_index=True)\n",
      "/var/folders/3v/81vd82f51r515jpgxp3jb8vh0000gn/T/ipykernel_57001/3242043713.py:17: FutureWarning: The frame.append method is deprecated and will be removed from pandas in a future version. Use pandas.concat instead.\n",
      "  df = df.append({'本週':this_week,'上週':last_week,'片名':name,'上映日期':date,'預告片':link,'網友滿意度':star},ignore_index=True)\n",
      "/var/folders/3v/81vd82f51r515jpgxp3jb8vh0000gn/T/ipykernel_57001/3242043713.py:17: FutureWarning: The frame.append method is deprecated and will be removed from pandas in a future version. Use pandas.concat instead.\n",
      "  df = df.append({'本週':this_week,'上週':last_week,'片名':name,'上映日期':date,'預告片':link,'網友滿意度':star},ignore_index=True)\n"
     ]
    }
   ],
   "source": [
    "for rank in range(1,len(table.find_all('div',class_='tr'))):\n",
    "    this_week = table.find_all('div',class_='tr')[rank].find_all('div',class_='td')[0].text\n",
    "    last_week = table.find_all('div',class_='tr')[rank].find_all('div',class_='td')[1].text\n",
    "    if rank ==1:\n",
    "        name = table.find_all('div',class_='tr')[rank].find_all('div',class_='td')[3].h2.text\n",
    "    else:\n",
    "        name = table.find_all('div',class_='tr')[rank].find_all('div',class_='td')[3].text[2:-2]\n",
    "    date = table.find_all('div',class_='tr')[rank].find_all('div',class_='td')[4].text\n",
    "    try:\n",
    "        link = table.find_all('div',class_='tr')[rank].find_all('div',class_='td')[5].a['href']\n",
    "    except TypeError:\n",
    "        link=''\n",
    "    try:\n",
    "        star = table.find_all('div',class_='tr')[rank].find_all('div',class_='td')[6].h6.text\n",
    "    except AttributeError:\n",
    "        star=''\n",
    "    df = df.append({'本週':this_week,'上週':last_week,'片名':name,'上映日期':date,'預告片':link,'網友滿意度':star},ignore_index=True)"
   ]
  },
  {
   "cell_type": "code",
   "execution_count": 26,
   "metadata": {},
   "outputs": [
    {
     "data": {
      "text/html": [
       "<div>\n",
       "<style scoped>\n",
       "    .dataframe tbody tr th:only-of-type {\n",
       "        vertical-align: middle;\n",
       "    }\n",
       "\n",
       "    .dataframe tbody tr th {\n",
       "        vertical-align: top;\n",
       "    }\n",
       "\n",
       "    .dataframe thead th {\n",
       "        text-align: right;\n",
       "    }\n",
       "</style>\n",
       "<table border=\"1\" class=\"dataframe\">\n",
       "  <thead>\n",
       "    <tr style=\"text-align: right;\">\n",
       "      <th></th>\n",
       "      <th>本週</th>\n",
       "      <th>上週</th>\n",
       "      <th>片名</th>\n",
       "      <th>上映日期</th>\n",
       "      <th>預告片</th>\n",
       "      <th>網友滿意度</th>\n",
       "    </tr>\n",
       "  </thead>\n",
       "  <tbody>\n",
       "    <tr>\n",
       "      <th>0</th>\n",
       "      <td>1</td>\n",
       "      <td></td>\n",
       "      <td>航海王劇場版 : 紅髮歌姬</td>\n",
       "      <td>2022-08-19</td>\n",
       "      <td>https://movies.yahoo.com.tw/video/%E8%88%AA%E6...</td>\n",
       "      <td>3.9</td>\n",
       "    </tr>\n",
       "    <tr>\n",
       "      <th>1</th>\n",
       "      <td>2</td>\n",
       "      <td></td>\n",
       "      <td>子彈列車</td>\n",
       "      <td>2022-08-03</td>\n",
       "      <td>https://movies.yahoo.com.tw/video/%E5%AD%90%E5...</td>\n",
       "      <td>4</td>\n",
       "    </tr>\n",
       "    <tr>\n",
       "      <th>2</th>\n",
       "      <td>3</td>\n",
       "      <td></td>\n",
       "      <td>孤兒怨2：最黑暗的過去</td>\n",
       "      <td>2022-08-26</td>\n",
       "      <td>https://movies.yahoo.com.tw/video/%E5%AD%A4%E5...</td>\n",
       "      <td>3.8</td>\n",
       "    </tr>\n",
       "    <tr>\n",
       "      <th>3</th>\n",
       "      <td>4</td>\n",
       "      <td></td>\n",
       "      <td>緊急迫降</td>\n",
       "      <td>2022-08-12</td>\n",
       "      <td>https://movies.yahoo.com.tw/video/%E7%B7%8A%E6...</td>\n",
       "      <td>4.3</td>\n",
       "    </tr>\n",
       "    <tr>\n",
       "      <th>4</th>\n",
       "      <td>5</td>\n",
       "      <td></td>\n",
       "      <td>捍衛戰士: 獨行俠</td>\n",
       "      <td>2022-05-25</td>\n",
       "      <td>https://movies.yahoo.com.tw/video/%E6%8D%8D%E8...</td>\n",
       "      <td>4.8</td>\n",
       "    </tr>\n",
       "    <tr>\n",
       "      <th>5</th>\n",
       "      <td>6</td>\n",
       "      <td></td>\n",
       "      <td>擅長捉弄人的高木同學劇場版</td>\n",
       "      <td>2022-09-02</td>\n",
       "      <td></td>\n",
       "      <td>4.9</td>\n",
       "    </tr>\n",
       "    <tr>\n",
       "      <th>6</th>\n",
       "      <td>7</td>\n",
       "      <td></td>\n",
       "      <td>三千年的渴望</td>\n",
       "      <td>2022-09-02</td>\n",
       "      <td>https://movies.yahoo.com.tw/video/%E4%B8%89%E5...</td>\n",
       "      <td>4.3</td>\n",
       "    </tr>\n",
       "    <tr>\n",
       "      <th>7</th>\n",
       "      <td>8</td>\n",
       "      <td></td>\n",
       "      <td>獵首密令</td>\n",
       "      <td>2022-08-26</td>\n",
       "      <td>https://movies.yahoo.com.tw/video/%E7%8D%B5%E9...</td>\n",
       "      <td>4.3</td>\n",
       "    </tr>\n",
       "    <tr>\n",
       "      <th>8</th>\n",
       "      <td>9</td>\n",
       "      <td></td>\n",
       "      <td>初戀慢半拍</td>\n",
       "      <td>2022-08-26</td>\n",
       "      <td>https://movies.yahoo.com.tw/video/%E5%88%9D%E6...</td>\n",
       "      <td>3.3</td>\n",
       "    </tr>\n",
       "    <tr>\n",
       "      <th>9</th>\n",
       "      <td>10</td>\n",
       "      <td></td>\n",
       "      <td>世紀婚魘</td>\n",
       "      <td>2022-09-02</td>\n",
       "      <td>https://movies.yahoo.com.tw/video/%E4%B8%96%E7...</td>\n",
       "      <td>3</td>\n",
       "    </tr>\n",
       "    <tr>\n",
       "      <th>10</th>\n",
       "      <td>11</td>\n",
       "      <td></td>\n",
       "      <td>劇場版 五等分的新娘</td>\n",
       "      <td>2022-08-26</td>\n",
       "      <td>https://movies.yahoo.com.tw/video/%E5%8A%87%E5...</td>\n",
       "      <td>4.4</td>\n",
       "    </tr>\n",
       "    <tr>\n",
       "      <th>11</th>\n",
       "      <td>12</td>\n",
       "      <td></td>\n",
       "      <td>機遇之歌：數位修復版</td>\n",
       "      <td>2022-09-02</td>\n",
       "      <td>https://movies.yahoo.com.tw/video/%E6%A9%9F%E9...</td>\n",
       "      <td>4.6</td>\n",
       "    </tr>\n",
       "    <tr>\n",
       "      <th>12</th>\n",
       "      <td>13</td>\n",
       "      <td></td>\n",
       "      <td>小小兵2:格魯的崛起</td>\n",
       "      <td>2022-07-20</td>\n",
       "      <td>https://movies.yahoo.com.tw/video/%E5%B0%8F%E5...</td>\n",
       "      <td>3.9</td>\n",
       "    </tr>\n",
       "    <tr>\n",
       "      <th>13</th>\n",
       "      <td>14</td>\n",
       "      <td></td>\n",
       "      <td>花樣年華 4K數位修復版</td>\n",
       "      <td>2022-09-16</td>\n",
       "      <td>https://movies.yahoo.com.tw/video/%E8%8A%B1%E6...</td>\n",
       "      <td>0</td>\n",
       "    </tr>\n",
       "    <tr>\n",
       "      <th>14</th>\n",
       "      <td>15</td>\n",
       "      <td></td>\n",
       "      <td>界限</td>\n",
       "      <td>2022-09-02</td>\n",
       "      <td>https://movies.yahoo.com.tw/video/%E7%95%8C%E9...</td>\n",
       "      <td>4.5</td>\n",
       "    </tr>\n",
       "    <tr>\n",
       "      <th>15</th>\n",
       "      <td>16</td>\n",
       "      <td></td>\n",
       "      <td>不!</td>\n",
       "      <td>2022-08-12</td>\n",
       "      <td>https://movies.yahoo.com.tw/video/%E4%B8%8D-%E...</td>\n",
       "      <td>3.3</td>\n",
       "    </tr>\n",
       "    <tr>\n",
       "      <th>16</th>\n",
       "      <td>17</td>\n",
       "      <td></td>\n",
       "      <td>蜘蛛人：無家日 戲院加長版</td>\n",
       "      <td>2021-12-15</td>\n",
       "      <td>https://movies.yahoo.com.tw/video/%E6%9C%89%E9...</td>\n",
       "      <td>4.3</td>\n",
       "    </tr>\n",
       "    <tr>\n",
       "      <th>17</th>\n",
       "      <td>18</td>\n",
       "      <td></td>\n",
       "      <td>DC超級寵物軍團</td>\n",
       "      <td>2022-08-11</td>\n",
       "      <td>https://movies.yahoo.com.tw/video/dc%E8%B6%85%...</td>\n",
       "      <td>4.6</td>\n",
       "    </tr>\n",
       "    <tr>\n",
       "      <th>18</th>\n",
       "      <td>19</td>\n",
       "      <td></td>\n",
       "      <td>北齋：浮世繪傳奇</td>\n",
       "      <td>2022-08-26</td>\n",
       "      <td>https://movies.yahoo.com.tw/video/%E5%8C%97%E9...</td>\n",
       "      <td>3.9</td>\n",
       "    </tr>\n",
       "    <tr>\n",
       "      <th>19</th>\n",
       "      <td>20</td>\n",
       "      <td></td>\n",
       "      <td>他還年輕</td>\n",
       "      <td>2022-09-02</td>\n",
       "      <td>https://movies.yahoo.com.tw/video/%E4%BB%96%E9...</td>\n",
       "      <td>4.7</td>\n",
       "    </tr>\n",
       "  </tbody>\n",
       "</table>\n",
       "</div>"
      ],
      "text/plain": [
       "    本週 上週             片名        上映日期  \\\n",
       "0    1     航海王劇場版 : 紅髮歌姬  2022-08-19   \n",
       "1    2              子彈列車  2022-08-03   \n",
       "2    3       孤兒怨2：最黑暗的過去  2022-08-26   \n",
       "3    4              緊急迫降  2022-08-12   \n",
       "4    5         捍衛戰士: 獨行俠  2022-05-25   \n",
       "5    6     擅長捉弄人的高木同學劇場版  2022-09-02   \n",
       "6    7            三千年的渴望  2022-09-02   \n",
       "7    8              獵首密令  2022-08-26   \n",
       "8    9             初戀慢半拍  2022-08-26   \n",
       "9   10              世紀婚魘  2022-09-02   \n",
       "10  11        劇場版 五等分的新娘  2022-08-26   \n",
       "11  12        機遇之歌：數位修復版  2022-09-02   \n",
       "12  13        小小兵2:格魯的崛起  2022-07-20   \n",
       "13  14      花樣年華 4K數位修復版  2022-09-16   \n",
       "14  15                界限  2022-09-02   \n",
       "15  16                不!  2022-08-12   \n",
       "16  17     蜘蛛人：無家日 戲院加長版  2021-12-15   \n",
       "17  18          DC超級寵物軍團  2022-08-11   \n",
       "18  19          北齋：浮世繪傳奇  2022-08-26   \n",
       "19  20              他還年輕  2022-09-02   \n",
       "\n",
       "                                                  預告片 網友滿意度  \n",
       "0   https://movies.yahoo.com.tw/video/%E8%88%AA%E6...   3.9  \n",
       "1   https://movies.yahoo.com.tw/video/%E5%AD%90%E5...     4  \n",
       "2   https://movies.yahoo.com.tw/video/%E5%AD%A4%E5...   3.8  \n",
       "3   https://movies.yahoo.com.tw/video/%E7%B7%8A%E6...   4.3  \n",
       "4   https://movies.yahoo.com.tw/video/%E6%8D%8D%E8...   4.8  \n",
       "5                                                       4.9  \n",
       "6   https://movies.yahoo.com.tw/video/%E4%B8%89%E5...   4.3  \n",
       "7   https://movies.yahoo.com.tw/video/%E7%8D%B5%E9...   4.3  \n",
       "8   https://movies.yahoo.com.tw/video/%E5%88%9D%E6...   3.3  \n",
       "9   https://movies.yahoo.com.tw/video/%E4%B8%96%E7...     3  \n",
       "10  https://movies.yahoo.com.tw/video/%E5%8A%87%E5...   4.4  \n",
       "11  https://movies.yahoo.com.tw/video/%E6%A9%9F%E9...   4.6  \n",
       "12  https://movies.yahoo.com.tw/video/%E5%B0%8F%E5...   3.9  \n",
       "13  https://movies.yahoo.com.tw/video/%E8%8A%B1%E6...     0  \n",
       "14  https://movies.yahoo.com.tw/video/%E7%95%8C%E9...   4.5  \n",
       "15  https://movies.yahoo.com.tw/video/%E4%B8%8D-%E...   3.3  \n",
       "16  https://movies.yahoo.com.tw/video/%E6%9C%89%E9...   4.3  \n",
       "17  https://movies.yahoo.com.tw/video/dc%E8%B6%85%...   4.6  \n",
       "18  https://movies.yahoo.com.tw/video/%E5%8C%97%E9...   3.9  \n",
       "19  https://movies.yahoo.com.tw/video/%E4%BB%96%E9...   4.7  "
      ]
     },
     "execution_count": 26,
     "metadata": {},
     "output_type": "execute_result"
    }
   ],
   "source": [
    "df"
   ]
  },
  {
   "cell_type": "code",
   "execution_count": 99,
   "metadata": {},
   "outputs": [],
   "source": [
    "df.to_csv('movie_2020_0317.csv',index=False)"
   ]
  },
  {
   "cell_type": "code",
   "execution_count": null,
   "metadata": {},
   "outputs": [],
   "source": []
  }
 ],
 "metadata": {
  "colab": {
   "name": "session11_GET.ipynb",
   "provenance": []
  },
  "kernelspec": {
   "display_name": "Python 3 (ipykernel)",
   "language": "python",
   "name": "python3"
  },
  "language_info": {
   "codemirror_mode": {
    "name": "ipython",
    "version": 3
   },
   "file_extension": ".py",
   "mimetype": "text/x-python",
   "name": "python",
   "nbconvert_exporter": "python",
   "pygments_lexer": "ipython3",
   "version": "3.9.10"
  }
 },
 "nbformat": 4,
 "nbformat_minor": 4
}
