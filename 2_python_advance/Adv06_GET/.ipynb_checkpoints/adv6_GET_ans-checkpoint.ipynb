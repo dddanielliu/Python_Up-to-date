{
 "cells": [
  {
   "cell_type": "markdown",
   "metadata": {
    "colab_type": "text",
    "id": "Q2OGbziy_Nkt"
   },
   "source": [
    "# 練習\n",
    "\n",
    "- 觀察 https://movies.yahoo.com.tw/chart.html 並撰寫爬蟲程式\n",
    "- 抓取台北當週票房排行榜\n",
    "- 使用 requests + BeautifulSoup 實作\n",
    "- 透過 pandas 輸出成 csv"
   ]
  },
  {
   "cell_type": "code",
   "execution_count": 2,
   "metadata": {
    "colab": {},
    "colab_type": "code",
    "id": "n6q6geWz_Nky"
   },
   "outputs": [],
   "source": [
    "import os\n",
    "import requests\n",
    "import pandas as pd\n",
    "from bs4 import BeautifulSoup\n",
    "\n",
    "url = 'https://movies.yahoo.com.tw/chart.html'"
   ]
  },
  {
   "cell_type": "code",
   "execution_count": 3,
   "metadata": {
    "colab": {},
    "colab_type": "code",
    "id": "Qzu_Ti4z_NlC",
    "outputId": "1315616e-d6cb-4ffa-9863-99088009edc9"
   },
   "outputs": [
    {
     "data": {
      "text/plain": [
       "<Response [200]>"
      ]
     },
     "execution_count": 3,
     "metadata": {},
     "output_type": "execute_result"
    }
   ],
   "source": [
    "# 200:存取正確\n",
    "# 403:存取拒絕\n",
    "# 404:網頁不存在\n",
    "#Requests呼叫網頁用的套件/指令\n",
    "resp = requests.get(url)\n",
    "resp"
   ]
  },
  {
   "cell_type": "code",
   "execution_count": 4,
   "metadata": {},
   "outputs": [],
   "source": [
    "soup = BeautifulSoup(resp.text,'lxml')"
   ]
  },
  {
   "cell_type": "code",
   "execution_count": 6,
   "metadata": {},
   "outputs": [],
   "source": [
    "table = soup.find('div',class_=\"l_box\")"
   ]
  },
  {
   "cell_type": "code",
   "execution_count": 8,
   "metadata": {},
   "outputs": [],
   "source": [
    "column = table.find('div',class_=\"tr top\")"
   ]
  },
  {
   "cell_type": "code",
   "execution_count": 12,
   "metadata": {},
   "outputs": [],
   "source": [
    "column = column.text.split('\\n')"
   ]
  },
  {
   "cell_type": "code",
   "execution_count": 20,
   "metadata": {},
   "outputs": [],
   "source": [
    "column = [i for i in column if i!=\"\"]"
   ]
  },
  {
   "cell_type": "code",
   "execution_count": 32,
   "metadata": {},
   "outputs": [
    {
     "data": {
      "text/plain": [
       "['本週', '上週', '片名', '上映日期', '預告片', '網友滿意度']"
      ]
     },
     "execution_count": 32,
     "metadata": {},
     "output_type": "execute_result"
    }
   ],
   "source": [
    "column"
   ]
  },
  {
   "cell_type": "code",
   "execution_count": 96,
   "metadata": {},
   "outputs": [
    {
     "data": {
      "text/html": [
       "<div>\n",
       "<style scoped>\n",
       "    .dataframe tbody tr th:only-of-type {\n",
       "        vertical-align: middle;\n",
       "    }\n",
       "\n",
       "    .dataframe tbody tr th {\n",
       "        vertical-align: top;\n",
       "    }\n",
       "\n",
       "    .dataframe thead th {\n",
       "        text-align: right;\n",
       "    }\n",
       "</style>\n",
       "<table border=\"1\" class=\"dataframe\">\n",
       "  <thead>\n",
       "    <tr style=\"text-align: right;\">\n",
       "      <th></th>\n",
       "      <th>本週</th>\n",
       "      <th>上週</th>\n",
       "      <th>片名</th>\n",
       "      <th>上映日期</th>\n",
       "      <th>預告片</th>\n",
       "      <th>網友滿意度</th>\n",
       "    </tr>\n",
       "  </thead>\n",
       "  <tbody>\n",
       "  </tbody>\n",
       "</table>\n",
       "</div>"
      ],
      "text/plain": [
       "Empty DataFrame\n",
       "Columns: [本週, 上週, 片名, 上映日期, 預告片, 網友滿意度]\n",
       "Index: []"
      ]
     },
     "execution_count": 96,
     "metadata": {},
     "output_type": "execute_result"
    }
   ],
   "source": [
    "df = pd.DataFrame(columns=column)\n",
    "df"
   ]
  },
  {
   "cell_type": "code",
   "execution_count": 81,
   "metadata": {},
   "outputs": [],
   "source": [
    "this_week = table.find_all('div',class_='tr')[2].find_all('div',class_='td')[0].text\n",
    "last_week = table.find_all('div',class_='tr')[2].find_all('div',class_='td')[1].text\n",
    "# if rank ==1:\n",
    "#     name = table.find_all('div',class_='tr')[1].find_all('div',class_='td')[3].h2.text\n",
    "# else:\n",
    "name = table.find_all('div',class_='tr')[2].find_all('div',class_='td')[3].text[2:-2]\n",
    "date = table.find_all('div',class_='tr')[2].find_all('div',class_='td')[4].text\n",
    "link = table.find_all('div',class_='tr')[2].find_all('div',class_='td')[5].a['href']\n",
    "star = table.find_all('div',class_='tr')[2].find_all('div',class_='td')[6].h6.text"
   ]
  },
  {
   "cell_type": "code",
   "execution_count": 82,
   "metadata": {},
   "outputs": [
    {
     "data": {
      "text/plain": [
       "<div class=\"tr top\">\n",
       "<div class=\"td\">本週</div>\n",
       "<div class=\"td updown\"></div>\n",
       "<div class=\"td\">上週</div>\n",
       "<div class=\"td\">片名</div>\n",
       "<div class=\"td\">上映日期</div>\n",
       "<div class=\"td\">預告片</div>\n",
       "<div class=\"td\">網友滿意度</div>\n",
       "</div>"
      ]
     },
     "execution_count": 82,
     "metadata": {},
     "output_type": "execute_result"
    }
   ],
   "source": [
    "table.find_all('div',class_='tr')[0]"
   ]
  },
  {
   "cell_type": "code",
   "execution_count": 97,
   "metadata": {},
   "outputs": [],
   "source": [
    "for rank in range(1,len(table.find_all('div',class_='tr'))):\n",
    "    this_week = table.find_all('div',class_='tr')[rank].find_all('div',class_='td')[0].text\n",
    "    last_week = table.find_all('div',class_='tr')[rank].find_all('div',class_='td')[1].text\n",
    "    if rank ==1:\n",
    "        name = table.find_all('div',class_='tr')[rank].find_all('div',class_='td')[3].h2.text\n",
    "    else:\n",
    "        name = table.find_all('div',class_='tr')[rank].find_all('div',class_='td')[3].text[2:-2]\n",
    "    date = table.find_all('div',class_='tr')[rank].find_all('div',class_='td')[4].text\n",
    "    try:\n",
    "        link = table.find_all('div',class_='tr')[rank].find_all('div',class_='td')[5].a['href']\n",
    "    except TypeError:\n",
    "        link=''\n",
    "    try:\n",
    "        star = table.find_all('div',class_='tr')[rank].find_all('div',class_='td')[6].h6.text\n",
    "    except AttributeError:\n",
    "        star=''\n",
    "    df = df.append({'本週':this_week,'上週':last_week,'片名':name,'上映日期':date,'預告片':link,'網友滿意度':star},ignore_index=True)"
   ]
  },
  {
   "cell_type": "code",
   "execution_count": 99,
   "metadata": {},
   "outputs": [],
   "source": [
    "df.to_csv('movie_2020_0317.csv',index=False)"
   ]
  },
  {
   "cell_type": "code",
   "execution_count": null,
   "metadata": {},
   "outputs": [],
   "source": []
  }
 ],
 "metadata": {
  "colab": {
   "name": "session11_GET.ipynb",
   "provenance": []
  },
  "kernelspec": {
   "display_name": "Python 3 (ipykernel)",
   "language": "python",
   "name": "python3"
  },
  "language_info": {
   "codemirror_mode": {
    "name": "ipython",
    "version": 3
   },
   "file_extension": ".py",
   "mimetype": "text/x-python",
   "name": "python",
   "nbconvert_exporter": "python",
   "pygments_lexer": "ipython3",
   "version": "3.9.7"
  }
 },
 "nbformat": 4,
 "nbformat_minor": 4
}
