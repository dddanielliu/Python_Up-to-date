{
 "cells": [
  {
   "cell_type": "markdown",
   "metadata": {},
   "source": [
    "### 中文文字處理/真實資料處理"
   ]
  },
  {
   "cell_type": "code",
   "execution_count": 1,
   "metadata": {},
   "outputs": [],
   "source": [
    "import jieba\n",
    "import pandas as pd"
   ]
  },
  {
   "cell_type": "code",
   "execution_count": 2,
   "metadata": {},
   "outputs": [
    {
     "data": {
      "text/html": [
       "<div>\n",
       "<style scoped>\n",
       "    .dataframe tbody tr th:only-of-type {\n",
       "        vertical-align: middle;\n",
       "    }\n",
       "\n",
       "    .dataframe tbody tr th {\n",
       "        vertical-align: top;\n",
       "    }\n",
       "\n",
       "    .dataframe thead th {\n",
       "        text-align: right;\n",
       "    }\n",
       "</style>\n",
       "<table border=\"1\" class=\"dataframe\">\n",
       "  <thead>\n",
       "    <tr style=\"text-align: right;\">\n",
       "      <th></th>\n",
       "      <th>board</th>\n",
       "      <th>title</th>\n",
       "      <th>content</th>\n",
       "      <th>time</th>\n",
       "    </tr>\n",
       "  </thead>\n",
       "  <tbody>\n",
       "    <tr>\n",
       "      <th>0</th>\n",
       "      <td>Gossiping</td>\n",
       "      <td>[問卦] 共產黨是不是該直接宣布達爾文行動？</td>\n",
       "      <td>看來這病毒擋不住了 如果硬要對抗 勢必全面封鎖各大城市 中國經濟大海嘯 人民失去支持共黨...</td>\n",
       "      <td>2020-02-05 09:33:11</td>\n",
       "    </tr>\n",
       "    <tr>\n",
       "      <th>1</th>\n",
       "      <td>Gossiping</td>\n",
       "      <td>[問卦] 誰是台灣的Jimi Hendrix?</td>\n",
       "      <td>剛才看了好多Jimi Hendrix的現場表演  看他耍那把電吉他 真的有種人琴合一的...</td>\n",
       "      <td>2020-02-09 22:16:12</td>\n",
       "    </tr>\n",
       "    <tr>\n",
       "      <th>2</th>\n",
       "      <td>Gossiping</td>\n",
       "      <td>Re: [問卦] 剛剛記者在大聲什麼</td>\n",
       "      <td>※ 引述《wanggerger ()》之銘言： : 剛剛疾管署記者會 : 提問時間不知道哪...</td>\n",
       "      <td>2020-02-17 22:21:46</td>\n",
       "    </tr>\n",
       "    <tr>\n",
       "      <th>3</th>\n",
       "      <td>Gossiping</td>\n",
       "      <td>[問卦] 台灣的醫學系後又留學的是不是很少？</td>\n",
       "      <td>台灣最聰明的精英-念台灣的醫學系的以及畢業後醫生  也是對台灣風俗民情最了解的聰明人  是...</td>\n",
       "      <td>2020-03-24 08:05:16</td>\n",
       "    </tr>\n",
       "    <tr>\n",
       "      <th>4</th>\n",
       "      <td>Gossiping</td>\n",
       "      <td>Re: [問卦] 在家自主健身訓練有搞頭嗎</td>\n",
       "      <td>※ 引述《yun54272 ()》之銘言： : 你各位好 : 通常健身房都是簽期限的 : ...</td>\n",
       "      <td>2020-02-22 12:34:39</td>\n",
       "    </tr>\n",
       "  </tbody>\n",
       "</table>\n",
       "</div>"
      ],
      "text/plain": [
       "       board                    title  \\\n",
       "0  Gossiping   [問卦] 共產黨是不是該直接宣布達爾文行動？   \n",
       "1  Gossiping  [問卦] 誰是台灣的Jimi Hendrix?   \n",
       "2  Gossiping       Re: [問卦] 剛剛記者在大聲什麼   \n",
       "3  Gossiping   [問卦] 台灣的醫學系後又留學的是不是很少？   \n",
       "4  Gossiping    Re: [問卦] 在家自主健身訓練有搞頭嗎   \n",
       "\n",
       "                                             content                 time  \n",
       "0    看來這病毒擋不住了 如果硬要對抗 勢必全面封鎖各大城市 中國經濟大海嘯 人民失去支持共黨...  2020-02-05 09:33:11  \n",
       "1     剛才看了好多Jimi Hendrix的現場表演  看他耍那把電吉他 真的有種人琴合一的...  2020-02-09 22:16:12  \n",
       "2   ※ 引述《wanggerger ()》之銘言： : 剛剛疾管署記者會 : 提問時間不知道哪...  2020-02-17 22:21:46  \n",
       "3   台灣最聰明的精英-念台灣的醫學系的以及畢業後醫生  也是對台灣風俗民情最了解的聰明人  是...  2020-03-24 08:05:16  \n",
       "4   ※ 引述《yun54272 ()》之銘言： : 你各位好 : 通常健身房都是簽期限的 : ...  2020-02-22 12:34:39  "
      ]
     },
     "execution_count": 2,
     "metadata": {},
     "output_type": "execute_result"
    }
   ],
   "source": [
    "data = pd.read_csv('ptt_gossip_1000.csv')\n",
    "data.head()"
   ]
  },
  {
   "cell_type": "markdown",
   "metadata": {},
   "source": [
    "### Homework"
   ]
  },
  {
   "cell_type": "markdown",
   "metadata": {},
   "source": [
    "一、標題清理：八卦版標題都需要有註明類別e.x.[問卦] ，若為回覆別人文章則會有「Re:」開頭，這些提供的是額外的資訊而非實際的文字意義\n",
    "\n",
    "1.請統計各類別的文章各有幾篇? e.x.問卦幾篇、新聞幾篇 （Re回覆的請排除在計算中） (10分)\n",
    "\n",
    "2.最多人次回覆的文章是哪一個，共有幾次回覆（10分）\n",
    "\n",
    "3.將所有類別及回覆的文字部分刪掉 e.x.Re: [問卦] 剛剛記者在大聲什麼 >>  剛剛記者在大聲什麼，並存回title中 （10分）"
   ]
  },
  {
   "cell_type": "code",
   "execution_count": 3,
   "metadata": {},
   "outputs": [],
   "source": [
    "import re"
   ]
  },
  {
   "cell_type": "code",
   "execution_count": 4,
   "metadata": {},
   "outputs": [
    {
     "data": {
      "text/plain": [
       "{'[問卦]': 503, '[爆卦]': 19, '[新聞]': 139, '[政治]': 7, '[公告]': 2, '[黑特]': 1}"
      ]
     },
     "execution_count": 4,
     "metadata": {},
     "output_type": "execute_result"
    }
   ],
   "source": [
    "#1 \n",
    "title = data.title.to_list()\n",
    "\n",
    "title_type = []\n",
    "for i in title:\n",
    "    if i[:2]!='Re':\n",
    "        title_type.append((re.findall('\\[.*\\]',i))[0])\n",
    "        \n",
    "from collections import Counter\n",
    "\n",
    "count_dict = dict(Counter(title_type).items())\n",
    "count_dict\n",
    "\n",
    "#{'[問卦]': 503, '[爆卦]': 19, '[新聞]': 139, '[政治]': 7, '[公告]': 2, '[黑特]': 1}"
   ]
  },
  {
   "cell_type": "code",
   "execution_count": 5,
   "metadata": {},
   "outputs": [
    {
     "name": "stdout",
     "output_type": "stream",
     "text": [
      "[問卦] 台灣趁這波改國號！？\n",
      "[新聞] 北市聯醫傳50位醫護集體請辭 北市府說話\n",
      "[新聞] 賴香伶盼口罩每周能買7片 蘇未正面回\n"
     ]
    }
   ],
   "source": [
    "#2\n",
    "for ind in range(len(title)):\n",
    "    if title[ind][:2]=='Re':\n",
    "        title[ind]=title[ind][4:]\n",
    "\n",
    "count_dict = dict(Counter(title).items())\n",
    "for name,count in count_dict.items(): \n",
    "    if count == max(count_dict.values()):\n",
    "        print(name)\n",
    "        \n",
    "#A:下列三篇各有一篇主文跟一篇回覆"
   ]
  },
  {
   "cell_type": "code",
   "execution_count": 6,
   "metadata": {},
   "outputs": [
    {
     "data": {
      "text/html": [
       "<div>\n",
       "<style scoped>\n",
       "    .dataframe tbody tr th:only-of-type {\n",
       "        vertical-align: middle;\n",
       "    }\n",
       "\n",
       "    .dataframe tbody tr th {\n",
       "        vertical-align: top;\n",
       "    }\n",
       "\n",
       "    .dataframe thead th {\n",
       "        text-align: right;\n",
       "    }\n",
       "</style>\n",
       "<table border=\"1\" class=\"dataframe\">\n",
       "  <thead>\n",
       "    <tr style=\"text-align: right;\">\n",
       "      <th></th>\n",
       "      <th>board</th>\n",
       "      <th>title</th>\n",
       "      <th>content</th>\n",
       "      <th>time</th>\n",
       "    </tr>\n",
       "  </thead>\n",
       "  <tbody>\n",
       "    <tr>\n",
       "      <th>0</th>\n",
       "      <td>Gossiping</td>\n",
       "      <td>共產黨是不是該直接宣布達爾文行動？</td>\n",
       "      <td>看來這病毒擋不住了 如果硬要對抗 勢必全面封鎖各大城市 中國經濟大海嘯 人民失去支持共黨...</td>\n",
       "      <td>2020-02-05 09:33:11</td>\n",
       "    </tr>\n",
       "    <tr>\n",
       "      <th>1</th>\n",
       "      <td>Gossiping</td>\n",
       "      <td>誰是台灣的Jimi Hendrix?</td>\n",
       "      <td>剛才看了好多Jimi Hendrix的現場表演  看他耍那把電吉他 真的有種人琴合一的...</td>\n",
       "      <td>2020-02-09 22:16:12</td>\n",
       "    </tr>\n",
       "    <tr>\n",
       "      <th>2</th>\n",
       "      <td>Gossiping</td>\n",
       "      <td>剛剛記者在大聲什麼</td>\n",
       "      <td>※ 引述《wanggerger ()》之銘言： : 剛剛疾管署記者會 : 提問時間不知道哪...</td>\n",
       "      <td>2020-02-17 22:21:46</td>\n",
       "    </tr>\n",
       "    <tr>\n",
       "      <th>3</th>\n",
       "      <td>Gossiping</td>\n",
       "      <td>台灣的醫學系後又留學的是不是很少？</td>\n",
       "      <td>台灣最聰明的精英-念台灣的醫學系的以及畢業後醫生  也是對台灣風俗民情最了解的聰明人  是...</td>\n",
       "      <td>2020-03-24 08:05:16</td>\n",
       "    </tr>\n",
       "    <tr>\n",
       "      <th>4</th>\n",
       "      <td>Gossiping</td>\n",
       "      <td>在家自主健身訓練有搞頭嗎</td>\n",
       "      <td>※ 引述《yun54272 ()》之銘言： : 你各位好 : 通常健身房都是簽期限的 : ...</td>\n",
       "      <td>2020-02-22 12:34:39</td>\n",
       "    </tr>\n",
       "  </tbody>\n",
       "</table>\n",
       "</div>"
      ],
      "text/plain": [
       "       board                title  \\\n",
       "0  Gossiping    共產黨是不是該直接宣布達爾文行動？   \n",
       "1  Gossiping   誰是台灣的Jimi Hendrix?   \n",
       "2  Gossiping            剛剛記者在大聲什麼   \n",
       "3  Gossiping    台灣的醫學系後又留學的是不是很少？   \n",
       "4  Gossiping         在家自主健身訓練有搞頭嗎   \n",
       "\n",
       "                                             content                 time  \n",
       "0    看來這病毒擋不住了 如果硬要對抗 勢必全面封鎖各大城市 中國經濟大海嘯 人民失去支持共黨...  2020-02-05 09:33:11  \n",
       "1     剛才看了好多Jimi Hendrix的現場表演  看他耍那把電吉他 真的有種人琴合一的...  2020-02-09 22:16:12  \n",
       "2   ※ 引述《wanggerger ()》之銘言： : 剛剛疾管署記者會 : 提問時間不知道哪...  2020-02-17 22:21:46  \n",
       "3   台灣最聰明的精英-念台灣的醫學系的以及畢業後醫生  也是對台灣風俗民情最了解的聰明人  是...  2020-03-24 08:05:16  \n",
       "4   ※ 引述《yun54272 ()》之銘言： : 你各位好 : 通常健身房都是簽期限的 : ...  2020-02-22 12:34:39  "
      ]
     },
     "execution_count": 6,
     "metadata": {},
     "output_type": "execute_result"
    }
   ],
   "source": [
    "#3\n",
    "title_simple = []\n",
    "for i in title:\n",
    "    title_simple.append((re.findall('.*\\](.*)',i))[0])\n",
    "data.title = title_simple\n",
    "data.head()"
   ]
  },
  {
   "cell_type": "markdown",
   "metadata": {},
   "source": [
    "二、標題分析\n",
    "\n",
    "4.請對title做斷詞處理，並計算出現最多次的詞彙前3名（10分）\n",
    "\n",
    "5.（人工）找出10個斷詞錯誤的地方並手動修正  e.x.['大海','嘯'] >> ['大海嘯']  （10分）\n"
   ]
  },
  {
   "cell_type": "code",
   "execution_count": 7,
   "metadata": {},
   "outputs": [
    {
     "name": "stderr",
     "output_type": "stream",
     "text": [
      "Building prefix dict from the default dictionary ...\n",
      "Loading model from cache /var/folders/r8/xdrvm_2s7kj_zsbc56jz25640000gn/T/jieba.cache\n",
      "Loading model cost 0.800 seconds.\n",
      "Prefix dict has been built succesfully.\n"
     ]
    },
    {
     "data": {
      "text/plain": [
       "            1283\n",
       "？            313\n",
       "的            257\n",
       "?            156\n",
       "有            136\n",
       "嗎            128\n",
       "！             97\n",
       "：             83\n",
       "了             78\n",
       "是             75\n",
       "沒             70\n",
       "什麼            64\n",
       "「             64\n",
       "八卦            58\n",
       "在             55\n",
       "台灣            53\n",
       "是不是           51\n",
       "要             50\n",
       "為             47\n",
       "」             47\n",
       "人             46\n",
       "怎麼            41\n",
       "口罩            40\n",
       "，             39\n",
       "　             38\n",
       "被             38\n",
       "不             37\n",
       "都             35\n",
       "會             34\n",
       "武漢            30\n",
       "            ... \n",
       "怒吼             1\n",
       "R              1\n",
       "稀              1\n",
       "IU             1\n",
       "增加             1\n",
       "小池             1\n",
       "減輕             1\n",
       "不漏             1\n",
       "八掛             1\n",
       "3150           1\n",
       "圍剿             1\n",
       "上戰場            1\n",
       "反映             1\n",
       "趨勢             1\n",
       "銀              1\n",
       "哭              1\n",
       "注意             1\n",
       "最爽             1\n",
       "員              1\n",
       "橘貓             1\n",
       "生禮物            1\n",
       "日耳曼人           1\n",
       "擔心             1\n",
       "受限             1\n",
       "美日             1\n",
       "Youtuber       1\n",
       "當業務            1\n",
       "回答             1\n",
       "桃太郎            1\n",
       "小明             1\n",
       "Name: 0, Length: 4065, dtype: int64"
      ]
     },
     "execution_count": 7,
     "metadata": {},
     "output_type": "execute_result"
    }
   ],
   "source": [
    "#4\n",
    "complete_lst = []\n",
    "title_split = []\n",
    "for i in data.title:\n",
    "    title_split.append(list(jieba.cut(i)))\n",
    "    complete_lst += list(jieba.cut(i))\n",
    "\n",
    "pd.DataFrame(complete_lst)[0].value_counts()\n",
    "#的 257, 有 136 嗎 128"
   ]
  },
  {
   "cell_type": "code",
   "execution_count": 8,
   "metadata": {},
   "outputs": [
    {
     "data": {
      "text/plain": [
       "[' ', '川普', '說', '要', '暫停', '所有', '移民']"
      ]
     },
     "execution_count": 8,
     "metadata": {},
     "output_type": "execute_result"
    }
   ],
   "source": [
    "#5-1\n",
    "title_split[5].insert(2,'川普')\n",
    "title_split[5].insert(3,'說')\n",
    "title_split[5].remove('川普說')\n",
    "title_split[5]"
   ]
  },
  {
   "cell_type": "code",
   "execution_count": 9,
   "metadata": {},
   "outputs": [
    {
     "data": {
      "text/plain": [
       "[' ', '台灣', '趁', '這波', '改', '國號', '！', '？']"
      ]
     },
     "execution_count": 9,
     "metadata": {},
     "output_type": "execute_result"
    }
   ],
   "source": [
    "#5-2\n",
    "title_split[6].insert(5,'改')\n",
    "title_split[6].insert(6,'國號')\n",
    "title_split[6].remove('改國號')\n",
    "title_split[6]"
   ]
  },
  {
   "cell_type": "code",
   "execution_count": 10,
   "metadata": {},
   "outputs": [
    {
     "data": {
      "text/plain": [
       "[' ', '學校', '的', '朋友', '自製', '了', '一款', '桌遊']"
      ]
     },
     "execution_count": 10,
     "metadata": {},
     "output_type": "execute_result"
    }
   ],
   "source": [
    "#5-3\n",
    "title_split[14].insert(6,'自製')\n",
    "title_split[14].remove('自')\n",
    "title_split[14].remove('製')\n",
    "title_split[14]\n",
    "\n",
    "#請自行完成後面"
   ]
  },
  {
   "cell_type": "markdown",
   "metadata": {},
   "source": [
    "## 三、內文清理：\n",
    "\n",
    "6.所有內文裡超過一個的空白，都用一個空白取代（10分）\n",
    "\n",
    "7.引述代表內文中有引用回覆原文的內文，都會有「：」開頭，請將引述內文移除 (10分)\n",
    "\n",
    "8.內文少於30字的文章直接刪除不做分析（10分）"
   ]
  },
  {
   "cell_type": "code",
   "execution_count": 11,
   "metadata": {},
   "outputs": [],
   "source": [
    "#6\n",
    "content_correct = []\n",
    "for i in data.content:\n",
    "    if pd.notna(i):\n",
    "        content_correct.append(re.sub('\\s+',' ',i))\n",
    "    else:\n",
    "        content_correct.append('')\n",
    "data.content = content_correct"
   ]
  },
  {
   "cell_type": "code",
   "execution_count": 12,
   "metadata": {},
   "outputs": [
    {
     "data": {
      "text/plain": [
       "' ※ 引述《wanggerger ()》之銘言： : 剛剛疾管署記者會 : 提問時間不知道哪一位女記者大小聲 : 問個問題咄咄逼人 : 有他在激動什麼的八卦嗎 就急了吧 問不到想問的 這種時候有這種表現才是人的常情 人家是記者 又不是跟蟑螂一樣賤 當然可以選擇要不要舔黨 所以說蟑螂是比妓者更低賤的存在 ptt早期以前說小時不讀書 長大當妓者 但是想不到蟑螂比妓者更賤更不要臉 大概就是跟印度種姓比吠舍更賤的賤民那樣吧 大概是這樣 '"
      ]
     },
     "execution_count": 12,
     "metadata": {},
     "output_type": "execute_result"
    }
   ],
   "source": [
    "data.content[2]"
   ]
  },
  {
   "cell_type": "code",
   "execution_count": 14,
   "metadata": {},
   "outputs": [],
   "source": [
    "#7\n",
    "content_correct = []\n",
    "for single in data.content:\n",
    "    if \":\" in single:\n",
    "        temp = re.split(\"[^:] \",single)\n",
    "        temp_select = []\n",
    "        for i in range(len(temp)-1,0,-1):\n",
    "            if temp[i]!=\"\":\n",
    "                if temp[i][0]==\":\":\n",
    "                    temp_select = temp[i+1:]\n",
    "                    break\n",
    "        content_correct.append(\" \".join(temp_select))\n",
    "    else:\n",
    "        content_correct.append(single)\n",
    "data.content = content_correct\n"
   ]
  },
  {
   "cell_type": "code",
   "execution_count": 15,
   "metadata": {},
   "outputs": [],
   "source": [
    "#8\n",
    "content_correct = []\n",
    "short_ind = []\n",
    "for i in range(len(data.content)):\n",
    "    if len(data.content[i])<30:\n",
    "        short_ind.append(i)\n",
    "data = data.drop(short_ind)"
   ]
  },
  {
   "cell_type": "markdown",
   "metadata": {},
   "source": [
    "四、內文分析\n",
    "\n",
    "9.找出文字最多的一篇文章（可包含空白、標點符號及其它字元，對他做斷詞並呈現各個詞彙的出現次數） （10分）\n",
    "\n",
    "10.對所有內文做斷詞，並找出出現頻率最高前100名的詞彙，並用dictionary的格式將文字跟次數儲存起來（10分）\n"
   ]
  },
  {
   "cell_type": "code",
   "execution_count": 16,
   "metadata": {},
   "outputs": [],
   "source": [
    "data = data.reset_index()"
   ]
  },
  {
   "cell_type": "code",
   "execution_count": 22,
   "metadata": {},
   "outputs": [
    {
     "data": {
      "text/plain": [
       "的       149\n",
       "，       114\n",
       "        112\n",
       "。        75\n",
       "在        29\n",
       "了        22\n",
       "他        22\n",
       "中國       20\n",
       "政府       19\n",
       "」        18\n",
       "「        18\n",
       "和        17\n",
       "對        15\n",
       "疫情       15\n",
       "說        15\n",
       "年        13\n",
       "人        12\n",
       "是        11\n",
       "為        11\n",
       "一些       10\n",
       "輕人       10\n",
       "社群        9\n",
       "可能        9\n",
       "病毒        9\n",
       "上         9\n",
       "但         8\n",
       "他們        8\n",
       "有         8\n",
       "媒體        8\n",
       "我         8\n",
       "       ... \n",
       "世界        1\n",
       "應         1\n",
       "研究        1\n",
       "痛苦        1\n",
       "時間裡       1\n",
       "創傷        1\n",
       "需求        1\n",
       "幾名        1\n",
       "臨類        1\n",
       "帶來        1\n",
       "of        1\n",
       "現在        1\n",
       "小丑        1\n",
       "平視察       1\n",
       "主持人       1\n",
       "難         1\n",
       "嚴厲        1\n",
       "受到        1\n",
       "陳         1\n",
       "合法性       1\n",
       "發         1\n",
       "集中控制      1\n",
       "之一        1\n",
       "報         1\n",
       "平時        1\n",
       "？         1\n",
       "電視        1\n",
       "分享        1\n",
       "實習        1\n",
       "補充        1\n",
       "Name: 0, Length: 856, dtype: int64"
      ]
     },
     "execution_count": 22,
     "metadata": {},
     "output_type": "execute_result"
    }
   ],
   "source": [
    "#9\n",
    "max_ind = 0\n",
    "max_count = 0\n",
    "for i in range(len(data.content)):\n",
    "    if len(data.content[i])>max_count:\n",
    "        max_count = len(data.content[i])\n",
    "        max_ind = i\n",
    "txt = data.content[max_ind]\n",
    "word_list = list(jieba.cut(txt))\n",
    "pd.DataFrame(word_list)[0].value_counts()\n",
    "\n"
   ]
  },
  {
   "cell_type": "code",
   "execution_count": 55,
   "metadata": {},
   "outputs": [
    {
     "data": {
      "text/plain": [
       "{'的': 2784,\n",
       " '有': 1012,\n",
       " '是': 940,\n",
       " '了': 713,\n",
       " '在': 651,\n",
       " '我': 588,\n",
       " '也': 533,\n",
       " '都': 504,\n",
       " '就': 483,\n",
       " '沒': 438,\n",
       " '說': 427,\n",
       " '不': 376,\n",
       " '要': 327,\n",
       " '人': 327,\n",
       " '你': 321,\n",
       " '嗎': 301,\n",
       " '他': 280,\n",
       " '被': 276,\n",
       " '會': 255,\n",
       " '來': 233,\n",
       " '可以': 232,\n",
       " '對': 231,\n",
       " '跟': 224,\n",
       " '到': 223,\n",
       " '很': 219,\n",
       " '台灣': 216,\n",
       " '為': 201,\n",
       " '後': 195,\n",
       " '就是': 194,\n",
       " '八卦': 187,\n",
       " '好': 186,\n",
       " '但': 181,\n",
       " '去': 174,\n",
       " '看': 172,\n",
       " '一個': 167,\n",
       " '什麼': 165,\n",
       " '大家': 161,\n",
       " '上': 158,\n",
       " '讓': 149,\n",
       " '這樣': 141,\n",
       " '請': 140,\n",
       " '中國': 139,\n",
       " '口罩': 135,\n",
       " '不是': 133,\n",
       " '知道': 130,\n",
       " '啊': 130,\n",
       " '因為': 128,\n",
       " '自己': 125,\n",
       " '於': 125,\n",
       " '又': 125,\n",
       " '如果': 124,\n",
       " '還是': 119,\n",
       " '多': 118,\n",
       " '個': 117,\n",
       " '我們': 113,\n",
       " '年': 112,\n",
       " '沒有': 109,\n",
       " '吃': 105,\n",
       " '是不是': 103,\n",
       " '政府': 102,\n",
       " '中': 101,\n",
       " '所以': 100,\n",
       " '這個': 100,\n",
       " '與': 99,\n",
       " '才': 99,\n",
       " '這': 97,\n",
       " '和': 96,\n",
       " '把': 95,\n",
       " '真的': 95,\n",
       " '啦': 94,\n",
       " '從': 94,\n",
       " '比': 93,\n",
       " '怎麼': 91,\n",
       " '那': 91,\n",
       " '看到': 89,\n",
       " '得': 89,\n",
       " '他們': 89,\n",
       " '有人': 89,\n",
       " '能': 89,\n",
       " '3': 86,\n",
       " '疫情': 84,\n",
       " '更': 83,\n",
       " '做': 82,\n",
       " '但是': 81,\n",
       " '錢': 81,\n",
       " '或': 80,\n",
       " '吧': 79,\n",
       " '用': 79,\n",
       " '問題': 78,\n",
       " '再': 77,\n",
       " '病毒': 77,\n",
       " '呢': 77,\n",
       " '話': 76,\n",
       " '想': 75,\n",
       " '可能': 75,\n",
       " '應該': 75,\n",
       " '買': 74,\n",
       " '很多': 72,\n",
       " '月': 71,\n",
       " '時候': 71}"
      ]
     },
     "execution_count": 55,
     "metadata": {},
     "output_type": "execute_result"
    }
   ],
   "source": [
    "#10\n",
    "word_list = []\n",
    "for i in data.content:\n",
    "    temp = re.sub(\"[， 。？/.?、）)（(「」!！※\\-,：:=—\\\"]\",\"\",i)\n",
    "    word_list+=list(jieba.cut(temp))\n",
    "temp = pd.DataFrame(word_list)[0].value_counts()[:100].to_dict()\n",
    "temp"
   ]
  },
  {
   "cell_type": "code",
   "execution_count": null,
   "metadata": {},
   "outputs": [],
   "source": [
    "2"
   ]
  }
 ],
 "metadata": {
  "kernelspec": {
   "display_name": "Python 3",
   "language": "python",
   "name": "python3"
  },
  "language_info": {
   "codemirror_mode": {
    "name": "ipython",
    "version": 3
   },
   "file_extension": ".py",
   "mimetype": "text/x-python",
   "name": "python",
   "nbconvert_exporter": "python",
   "pygments_lexer": "ipython3",
   "version": "3.7.3"
  }
 },
 "nbformat": 4,
 "nbformat_minor": 4
}
